{
 "cells": [
  {
   "cell_type": "markdown",
   "id": "5cea8966-aaf1-4b80-b09e-cd34d7b8bbb5",
   "metadata": {
    "jp-MarkdownHeadingCollapsed": true,
    "tags": []
   },
   "source": [
    "#### Final Report: Group #21"
   ]
  },
  {
   "cell_type": "markdown",
   "id": "5729689d-af14-44c3-b5c8-5c739e1437af",
   "metadata": {},
   "source": [
    "## **Inferential Analysis on the Adoption Time of Dogs and Cats from the Austin Animal Center**\n",
    "#### _Group Members: Sadia, Youjung, Adam_"
   ]
  },
  {
   "cell_type": "markdown",
   "id": "f66bf3c7-57da-47d3-9590-20c5b73af342",
   "metadata": {},
   "source": [
    "First, let's retrieve the necessary packages."
   ]
  },
  {
   "cell_type": "code",
   "execution_count": 1,
   "id": "85b01cd2-c95c-4b74-b44c-68e8bc686857",
   "metadata": {},
   "outputs": [
    {
     "name": "stderr",
     "output_type": "stream",
     "text": [
      "Installing package into ‘/home/jupyter/R/x86_64-pc-linux-gnu-library/4.1’\n",
      "(as ‘lib’ is unspecified)\n",
      "\n",
      "Installing package into ‘/home/jupyter/R/x86_64-pc-linux-gnu-library/4.1’\n",
      "(as ‘lib’ is unspecified)\n",
      "\n",
      "Warning message in system(\"timedatectl\", intern = TRUE):\n",
      "“running command 'timedatectl' had status 1”\n",
      "── \u001b[1mAttaching packages\u001b[22m ─────────────────────────────────────── tidyverse 1.3.1 ──\n",
      "\n",
      "\u001b[32m✔\u001b[39m \u001b[34mggplot2\u001b[39m 3.3.5     \u001b[32m✔\u001b[39m \u001b[34mpurrr  \u001b[39m 0.3.4\n",
      "\u001b[32m✔\u001b[39m \u001b[34mtibble \u001b[39m 3.1.6     \u001b[32m✔\u001b[39m \u001b[34mdplyr  \u001b[39m 1.0.8\n",
      "\u001b[32m✔\u001b[39m \u001b[34mtidyr  \u001b[39m 1.2.0     \u001b[32m✔\u001b[39m \u001b[34mstringr\u001b[39m 1.4.0\n",
      "\u001b[32m✔\u001b[39m \u001b[34mreadr  \u001b[39m 2.1.2     \u001b[32m✔\u001b[39m \u001b[34mforcats\u001b[39m 0.5.1\n",
      "\n",
      "── \u001b[1mConflicts\u001b[22m ────────────────────────────────────────── tidyverse_conflicts() ──\n",
      "\u001b[31m✖\u001b[39m \u001b[34mdplyr\u001b[39m::\u001b[32mfilter()\u001b[39m masks \u001b[34mstats\u001b[39m::filter()\n",
      "\u001b[31m✖\u001b[39m \u001b[34mdplyr\u001b[39m::\u001b[32mlag()\u001b[39m    masks \u001b[34mstats\u001b[39m::lag()\n",
      "\n"
     ]
    }
   ],
   "source": [
    "install.packages(\"infer\")\n",
    "library(infer)\n",
    "install.packages(\"cowplot\")\n",
    "library(cowplot)\n",
    "library(tidyverse)"
   ]
  },
  {
   "cell_type": "markdown",
   "id": "9578a8a2-2e95-4910-bbde-fb65a18e75e8",
   "metadata": {},
   "source": [
    "## **Introduction:**"
   ]
  },
  {
   "cell_type": "markdown",
   "id": "2ea5d9d2-8a17-4f85-a02d-0686309f4fc5",
   "metadata": {},
   "source": [
    "**Question: How long does it take for cats and dogs to get adopted and are dogs adopted faster than cats are?**"
   ]
  },
  {
   "cell_type": "markdown",
   "id": "a421b651-b724-42e8-aa7a-d67a3af2e1b7",
   "metadata": {},
   "source": [
    "new intro goes here..."
   ]
  },
  {
   "cell_type": "markdown",
   "id": "11643a58-2ded-469b-a22e-65025d8b622c",
   "metadata": {},
   "source": [
    "## **Preliminary Results:**"
   ]
  },
  {
   "cell_type": "code",
   "execution_count": 2,
   "id": "191238a9-5a2c-48b6-9346-bca36ed08d38",
   "metadata": {},
   "outputs": [
    {
     "name": "stderr",
     "output_type": "stream",
     "text": [
      "\u001b[1mRows: \u001b[22m\u001b[34m142192\u001b[39m \u001b[1mColumns: \u001b[22m\u001b[34m12\u001b[39m\n",
      "\u001b[36m──\u001b[39m \u001b[1mColumn specification\u001b[22m \u001b[36m────────────────────────────────────────────────────────\u001b[39m\n",
      "\u001b[1mDelimiter:\u001b[22m \",\"\n",
      "\u001b[31mchr\u001b[39m (12): Animal ID, Name, DateTime, MonthYear, Found Location, Intake Type,...\n",
      "\n",
      "\u001b[36mℹ\u001b[39m Use `spec()` to retrieve the full column specification for this data.\n",
      "\u001b[36mℹ\u001b[39m Specify the column types or set `show_col_types = FALSE` to quiet this message.\n"
     ]
    },
    {
     "data": {
      "text/html": [
       "<table class=\"dataframe\">\n",
       "<caption>A tibble: 6 × 12</caption>\n",
       "<thead>\n",
       "\t<tr><th scope=col>Animal ID</th><th scope=col>Name</th><th scope=col>DateTime</th><th scope=col>MonthYear</th><th scope=col>Found Location</th><th scope=col>Intake Type</th><th scope=col>Intake Condition</th><th scope=col>Animal Type</th><th scope=col>Sex upon Intake</th><th scope=col>Age upon Intake</th><th scope=col>Breed</th><th scope=col>Color</th></tr>\n",
       "\t<tr><th scope=col>&lt;chr&gt;</th><th scope=col>&lt;chr&gt;</th><th scope=col>&lt;chr&gt;</th><th scope=col>&lt;chr&gt;</th><th scope=col>&lt;chr&gt;</th><th scope=col>&lt;chr&gt;</th><th scope=col>&lt;chr&gt;</th><th scope=col>&lt;chr&gt;</th><th scope=col>&lt;chr&gt;</th><th scope=col>&lt;chr&gt;</th><th scope=col>&lt;chr&gt;</th><th scope=col>&lt;chr&gt;</th></tr>\n",
       "</thead>\n",
       "<tbody>\n",
       "\t<tr><td>A786884</td><td>*Brock </td><td>01/03/2019 04:19:00 PM</td><td>January 2019 </td><td>2501 Magin Meadow Dr in Austin (TX)</td><td>Stray          </td><td>Normal</td><td>Dog</td><td>Neutered Male</td><td>2 years  </td><td>Beagle Mix                           </td><td>Tricolor   </td></tr>\n",
       "\t<tr><td>A706918</td><td>Belle  </td><td>07/05/2015 12:59:00 PM</td><td>July 2015    </td><td>9409 Bluegrass Dr in Austin (TX)   </td><td>Stray          </td><td>Normal</td><td>Dog</td><td>Spayed Female</td><td>8 years  </td><td>English Springer Spaniel             </td><td>White/Liver</td></tr>\n",
       "\t<tr><td>A724273</td><td>Runster</td><td>04/14/2016 06:43:00 PM</td><td>April 2016   </td><td>2818 Palomino Trail in Austin (TX) </td><td>Stray          </td><td>Normal</td><td>Dog</td><td>Intact Male  </td><td>11 months</td><td>Basenji Mix                          </td><td>Sable/White</td></tr>\n",
       "\t<tr><td>A665644</td><td>NA     </td><td>10/21/2013 07:59:00 AM</td><td>October 2013 </td><td>Austin (TX)                        </td><td>Stray          </td><td>Sick  </td><td>Cat</td><td>Intact Female</td><td>4 weeks  </td><td>Domestic Shorthair Mix               </td><td>Calico     </td></tr>\n",
       "\t<tr><td>A682524</td><td>Rio    </td><td>06/29/2014 10:38:00 AM</td><td>June 2014    </td><td>800 Grove Blvd in Austin (TX)      </td><td>Stray          </td><td>Normal</td><td>Dog</td><td>Neutered Male</td><td>4 years  </td><td>Doberman Pinsch/Australian Cattle Dog</td><td>Tan/Gray   </td></tr>\n",
       "\t<tr><td>A743852</td><td>Odin   </td><td>02/18/2017 12:46:00 PM</td><td>February 2017</td><td>Austin (TX)                        </td><td>Owner Surrender</td><td>Normal</td><td>Dog</td><td>Neutered Male</td><td>2 years  </td><td>Labrador Retriever Mix               </td><td>Chocolate  </td></tr>\n",
       "</tbody>\n",
       "</table>\n"
      ],
      "text/latex": [
       "A tibble: 6 × 12\n",
       "\\begin{tabular}{llllllllllll}\n",
       " Animal ID & Name & DateTime & MonthYear & Found Location & Intake Type & Intake Condition & Animal Type & Sex upon Intake & Age upon Intake & Breed & Color\\\\\n",
       " <chr> & <chr> & <chr> & <chr> & <chr> & <chr> & <chr> & <chr> & <chr> & <chr> & <chr> & <chr>\\\\\n",
       "\\hline\n",
       "\t A786884 & *Brock  & 01/03/2019 04:19:00 PM & January 2019  & 2501 Magin Meadow Dr in Austin (TX) & Stray           & Normal & Dog & Neutered Male & 2 years   & Beagle Mix                            & Tricolor   \\\\\n",
       "\t A706918 & Belle   & 07/05/2015 12:59:00 PM & July 2015     & 9409 Bluegrass Dr in Austin (TX)    & Stray           & Normal & Dog & Spayed Female & 8 years   & English Springer Spaniel              & White/Liver\\\\\n",
       "\t A724273 & Runster & 04/14/2016 06:43:00 PM & April 2016    & 2818 Palomino Trail in Austin (TX)  & Stray           & Normal & Dog & Intact Male   & 11 months & Basenji Mix                           & Sable/White\\\\\n",
       "\t A665644 & NA      & 10/21/2013 07:59:00 AM & October 2013  & Austin (TX)                         & Stray           & Sick   & Cat & Intact Female & 4 weeks   & Domestic Shorthair Mix                & Calico     \\\\\n",
       "\t A682524 & Rio     & 06/29/2014 10:38:00 AM & June 2014     & 800 Grove Blvd in Austin (TX)       & Stray           & Normal & Dog & Neutered Male & 4 years   & Doberman Pinsch/Australian Cattle Dog & Tan/Gray   \\\\\n",
       "\t A743852 & Odin    & 02/18/2017 12:46:00 PM & February 2017 & Austin (TX)                         & Owner Surrender & Normal & Dog & Neutered Male & 2 years   & Labrador Retriever Mix                & Chocolate  \\\\\n",
       "\\end{tabular}\n"
      ],
      "text/markdown": [
       "\n",
       "A tibble: 6 × 12\n",
       "\n",
       "| Animal ID &lt;chr&gt; | Name &lt;chr&gt; | DateTime &lt;chr&gt; | MonthYear &lt;chr&gt; | Found Location &lt;chr&gt; | Intake Type &lt;chr&gt; | Intake Condition &lt;chr&gt; | Animal Type &lt;chr&gt; | Sex upon Intake &lt;chr&gt; | Age upon Intake &lt;chr&gt; | Breed &lt;chr&gt; | Color &lt;chr&gt; |\n",
       "|---|---|---|---|---|---|---|---|---|---|---|---|\n",
       "| A786884 | *Brock  | 01/03/2019 04:19:00 PM | January 2019  | 2501 Magin Meadow Dr in Austin (TX) | Stray           | Normal | Dog | Neutered Male | 2 years   | Beagle Mix                            | Tricolor    |\n",
       "| A706918 | Belle   | 07/05/2015 12:59:00 PM | July 2015     | 9409 Bluegrass Dr in Austin (TX)    | Stray           | Normal | Dog | Spayed Female | 8 years   | English Springer Spaniel              | White/Liver |\n",
       "| A724273 | Runster | 04/14/2016 06:43:00 PM | April 2016    | 2818 Palomino Trail in Austin (TX)  | Stray           | Normal | Dog | Intact Male   | 11 months | Basenji Mix                           | Sable/White |\n",
       "| A665644 | NA      | 10/21/2013 07:59:00 AM | October 2013  | Austin (TX)                         | Stray           | Sick   | Cat | Intact Female | 4 weeks   | Domestic Shorthair Mix                | Calico      |\n",
       "| A682524 | Rio     | 06/29/2014 10:38:00 AM | June 2014     | 800 Grove Blvd in Austin (TX)       | Stray           | Normal | Dog | Neutered Male | 4 years   | Doberman Pinsch/Australian Cattle Dog | Tan/Gray    |\n",
       "| A743852 | Odin    | 02/18/2017 12:46:00 PM | February 2017 | Austin (TX)                         | Owner Surrender | Normal | Dog | Neutered Male | 2 years   | Labrador Retriever Mix                | Chocolate   |\n",
       "\n"
      ],
      "text/plain": [
       "  Animal ID Name    DateTime               MonthYear    \n",
       "1 A786884   *Brock  01/03/2019 04:19:00 PM January 2019 \n",
       "2 A706918   Belle   07/05/2015 12:59:00 PM July 2015    \n",
       "3 A724273   Runster 04/14/2016 06:43:00 PM April 2016   \n",
       "4 A665644   NA      10/21/2013 07:59:00 AM October 2013 \n",
       "5 A682524   Rio     06/29/2014 10:38:00 AM June 2014    \n",
       "6 A743852   Odin    02/18/2017 12:46:00 PM February 2017\n",
       "  Found Location                      Intake Type     Intake Condition\n",
       "1 2501 Magin Meadow Dr in Austin (TX) Stray           Normal          \n",
       "2 9409 Bluegrass Dr in Austin (TX)    Stray           Normal          \n",
       "3 2818 Palomino Trail in Austin (TX)  Stray           Normal          \n",
       "4 Austin (TX)                         Stray           Sick            \n",
       "5 800 Grove Blvd in Austin (TX)       Stray           Normal          \n",
       "6 Austin (TX)                         Owner Surrender Normal          \n",
       "  Animal Type Sex upon Intake Age upon Intake\n",
       "1 Dog         Neutered Male   2 years        \n",
       "2 Dog         Spayed Female   8 years        \n",
       "3 Dog         Intact Male     11 months      \n",
       "4 Cat         Intact Female   4 weeks        \n",
       "5 Dog         Neutered Male   4 years        \n",
       "6 Dog         Neutered Male   2 years        \n",
       "  Breed                                 Color      \n",
       "1 Beagle Mix                            Tricolor   \n",
       "2 English Springer Spaniel              White/Liver\n",
       "3 Basenji Mix                           Sable/White\n",
       "4 Domestic Shorthair Mix                Calico     \n",
       "5 Doberman Pinsch/Australian Cattle Dog Tan/Gray   \n",
       "6 Labrador Retriever Mix                Chocolate  "
      ]
     },
     "metadata": {},
     "output_type": "display_data"
    },
    {
     "name": "stderr",
     "output_type": "stream",
     "text": [
      "\u001b[1mRows: \u001b[22m\u001b[34m141980\u001b[39m \u001b[1mColumns: \u001b[22m\u001b[34m12\u001b[39m\n",
      "\u001b[36m──\u001b[39m \u001b[1mColumn specification\u001b[22m \u001b[36m────────────────────────────────────────────────────────\u001b[39m\n",
      "\u001b[1mDelimiter:\u001b[22m \",\"\n",
      "\u001b[31mchr\u001b[39m (12): Animal ID, Name, DateTime, MonthYear, Date of Birth, Outcome Type,...\n",
      "\n",
      "\u001b[36mℹ\u001b[39m Use `spec()` to retrieve the full column specification for this data.\n",
      "\u001b[36mℹ\u001b[39m Specify the column types or set `show_col_types = FALSE` to quiet this message.\n"
     ]
    },
    {
     "data": {
      "text/html": [
       "<table class=\"dataframe\">\n",
       "<caption>A tibble: 6 × 12</caption>\n",
       "<thead>\n",
       "\t<tr><th scope=col>Animal ID</th><th scope=col>Name</th><th scope=col>DateTime</th><th scope=col>MonthYear</th><th scope=col>Date of Birth</th><th scope=col>Outcome Type</th><th scope=col>Outcome Subtype</th><th scope=col>Animal Type</th><th scope=col>Sex upon Outcome</th><th scope=col>Age upon Outcome</th><th scope=col>Breed</th><th scope=col>Color</th></tr>\n",
       "\t<tr><th scope=col>&lt;chr&gt;</th><th scope=col>&lt;chr&gt;</th><th scope=col>&lt;chr&gt;</th><th scope=col>&lt;chr&gt;</th><th scope=col>&lt;chr&gt;</th><th scope=col>&lt;chr&gt;</th><th scope=col>&lt;chr&gt;</th><th scope=col>&lt;chr&gt;</th><th scope=col>&lt;chr&gt;</th><th scope=col>&lt;chr&gt;</th><th scope=col>&lt;chr&gt;</th><th scope=col>&lt;chr&gt;</th></tr>\n",
       "</thead>\n",
       "<tbody>\n",
       "\t<tr><td>A794011</td><td>Chunk   </td><td>05/08/2019 06:20:00 PM</td><td>May 2019</td><td>05/02/2017</td><td>Rto-Adopt </td><td>NA     </td><td>Cat  </td><td>Neutered Male</td><td>2 years </td><td>Domestic Shorthair Mix            </td><td>Brown Tabby/White</td></tr>\n",
       "\t<tr><td>A776359</td><td>Gizmo   </td><td>07/18/2018 04:02:00 PM</td><td>Jul 2018</td><td>07/12/2017</td><td>Adoption  </td><td>NA     </td><td>Dog  </td><td>Neutered Male</td><td>1 year  </td><td>Chihuahua Shorthair Mix           </td><td>White/Brown      </td></tr>\n",
       "\t<tr><td>A821648</td><td>NA      </td><td>08/16/2020 11:38:00 AM</td><td>Aug 2020</td><td>08/16/2019</td><td>Euthanasia</td><td>NA     </td><td>Other</td><td>Unknown      </td><td>1 year  </td><td>Raccoon                           </td><td>Gray             </td></tr>\n",
       "\t<tr><td>A720371</td><td>Moose   </td><td>02/13/2016 05:59:00 PM</td><td>Feb 2016</td><td>10/08/2015</td><td>Adoption  </td><td>NA     </td><td>Dog  </td><td>Neutered Male</td><td>4 months</td><td>Anatol Shepherd/Labrador Retriever</td><td>Buff             </td></tr>\n",
       "\t<tr><td>A674754</td><td>NA      </td><td>03/18/2014 11:47:00 AM</td><td>Mar 2014</td><td>03/12/2014</td><td>Transfer  </td><td>Partner</td><td>Cat  </td><td>Intact Male  </td><td>6 days  </td><td>Domestic Shorthair Mix            </td><td>Orange Tabby     </td></tr>\n",
       "\t<tr><td>A659412</td><td>Princess</td><td>10/05/2020 02:37:00 PM</td><td>Oct 2020</td><td>03/24/2013</td><td>Adoption  </td><td>NA     </td><td>Dog  </td><td>Spayed Female</td><td>7 years </td><td>Chihuahua Shorthair Mix           </td><td>Brown            </td></tr>\n",
       "</tbody>\n",
       "</table>\n"
      ],
      "text/latex": [
       "A tibble: 6 × 12\n",
       "\\begin{tabular}{llllllllllll}\n",
       " Animal ID & Name & DateTime & MonthYear & Date of Birth & Outcome Type & Outcome Subtype & Animal Type & Sex upon Outcome & Age upon Outcome & Breed & Color\\\\\n",
       " <chr> & <chr> & <chr> & <chr> & <chr> & <chr> & <chr> & <chr> & <chr> & <chr> & <chr> & <chr>\\\\\n",
       "\\hline\n",
       "\t A794011 & Chunk    & 05/08/2019 06:20:00 PM & May 2019 & 05/02/2017 & Rto-Adopt  & NA      & Cat   & Neutered Male & 2 years  & Domestic Shorthair Mix             & Brown Tabby/White\\\\\n",
       "\t A776359 & Gizmo    & 07/18/2018 04:02:00 PM & Jul 2018 & 07/12/2017 & Adoption   & NA      & Dog   & Neutered Male & 1 year   & Chihuahua Shorthair Mix            & White/Brown      \\\\\n",
       "\t A821648 & NA       & 08/16/2020 11:38:00 AM & Aug 2020 & 08/16/2019 & Euthanasia & NA      & Other & Unknown       & 1 year   & Raccoon                            & Gray             \\\\\n",
       "\t A720371 & Moose    & 02/13/2016 05:59:00 PM & Feb 2016 & 10/08/2015 & Adoption   & NA      & Dog   & Neutered Male & 4 months & Anatol Shepherd/Labrador Retriever & Buff             \\\\\n",
       "\t A674754 & NA       & 03/18/2014 11:47:00 AM & Mar 2014 & 03/12/2014 & Transfer   & Partner & Cat   & Intact Male   & 6 days   & Domestic Shorthair Mix             & Orange Tabby     \\\\\n",
       "\t A659412 & Princess & 10/05/2020 02:37:00 PM & Oct 2020 & 03/24/2013 & Adoption   & NA      & Dog   & Spayed Female & 7 years  & Chihuahua Shorthair Mix            & Brown            \\\\\n",
       "\\end{tabular}\n"
      ],
      "text/markdown": [
       "\n",
       "A tibble: 6 × 12\n",
       "\n",
       "| Animal ID &lt;chr&gt; | Name &lt;chr&gt; | DateTime &lt;chr&gt; | MonthYear &lt;chr&gt; | Date of Birth &lt;chr&gt; | Outcome Type &lt;chr&gt; | Outcome Subtype &lt;chr&gt; | Animal Type &lt;chr&gt; | Sex upon Outcome &lt;chr&gt; | Age upon Outcome &lt;chr&gt; | Breed &lt;chr&gt; | Color &lt;chr&gt; |\n",
       "|---|---|---|---|---|---|---|---|---|---|---|---|\n",
       "| A794011 | Chunk    | 05/08/2019 06:20:00 PM | May 2019 | 05/02/2017 | Rto-Adopt  | NA      | Cat   | Neutered Male | 2 years  | Domestic Shorthair Mix             | Brown Tabby/White |\n",
       "| A776359 | Gizmo    | 07/18/2018 04:02:00 PM | Jul 2018 | 07/12/2017 | Adoption   | NA      | Dog   | Neutered Male | 1 year   | Chihuahua Shorthair Mix            | White/Brown       |\n",
       "| A821648 | NA       | 08/16/2020 11:38:00 AM | Aug 2020 | 08/16/2019 | Euthanasia | NA      | Other | Unknown       | 1 year   | Raccoon                            | Gray              |\n",
       "| A720371 | Moose    | 02/13/2016 05:59:00 PM | Feb 2016 | 10/08/2015 | Adoption   | NA      | Dog   | Neutered Male | 4 months | Anatol Shepherd/Labrador Retriever | Buff              |\n",
       "| A674754 | NA       | 03/18/2014 11:47:00 AM | Mar 2014 | 03/12/2014 | Transfer   | Partner | Cat   | Intact Male   | 6 days   | Domestic Shorthair Mix             | Orange Tabby      |\n",
       "| A659412 | Princess | 10/05/2020 02:37:00 PM | Oct 2020 | 03/24/2013 | Adoption   | NA      | Dog   | Spayed Female | 7 years  | Chihuahua Shorthair Mix            | Brown             |\n",
       "\n"
      ],
      "text/plain": [
       "  Animal ID Name     DateTime               MonthYear Date of Birth\n",
       "1 A794011   Chunk    05/08/2019 06:20:00 PM May 2019  05/02/2017   \n",
       "2 A776359   Gizmo    07/18/2018 04:02:00 PM Jul 2018  07/12/2017   \n",
       "3 A821648   NA       08/16/2020 11:38:00 AM Aug 2020  08/16/2019   \n",
       "4 A720371   Moose    02/13/2016 05:59:00 PM Feb 2016  10/08/2015   \n",
       "5 A674754   NA       03/18/2014 11:47:00 AM Mar 2014  03/12/2014   \n",
       "6 A659412   Princess 10/05/2020 02:37:00 PM Oct 2020  03/24/2013   \n",
       "  Outcome Type Outcome Subtype Animal Type Sex upon Outcome Age upon Outcome\n",
       "1 Rto-Adopt    NA              Cat         Neutered Male    2 years         \n",
       "2 Adoption     NA              Dog         Neutered Male    1 year          \n",
       "3 Euthanasia   NA              Other       Unknown          1 year          \n",
       "4 Adoption     NA              Dog         Neutered Male    4 months        \n",
       "5 Transfer     Partner         Cat         Intact Male      6 days          \n",
       "6 Adoption     NA              Dog         Spayed Female    7 years         \n",
       "  Breed                              Color            \n",
       "1 Domestic Shorthair Mix             Brown Tabby/White\n",
       "2 Chihuahua Shorthair Mix            White/Brown      \n",
       "3 Raccoon                            Gray             \n",
       "4 Anatol Shepherd/Labrador Retriever Buff             \n",
       "5 Domestic Shorthair Mix             Orange Tabby     \n",
       "6 Chihuahua Shorthair Mix            Brown            "
      ]
     },
     "metadata": {},
     "output_type": "display_data"
    }
   ],
   "source": [
    "#Source of datasets\n",
    "intakes <- \"https://raw.githubusercontent.com/adagfs/Stat_201_Group_Project/main/Austin_Animal_Center_Intakes.csv\"\n",
    "outcomes <- \"https://raw.githubusercontent.com/adagfs/Stat_201_Group_Project/main/Austin_Animal_Center_Outcomes.csv\"\n",
    "\n",
    "#Reading and displaying data sets\n",
    "animal_intakes <- read_csv(intakes)\n",
    "head(animal_intakes)\n",
    "\n",
    "animal_outcomes <- read_csv(outcomes)\n",
    "head(animal_outcomes)"
   ]
  },
  {
   "cell_type": "markdown",
   "id": "e6fc2fc5-abb8-497c-92d5-7db247940dbe",
   "metadata": {},
   "source": [
    "In order to analyze the datasets, we must first tidy it. This included changing column names, filtering rows, and selecting columns relevant to later analysis."
   ]
  },
  {
   "cell_type": "code",
   "execution_count": 3,
   "id": "affbb08a-f921-443d-b193-cf9b04905fec",
   "metadata": {},
   "outputs": [
    {
     "data": {
      "text/html": [
       "<table class=\"dataframe\">\n",
       "<caption>A tibble: 6 × 3</caption>\n",
       "<thead>\n",
       "\t<tr><th scope=col>Animal_ID</th><th scope=col>Animal_Type</th><th scope=col>DateTime_Intake</th></tr>\n",
       "\t<tr><th scope=col>&lt;chr&gt;</th><th scope=col>&lt;chr&gt;</th><th scope=col>&lt;chr&gt;</th></tr>\n",
       "</thead>\n",
       "<tbody>\n",
       "\t<tr><td>A786884</td><td>Dog</td><td>01/03/2019 04:19:00 PM</td></tr>\n",
       "\t<tr><td>A706918</td><td>Dog</td><td>07/05/2015 12:59:00 PM</td></tr>\n",
       "\t<tr><td>A724273</td><td>Dog</td><td>04/14/2016 06:43:00 PM</td></tr>\n",
       "\t<tr><td>A665644</td><td>Cat</td><td>10/21/2013 07:59:00 AM</td></tr>\n",
       "\t<tr><td>A682524</td><td>Dog</td><td>06/29/2014 10:38:00 AM</td></tr>\n",
       "\t<tr><td>A743852</td><td>Dog</td><td>02/18/2017 12:46:00 PM</td></tr>\n",
       "</tbody>\n",
       "</table>\n"
      ],
      "text/latex": [
       "A tibble: 6 × 3\n",
       "\\begin{tabular}{lll}\n",
       " Animal\\_ID & Animal\\_Type & DateTime\\_Intake\\\\\n",
       " <chr> & <chr> & <chr>\\\\\n",
       "\\hline\n",
       "\t A786884 & Dog & 01/03/2019 04:19:00 PM\\\\\n",
       "\t A706918 & Dog & 07/05/2015 12:59:00 PM\\\\\n",
       "\t A724273 & Dog & 04/14/2016 06:43:00 PM\\\\\n",
       "\t A665644 & Cat & 10/21/2013 07:59:00 AM\\\\\n",
       "\t A682524 & Dog & 06/29/2014 10:38:00 AM\\\\\n",
       "\t A743852 & Dog & 02/18/2017 12:46:00 PM\\\\\n",
       "\\end{tabular}\n"
      ],
      "text/markdown": [
       "\n",
       "A tibble: 6 × 3\n",
       "\n",
       "| Animal_ID &lt;chr&gt; | Animal_Type &lt;chr&gt; | DateTime_Intake &lt;chr&gt; |\n",
       "|---|---|---|\n",
       "| A786884 | Dog | 01/03/2019 04:19:00 PM |\n",
       "| A706918 | Dog | 07/05/2015 12:59:00 PM |\n",
       "| A724273 | Dog | 04/14/2016 06:43:00 PM |\n",
       "| A665644 | Cat | 10/21/2013 07:59:00 AM |\n",
       "| A682524 | Dog | 06/29/2014 10:38:00 AM |\n",
       "| A743852 | Dog | 02/18/2017 12:46:00 PM |\n",
       "\n"
      ],
      "text/plain": [
       "  Animal_ID Animal_Type DateTime_Intake       \n",
       "1 A786884   Dog         01/03/2019 04:19:00 PM\n",
       "2 A706918   Dog         07/05/2015 12:59:00 PM\n",
       "3 A724273   Dog         04/14/2016 06:43:00 PM\n",
       "4 A665644   Cat         10/21/2013 07:59:00 AM\n",
       "5 A682524   Dog         06/29/2014 10:38:00 AM\n",
       "6 A743852   Dog         02/18/2017 12:46:00 PM"
      ]
     },
     "metadata": {},
     "output_type": "display_data"
    },
    {
     "data": {
      "text/html": [
       "<table class=\"dataframe\">\n",
       "<caption>A tibble: 6 × 2</caption>\n",
       "<thead>\n",
       "\t<tr><th scope=col>Animal_ID</th><th scope=col>DateTime_Outcome</th></tr>\n",
       "\t<tr><th scope=col>&lt;chr&gt;</th><th scope=col>&lt;chr&gt;</th></tr>\n",
       "</thead>\n",
       "<tbody>\n",
       "\t<tr><td>A776359</td><td>07/18/2018 04:02:00 PM</td></tr>\n",
       "\t<tr><td>A720371</td><td>02/13/2016 05:59:00 PM</td></tr>\n",
       "\t<tr><td>A659412</td><td>10/05/2020 02:37:00 PM</td></tr>\n",
       "\t<tr><td>A814515</td><td>05/06/2020 07:59:00 AM</td></tr>\n",
       "\t<tr><td>A689724</td><td>10/18/2014 06:52:00 PM</td></tr>\n",
       "\t<tr><td>A680969</td><td>08/05/2014 04:59:00 PM</td></tr>\n",
       "</tbody>\n",
       "</table>\n"
      ],
      "text/latex": [
       "A tibble: 6 × 2\n",
       "\\begin{tabular}{ll}\n",
       " Animal\\_ID & DateTime\\_Outcome\\\\\n",
       " <chr> & <chr>\\\\\n",
       "\\hline\n",
       "\t A776359 & 07/18/2018 04:02:00 PM\\\\\n",
       "\t A720371 & 02/13/2016 05:59:00 PM\\\\\n",
       "\t A659412 & 10/05/2020 02:37:00 PM\\\\\n",
       "\t A814515 & 05/06/2020 07:59:00 AM\\\\\n",
       "\t A689724 & 10/18/2014 06:52:00 PM\\\\\n",
       "\t A680969 & 08/05/2014 04:59:00 PM\\\\\n",
       "\\end{tabular}\n"
      ],
      "text/markdown": [
       "\n",
       "A tibble: 6 × 2\n",
       "\n",
       "| Animal_ID &lt;chr&gt; | DateTime_Outcome &lt;chr&gt; |\n",
       "|---|---|\n",
       "| A776359 | 07/18/2018 04:02:00 PM |\n",
       "| A720371 | 02/13/2016 05:59:00 PM |\n",
       "| A659412 | 10/05/2020 02:37:00 PM |\n",
       "| A814515 | 05/06/2020 07:59:00 AM |\n",
       "| A689724 | 10/18/2014 06:52:00 PM |\n",
       "| A680969 | 08/05/2014 04:59:00 PM |\n",
       "\n"
      ],
      "text/plain": [
       "  Animal_ID DateTime_Outcome      \n",
       "1 A776359   07/18/2018 04:02:00 PM\n",
       "2 A720371   02/13/2016 05:59:00 PM\n",
       "3 A659412   10/05/2020 02:37:00 PM\n",
       "4 A814515   05/06/2020 07:59:00 AM\n",
       "5 A689724   10/18/2014 06:52:00 PM\n",
       "6 A680969   08/05/2014 04:59:00 PM"
      ]
     },
     "metadata": {},
     "output_type": "display_data"
    }
   ],
   "source": [
    "#Renaming columns so that they can be read in R. Column names with spaces cannot be easily read.\n",
    "names(animal_intakes)<-str_replace_all(names(animal_intakes), c(\" \" = \"_\" , \",\" = \"\" ))\n",
    "names(animal_outcomes)<-str_replace_all(names(animal_outcomes), c(\" \" = \"_\" , \",\" = \"\" ))\n",
    "\n",
    "#Filtering Intake dataset for useful data and selecting relevant columns\n",
    "tidy_animal_intakes <- animal_intakes %>%\n",
    "    filter(Animal_Type%in%c(\"Dog\", \"Cat\")) %>%\n",
    "    dplyr::rename(DateTime_Intake = DateTime) %>%\n",
    "    select(Animal_ID, Animal_Type, DateTime_Intake)\n",
    "\n",
    "#Filtering Outcome dataset for useful data and selecting relevant columns\n",
    "tidy_animal_outcomes <- animal_outcomes %>%\n",
    "    filter(Animal_Type%in%c(\"Dog\", \"Cat\") & Outcome_Type == \"Adoption\") %>%\n",
    "    dplyr::rename(DateTime_Outcome = DateTime) %>%\n",
    "    select(Animal_ID, DateTime_Outcome)\n",
    "\n",
    "\n",
    "head(tidy_animal_intakes)\n",
    "head(tidy_animal_outcomes)"
   ]
  },
  {
   "cell_type": "markdown",
   "id": "291e395c-b322-4a58-baf4-a819a2c5b18f",
   "metadata": {},
   "source": [
    "To get time spent at the shelter, the two datasets were first combined using Animal_ID, and then filtered."
   ]
  },
  {
   "cell_type": "code",
   "execution_count": 4,
   "id": "921ba5e9-2a00-49d1-bfd5-b3851119fc13",
   "metadata": {},
   "outputs": [
    {
     "data": {
      "text/html": [
       "<table class=\"dataframe\">\n",
       "<caption>A data.frame: 6 × 2</caption>\n",
       "<thead>\n",
       "\t<tr><th></th><th scope=col>Animal_Type</th><th scope=col>Shelter_Period</th></tr>\n",
       "\t<tr><th></th><th scope=col>&lt;chr&gt;</th><th scope=col>&lt;dbl&gt;</th></tr>\n",
       "</thead>\n",
       "<tbody>\n",
       "\t<tr><th scope=row>1</th><td>Dog</td><td> 50</td></tr>\n",
       "\t<tr><th scope=row>2</th><td>Dog</td><td>  9</td></tr>\n",
       "\t<tr><th scope=row>3</th><td>Dog</td><td> 23</td></tr>\n",
       "\t<tr><th scope=row>4</th><td>Dog</td><td> 90</td></tr>\n",
       "\t<tr><th scope=row>5</th><td>Dog</td><td>  3</td></tr>\n",
       "\t<tr><th scope=row>6</th><td>Dog</td><td>147</td></tr>\n",
       "</tbody>\n",
       "</table>\n"
      ],
      "text/latex": [
       "A data.frame: 6 × 2\n",
       "\\begin{tabular}{r|ll}\n",
       "  & Animal\\_Type & Shelter\\_Period\\\\\n",
       "  & <chr> & <dbl>\\\\\n",
       "\\hline\n",
       "\t1 & Dog &  50\\\\\n",
       "\t2 & Dog &   9\\\\\n",
       "\t3 & Dog &  23\\\\\n",
       "\t4 & Dog &  90\\\\\n",
       "\t5 & Dog &   3\\\\\n",
       "\t6 & Dog & 147\\\\\n",
       "\\end{tabular}\n"
      ],
      "text/markdown": [
       "\n",
       "A data.frame: 6 × 2\n",
       "\n",
       "| <!--/--> | Animal_Type &lt;chr&gt; | Shelter_Period &lt;dbl&gt; |\n",
       "|---|---|---|\n",
       "| 1 | Dog |  50 |\n",
       "| 2 | Dog |   9 |\n",
       "| 3 | Dog |  23 |\n",
       "| 4 | Dog |  90 |\n",
       "| 5 | Dog |   3 |\n",
       "| 6 | Dog | 147 |\n",
       "\n"
      ],
      "text/plain": [
       "  Animal_Type Shelter_Period\n",
       "1 Dog          50           \n",
       "2 Dog           9           \n",
       "3 Dog          23           \n",
       "4 Dog          90           \n",
       "5 Dog           3           \n",
       "6 Dog         147           "
      ]
     },
     "metadata": {},
     "output_type": "display_data"
    }
   ],
   "source": [
    "#Merge Intake and Outcome Datasets. Using DateTime_Outcome and DateTime_Intake, Shelter_Period was calculated.\n",
    "adoption_time_data <- merge(tidy_animal_intakes,tidy_animal_outcomes, by=\"Animal_ID\") %>%\n",
    "    filter(!is.na(DateTime_Outcome)) %>%\n",
    "    mutate(DateTime_Outcome = as.Date(DateTime_Outcome, format = \"%m/%d/%Y\"),\n",
    "          DateTime_Intake = as.Date(DateTime_Intake, format = \"%m/%d/%Y\"),\n",
    "          Shelter_Period = as.numeric(difftime(DateTime_Outcome, DateTime_Intake, unit = \"days\"))) %>%\n",
    "#Negative numbers were animals returned to the shelter, not relevant to our analysis\n",
    "    filter(Shelter_Period >= 0) %>%\n",
    "    select(Animal_Type, Shelter_Period)\n",
    "\n",
    "head(adoption_time_data)"
   ]
  },
  {
   "cell_type": "markdown",
   "id": "60695771-54b4-43ef-9fa5-9b1f64d71365",
   "metadata": {},
   "source": [
    "**_Table 1: Tidy Dog and Cat Shelter Period Data_**"
   ]
  },
  {
   "cell_type": "markdown",
   "id": "a6e10277-ea68-4ddb-b4b9-8bf1e8314344",
   "metadata": {},
   "source": [
    "In order to analyze the data, samples of size 200 were created for dogs and cats. We decided on sample size of 200 because it is a common size taken in real-life studies. "
   ]
  },
  {
   "cell_type": "code",
   "execution_count": 5,
   "id": "75316dba-0507-4909-9f5d-bba9b5251e4e",
   "metadata": {},
   "outputs": [
    {
     "data": {
      "text/html": [
       "'Dog median for 200 samples: 10.00'"
      ],
      "text/latex": [
       "'Dog median for 200 samples: 10.00'"
      ],
      "text/markdown": [
       "'Dog median for 200 samples: 10.00'"
      ],
      "text/plain": [
       "[1] \"Dog median for 200 samples: 10.00\""
      ]
     },
     "metadata": {},
     "output_type": "display_data"
    },
    {
     "data": {
      "text/html": [
       "'Cat median for 200 samples: 33.50'"
      ],
      "text/latex": [
       "'Cat median for 200 samples: 33.50'"
      ],
      "text/markdown": [
       "'Cat median for 200 samples: 33.50'"
      ],
      "text/plain": [
       "[1] \"Cat median for 200 samples: 33.50\""
      ]
     },
     "metadata": {},
     "output_type": "display_data"
    }
   ],
   "source": [
    "options(repr.plot.width = 10)\n",
    "set.seed(310)\n",
    "\n",
    "# Get datasets filtered by species\n",
    "adoption_time_data_dog <- adoption_time_data %>%\n",
    "    filter(Animal_Type == \"Dog\")\n",
    "\n",
    "adoption_time_data_cat <- adoption_time_data %>%\n",
    "    filter(Animal_Type == \"Cat\")\n",
    "\n",
    "\n",
    "# Dog: Sample (size 200)\n",
    "dog_sample_200 <- adoption_time_data_dog %>%\n",
    "    rep_sample_n(size = 200) \n",
    "\n",
    "#Dog: Sample median calculated\n",
    "sample_dog_median <- dog_sample_200 %>%\n",
    "    summarize(med = median(Shelter_Period)) %>%\n",
    "    pull()\n",
    "\n",
    "sprintf(\"Dog median for 200 samples: %.2f\", sample_dog_median)\n",
    "\n",
    "\n",
    "#Cat: Sample (size 200)\n",
    "cat_sample_200 <- adoption_time_data_cat %>%\n",
    "    rep_sample_n(size = 200) \n",
    "\n",
    "#Cat: Sample median calculated\n",
    "sample_cat_median <- cat_sample_200 %>%\n",
    "    summarize(med = median(Shelter_Period)) %>%\n",
    "    pull()\n",
    "\n",
    "sprintf(\"Cat median for 200 samples: %.2f\", sample_cat_median)"
   ]
  },
  {
   "cell_type": "code",
   "execution_count": 6,
   "id": "ca42a25a-c2be-4a1a-9111-1f5c5f17485f",
   "metadata": {},
   "outputs": [],
   "source": [
    "# Dog: Sample200 histogram\n",
    "options(repr.plot.width = 15)\n",
    "animal_sample200_dog_dist <- dog_sample_200 %>%\n",
    "                            ggplot(aes(x = Shelter_Period)) +\n",
    "                            geom_histogram(binwidth = 50) +\n",
    "                            labs(x = \"Shelter Period in Days\", title = \"Time Dogs spent in Shelter Before Adoption\") +\n",
    "                            geom_vline(xintercept = 10.00, colour = \"red\")"
   ]
  },
  {
   "cell_type": "code",
   "execution_count": 7,
   "id": "33d94cc8-891a-4924-bcc1-4b734517b47c",
   "metadata": {},
   "outputs": [],
   "source": [
    "# Cat: Sample200 histogram\n",
    "options(repr.plot.width = 15)\n",
    "animal_sample200_cat_dist <- cat_sample_200 %>%\n",
    "                            ggplot(aes(x = Shelter_Period)) +\n",
    "                            geom_histogram(binwidth = 50) +\n",
    "                            labs(x = \"Shelter Period in Days\", title = \"Time Cats spent in Shelter Before Adoption\") +\n",
    "                            geom_vline(xintercept = 33.50, colour = \"red\")"
   ]
  },
  {
   "cell_type": "markdown",
   "id": "6a36d114-27c8-456e-8aa7-9f21d54f2dbb",
   "metadata": {},
   "source": [
    "Below, we plot the distributions together with the median illustrated with the red vertical line."
   ]
  },
  {
   "cell_type": "code",
   "execution_count": 31,
   "id": "ad671bd5-11a1-4020-81d0-f8164cdc508c",
   "metadata": {},
   "outputs": [
    {
     "name": "stderr",
     "output_type": "stream",
     "text": [
      "Warning message:\n",
      "“Removed 3 rows containing non-finite values (stat_bin).”\n",
      "Warning message:\n",
      "“Removed 2 rows containing missing values (geom_bar).”\n",
      "Warning message:\n",
      "“Removed 2 rows containing non-finite values (stat_bin).”\n",
      "Warning message:\n",
      "“Removed 2 rows containing missing values (geom_bar).”\n"
     ]
    },
    {
     "data": {
      "image/png": "[encoded data removed]",
      "text/plain": [
       "plot without title"
      ]
     },
     "metadata": {
      "image/png": {
       "height": 420,
       "width": 1200
      }
     },
     "output_type": "display_data"
    }
   ],
   "source": [
    "options(repr.plot.width = 20)\n",
    "\n",
    "#Plotting Cat and Dog histograms side by side\n",
    "proportion_plot_row <- plot_grid(animal_sample200_dog_dist +\n",
    "                                 scale_x_continuous(limits = c(-50, 800)),\n",
    "                                 animal_sample200_cat_dist +\n",
    "                                 scale_x_continuous(limits = c(-50, 800)),\n",
    "                                 ncol = 2)\n",
    "\n",
    "title <- ggdraw() + \n",
    "  draw_label(\"Comparison of Dog and Cat Sample Distributions\",\n",
    "             fontface = 'bold',\n",
    "             x = 0,\n",
    "             hjust = 0) +\n",
    "  theme(plot.margin = margin(0, 0, 0, 7))\n",
    "\n",
    "medians_grid <- plot_grid(title,\n",
    "                        proportion_plot_row,\n",
    "                        ncol = 1,\n",
    "                        rel_heights = c(0.1, 1))\n",
    "\n",
    "#Some points will not be plotted, in order to make comparison clearer\n",
    "medians_grid"
   ]
  },
  {
   "cell_type": "markdown",
   "id": "758ce988-1497-4b4e-b2a7-77bbd88f4e54",
   "metadata": {},
   "source": [
    "| _Figure 1: Comparing the Distributions of Time spent in Shelter for **Dogs** and **Cats**_|\n",
    "| ------------------------ |\n",
    "||"
   ]
  },
  {
   "cell_type": "markdown",
   "id": "b3bd2cda-4956-4bc8-aa16-77fef8eb7a6e",
   "metadata": {},
   "source": [
    "Now, we also plot the data as a boxplot to clearly show the IQR range and where outliers land."
   ]
  },
  {
   "cell_type": "code",
   "execution_count": 54,
   "id": "087bfa78-d565-4ced-9170-49df6db849fb",
   "metadata": {},
   "outputs": [],
   "source": [
    "# Dog: Sample200 Boxplot\n",
    "options(repr.plot.width = 10)\n",
    "dog_sample_200_boxplot <- dog_sample_200 %>%\n",
    "                            ggplot(aes(x = Animal_Type, y = Shelter_Period)) +\n",
    "                            geom_boxplot() +\n",
    "                            labs(x = \"Dogs\", y = \"Shelter Period in Days\", \n",
    "                                 title = \"Time Dogs spent in Shelter Before Adoption\")"
   ]
  },
  {
   "cell_type": "code",
   "execution_count": 55,
   "id": "6cb8e651-1a29-4270-9726-e335bf08adf7",
   "metadata": {},
   "outputs": [],
   "source": [
    "options(repr.plot.width = 10)\n",
    "cat_sample_200_boxplot <- cat_sample_200 %>%\n",
    "                            ggplot(aes(x = Animal_Type, y = Shelter_Period)) +\n",
    "                            geom_boxplot() +\n",
    "                            labs(x = \"Cats\", y = \"Shelter Period in Days\", \n",
    "                                 title = \"Time Cats spent in Shelter Before Adoption\")"
   ]
  },
  {
   "cell_type": "code",
   "execution_count": 56,
   "id": "05d3d435-dcff-4528-954e-201b94eed535",
   "metadata": {},
   "outputs": [
    {
     "name": "stderr",
     "output_type": "stream",
     "text": [
      "Warning message:\n",
      "“Removed 3 rows containing non-finite values (stat_boxplot).”\n",
      "Warning message:\n",
      "“Removed 2 rows containing non-finite values (stat_boxplot).”\n"
     ]
    },
    {
     "data": {
      "image/png": "[encoded data removed]",
      "text/plain": [
       "plot without title"
      ]
     },
     "metadata": {
      "image/png": {
       "height": 420,
       "width": 1200
      }
     },
     "output_type": "display_data"
    }
   ],
   "source": [
    "options(repr.plot.width = 20)\n",
    "\n",
    "#Plotting Cat and Dog Boxplots side by side\n",
    "proportion_plot_row <- plot_grid(dog_sample_200_boxplot +\n",
    "                                 scale_y_continuous(limits = c(-50, 800)),\n",
    "                                 cat_sample_200_boxplot +\n",
    "                                 scale_y_continuous(limits = c(-50, 800)),\n",
    "                                 ncol = 2)\n",
    "\n",
    "title <- ggdraw() + \n",
    "  draw_label(\"Comparison of Dog and Cat Sample BOXPLOT Distributions\",\n",
    "             fontface = 'bold',\n",
    "             x = 0,\n",
    "             hjust = 0) +\n",
    "  theme(plot.margin = margin(0, 0, 0, 7))\n",
    "\n",
    "medians_grid <- plot_grid(title,\n",
    "                        proportion_plot_row,\n",
    "                        ncol = 1,\n",
    "                        rel_heights = c(0.1, 1))\n",
    "\n",
    "#Some points will not be plotted, in order to make comparison clearer\n",
    "medians_grid"
   ]
  },
  {
   "cell_type": "markdown",
   "id": "fb6af80f-d40f-4efa-b7b8-4454db1936cb",
   "metadata": {},
   "source": [
    "We notice that in the case of both distributions, they are asymmetrical, right skewed, and contain a outliers far on the right side. A bootstrap distribution with a 95% confidence interval is created for both categories where reps = 10,000."
   ]
  },
  {
   "cell_type": "code",
   "execution_count": 57,
   "id": "e613bf21-7525-4a9e-aea0-e856a0e8fc07",
   "metadata": {},
   "outputs": [
    {
     "data": {
      "text/html": [
       "<table class=\"dataframe\">\n",
       "<caption>A tibble: 1 × 2</caption>\n",
       "<thead>\n",
       "\t<tr><th scope=col>lower_ci</th><th scope=col>upper_ci</th></tr>\n",
       "\t<tr><th scope=col>&lt;dbl&gt;</th><th scope=col>&lt;dbl&gt;</th></tr>\n",
       "</thead>\n",
       "<tbody>\n",
       "\t<tr><td>8</td><td>15.5</td></tr>\n",
       "</tbody>\n",
       "</table>\n"
      ],
      "text/latex": [
       "A tibble: 1 × 2\n",
       "\\begin{tabular}{ll}\n",
       " lower\\_ci & upper\\_ci\\\\\n",
       " <dbl> & <dbl>\\\\\n",
       "\\hline\n",
       "\t 8 & 15.5\\\\\n",
       "\\end{tabular}\n"
      ],
      "text/markdown": [
       "\n",
       "A tibble: 1 × 2\n",
       "\n",
       "| lower_ci &lt;dbl&gt; | upper_ci &lt;dbl&gt; |\n",
       "|---|---|\n",
       "| 8 | 15.5 |\n",
       "\n"
      ],
      "text/plain": [
       "  lower_ci upper_ci\n",
       "1 8        15.5    "
      ]
     },
     "metadata": {},
     "output_type": "display_data"
    },
    {
     "data": {
      "text/html": [
       "'Dog Confidence Interval: 8 to 15.5'"
      ],
      "text/latex": [
       "'Dog Confidence Interval: 8 to 15.5'"
      ],
      "text/markdown": [
       "'Dog Confidence Interval: 8 to 15.5'"
      ],
      "text/plain": [
       "[1] \"Dog Confidence Interval: 8 to 15.5\""
      ]
     },
     "metadata": {},
     "output_type": "display_data"
    },
    {
     "data": {
      "text/html": [
       "<table class=\"dataframe\">\n",
       "<caption>A tibble: 1 × 2</caption>\n",
       "<thead>\n",
       "\t<tr><th scope=col>lower_ci</th><th scope=col>upper_ci</th></tr>\n",
       "\t<tr><th scope=col>&lt;dbl&gt;</th><th scope=col>&lt;dbl&gt;</th></tr>\n",
       "</thead>\n",
       "<tbody>\n",
       "\t<tr><td>25</td><td>40</td></tr>\n",
       "</tbody>\n",
       "</table>\n"
      ],
      "text/latex": [
       "A tibble: 1 × 2\n",
       "\\begin{tabular}{ll}\n",
       " lower\\_ci & upper\\_ci\\\\\n",
       " <dbl> & <dbl>\\\\\n",
       "\\hline\n",
       "\t 25 & 40\\\\\n",
       "\\end{tabular}\n"
      ],
      "text/markdown": [
       "\n",
       "A tibble: 1 × 2\n",
       "\n",
       "| lower_ci &lt;dbl&gt; | upper_ci &lt;dbl&gt; |\n",
       "|---|---|\n",
       "| 25 | 40 |\n",
       "\n"
      ],
      "text/plain": [
       "  lower_ci upper_ci\n",
       "1 25       40      "
      ]
     },
     "metadata": {},
     "output_type": "display_data"
    },
    {
     "data": {
      "text/html": [
       "'Cat Confidence Interval: 25 to 40'"
      ],
      "text/latex": [
       "'Cat Confidence Interval: 25 to 40'"
      ],
      "text/markdown": [
       "'Cat Confidence Interval: 25 to 40'"
      ],
      "text/plain": [
       "[1] \"Cat Confidence Interval: 25 to 40\""
      ]
     },
     "metadata": {},
     "output_type": "display_data"
    }
   ],
   "source": [
    "# Median Sampling Distribution + Confidence Intervals (1000 repetition, 200 samples)\n",
    "options(repr.plot.width = 10)\n",
    "set.seed(310)\n",
    "\n",
    "# Dog: resamples size 200, repetition 10,000\n",
    "dog_bootstrap <- dog_sample_200 %>%\n",
    "    specify(response = Shelter_Period) %>%\n",
    "    generate(type = \"bootstrap\", reps = 10000) %>%\n",
    "    calculate(stat = \"median\")\n",
    "\n",
    "dog_bootstrap_ci <- dog_bootstrap %>%\n",
    "    get_confidence_interval(level = 0.95, type = \"percentile\")\n",
    "\n",
    "dog_bootstrap_ci\n",
    "sprintf(\"Dog Confidence Interval: %s to %s\", dog_bootstrap_ci$lower_ci, dog_bootstrap_ci$upper_ci)\n",
    "\n",
    "\n",
    "dog_bootstrap_distribution <- dog_bootstrap %>%\n",
    "    visualize(bins = 20) +\n",
    "    annotate(\"rect\", xmin = dog_bootstrap_ci$lower_ci, xmax = dog_bootstrap_ci$upper_ci, ymin = 0, ymax = Inf,\n",
    "             fill = \"deepskyblue\",\n",
    "             alpha = 0.3) +\n",
    "    geom_vline(xintercept = sample_dog_median, size = 1, color = \"red\") +\n",
    "    labs(x = \"Median Time that a Dog Spends at Shelter\", title = \"Bootstrap Distribution of Median Dog Shelter Time\")\n",
    "\n",
    "# Cat: resamples size 200, repetition 10,000\n",
    "cat_bootstrap <- cat_sample_200 %>%\n",
    "    specify(response = Shelter_Period) %>%\n",
    "    generate(type = \"bootstrap\", reps = 10000) %>%\n",
    "    calculate(stat = \"median\")\n",
    "\n",
    "cat_bootstrap_ci <- cat_bootstrap %>%\n",
    "    get_confidence_interval(level = 0.95, type = \"percentile\")\n",
    "\n",
    "cat_bootstrap_ci\n",
    "sprintf(\"Cat Confidence Interval: %s to %s\", cat_bootstrap_ci$lower_ci, cat_bootstrap_ci$upper_ci)\n",
    "\n",
    "cat_bootstrap_distribution <- cat_bootstrap %>%\n",
    "    visualize(bins = 20) +\n",
    "    annotate(\"rect\", xmin = cat_bootstrap_ci$lower_ci, xmax = cat_bootstrap_ci$upper_ci, ymin = 0, ymax = Inf,\n",
    "             fill = \"deepskyblue\",\n",
    "             alpha = 0.3) +\n",
    "    geom_vline(xintercept = sample_cat_median, size = 1, color = \"red\") +\n",
    "    labs(x = \"Median Time that a Cat Spends at Shelter\", title = \"Bootstrap Distribution of Median Cat Shelter Time\")\n",
    "\n",
    "\n"
   ]
  },
  {
   "cell_type": "markdown",
   "id": "b9144c68-65ca-442a-a60e-d080a31689a6",
   "metadata": {},
   "source": [
    "The following bootstrap distributions are plotted with their CI and median values together:"
   ]
  },
  {
   "cell_type": "code",
   "execution_count": 58,
   "id": "e8f132ad-373c-496a-8e0e-891a761dfed8",
   "metadata": {},
   "outputs": [
    {
     "name": "stderr",
     "output_type": "stream",
     "text": [
      "Warning message:\n",
      "“Removed 1 rows containing non-finite values (stat_bin).”\n",
      "Warning message:\n",
      "“Removed 1 rows containing missing values (geom_bar).”\n"
     ]
    },
    {
     "data": {
      "image/png": "[encoded data removed]",
      "text/plain": [
       "plot without title"
      ]
     },
     "metadata": {
      "image/png": {
       "height": 420,
       "width": 1200
      }
     },
     "output_type": "display_data"
    }
   ],
   "source": [
    "options(repr.plot.width = 20)\n",
    "\n",
    "proportion_plot_row <- plot_grid(dog_bootstrap_distribution +\n",
    "                                 scale_x_continuous(limits = c(5, 45)),\n",
    "                                 cat_bootstrap_distribution +\n",
    "                                 scale_x_continuous(limits = c(5, 45)),\n",
    "                                 ncol = 2)\n",
    "\n",
    "title <- ggdraw() + \n",
    "  draw_label(\"Comparison of dog and cat bootstrap distributions\",\n",
    "             fontface = 'bold',\n",
    "             x = 0,\n",
    "             hjust = 0) +\n",
    "  theme(plot.margin = margin(0, 0, 0, 7))\n",
    "\n",
    "medians_grid <- plot_grid(title,\n",
    "                        proportion_plot_row,\n",
    "                        ncol = 1,\n",
    "                        rel_heights = c(0.1, 1))\n",
    "\n",
    "medians_grid"
   ]
  },
  {
   "cell_type": "markdown",
   "id": "d954ae1e-5ca7-4347-8811-139284d1b1aa",
   "metadata": {},
   "source": [
    "As shown by the graphs and confidence interval, we can say with 95% confidence that the median shelter period for a dog is [8, 15.5] while the median shelter period for a cat is [25, 40]."
   ]
  },
  {
   "cell_type": "code",
   "execution_count": null,
   "id": "efb57036-650c-4022-b0a5-b660f25ee1c9",
   "metadata": {},
   "outputs": [],
   "source": []
  },
  {
   "cell_type": "code",
   "execution_count": null,
   "id": "7cf908c6-9d8f-4d69-b449-723d8cea09ac",
   "metadata": {},
   "outputs": [],
   "source": []
  },
  {
   "cell_type": "code",
   "execution_count": null,
   "id": "75dff023-86f0-4127-b336-adc6f92dfc36",
   "metadata": {},
   "outputs": [],
   "source": []
  },
  {
   "cell_type": "markdown",
   "id": "b35e21fd-948e-47ea-a9ff-d447f9c8b99d",
   "metadata": {},
   "source": [
    "We will now delete the outliers present in both the dogs and cats dataset in order to compare the means of both"
   ]
  },
  {
   "cell_type": "code",
   "execution_count": 43,
   "id": "cbf2c743-8c69-4386-ba7e-9bf20f593bd6",
   "metadata": {},
   "outputs": [
    {
     "data": {
      "text/html": [
       "<table class=\"dataframe\">\n",
       "<caption>A grouped_df: 6 × 3</caption>\n",
       "<thead>\n",
       "\t<tr><th scope=col>replicate</th><th scope=col>Animal_Type</th><th scope=col>Shelter_Period</th></tr>\n",
       "\t<tr><th scope=col>&lt;int&gt;</th><th scope=col>&lt;chr&gt;</th><th scope=col>&lt;dbl&gt;</th></tr>\n",
       "</thead>\n",
       "<tbody>\n",
       "\t<tr><td>1</td><td>Dog</td><td>10</td></tr>\n",
       "\t<tr><td>1</td><td>Dog</td><td>35</td></tr>\n",
       "\t<tr><td>1</td><td>Dog</td><td>31</td></tr>\n",
       "\t<tr><td>1</td><td>Dog</td><td> 2</td></tr>\n",
       "\t<tr><td>1</td><td>Dog</td><td>10</td></tr>\n",
       "\t<tr><td>1</td><td>Dog</td><td>51</td></tr>\n",
       "</tbody>\n",
       "</table>\n"
      ],
      "text/latex": [
       "A grouped\\_df: 6 × 3\n",
       "\\begin{tabular}{lll}\n",
       " replicate & Animal\\_Type & Shelter\\_Period\\\\\n",
       " <int> & <chr> & <dbl>\\\\\n",
       "\\hline\n",
       "\t 1 & Dog & 10\\\\\n",
       "\t 1 & Dog & 35\\\\\n",
       "\t 1 & Dog & 31\\\\\n",
       "\t 1 & Dog &  2\\\\\n",
       "\t 1 & Dog & 10\\\\\n",
       "\t 1 & Dog & 51\\\\\n",
       "\\end{tabular}\n"
      ],
      "text/markdown": [
       "\n",
       "A grouped_df: 6 × 3\n",
       "\n",
       "| replicate &lt;int&gt; | Animal_Type &lt;chr&gt; | Shelter_Period &lt;dbl&gt; |\n",
       "|---|---|---|\n",
       "| 1 | Dog | 10 |\n",
       "| 1 | Dog | 35 |\n",
       "| 1 | Dog | 31 |\n",
       "| 1 | Dog |  2 |\n",
       "| 1 | Dog | 10 |\n",
       "| 1 | Dog | 51 |\n",
       "\n"
      ],
      "text/plain": [
       "  replicate Animal_Type Shelter_Period\n",
       "1 1         Dog         10            \n",
       "2 1         Dog         35            \n",
       "3 1         Dog         31            \n",
       "4 1         Dog          2            \n",
       "5 1         Dog         10            \n",
       "6 1         Dog         51            "
      ]
     },
     "metadata": {},
     "output_type": "display_data"
    }
   ],
   "source": [
    "# Q1 = 5.00 \n",
    "# Q3 = 41.00\n",
    "# IQR = 36.00\n",
    "# outliers are > Q3 + 1.5IQR (upper fence) \n",
    "# below (<) Q1 - 1.5IQR (lower fence)\n",
    "\n",
    "dog_filtered_outliers <- dog_sample_200 %>%\n",
    "        filter(Shelter_Period < (41 + 1.5*36) & Shelter_Period > (5 - 1.5*36))\n",
    "\n",
    "head(dog_filtered_outliers)"
   ]
  },
  {
   "cell_type": "code",
   "execution_count": 44,
   "id": "a50f9502-8a66-4786-8eba-c18434dd24dd",
   "metadata": {},
   "outputs": [
    {
     "data": {
      "text/html": [
       "<table class=\"dataframe\">\n",
       "<caption>A grouped_df: 6 × 3</caption>\n",
       "<thead>\n",
       "\t<tr><th scope=col>replicate</th><th scope=col>Animal_Type</th><th scope=col>Shelter_Period</th></tr>\n",
       "\t<tr><th scope=col>&lt;int&gt;</th><th scope=col>&lt;chr&gt;</th><th scope=col>&lt;dbl&gt;</th></tr>\n",
       "</thead>\n",
       "<tbody>\n",
       "\t<tr><td>1</td><td>Cat</td><td>66</td></tr>\n",
       "\t<tr><td>1</td><td>Cat</td><td>43</td></tr>\n",
       "\t<tr><td>1</td><td>Cat</td><td> 6</td></tr>\n",
       "\t<tr><td>1</td><td>Cat</td><td>48</td></tr>\n",
       "\t<tr><td>1</td><td>Cat</td><td>40</td></tr>\n",
       "\t<tr><td>1</td><td>Cat</td><td> 1</td></tr>\n",
       "</tbody>\n",
       "</table>\n"
      ],
      "text/latex": [
       "A grouped\\_df: 6 × 3\n",
       "\\begin{tabular}{lll}\n",
       " replicate & Animal\\_Type & Shelter\\_Period\\\\\n",
       " <int> & <chr> & <dbl>\\\\\n",
       "\\hline\n",
       "\t 1 & Cat & 66\\\\\n",
       "\t 1 & Cat & 43\\\\\n",
       "\t 1 & Cat &  6\\\\\n",
       "\t 1 & Cat & 48\\\\\n",
       "\t 1 & Cat & 40\\\\\n",
       "\t 1 & Cat &  1\\\\\n",
       "\\end{tabular}\n"
      ],
      "text/markdown": [
       "\n",
       "A grouped_df: 6 × 3\n",
       "\n",
       "| replicate &lt;int&gt; | Animal_Type &lt;chr&gt; | Shelter_Period &lt;dbl&gt; |\n",
       "|---|---|---|\n",
       "| 1 | Cat | 66 |\n",
       "| 1 | Cat | 43 |\n",
       "| 1 | Cat |  6 |\n",
       "| 1 | Cat | 48 |\n",
       "| 1 | Cat | 40 |\n",
       "| 1 | Cat |  1 |\n",
       "\n"
      ],
      "text/plain": [
       "  replicate Animal_Type Shelter_Period\n",
       "1 1         Cat         66            \n",
       "2 1         Cat         43            \n",
       "3 1         Cat          6            \n",
       "4 1         Cat         48            \n",
       "5 1         Cat         40            \n",
       "6 1         Cat          1            "
      ]
     },
     "metadata": {},
     "output_type": "display_data"
    }
   ],
   "source": [
    "# Q1 = 8.75\n",
    "# Q3 = 61.00\n",
    "# IQR = 52.25\n",
    "# outliers are > Q3 + 1.5IQR (upper fence) \n",
    "# below (<) Q1 - 1.5IQR (lower fence)\n",
    "\n",
    "cat_filtered_outliers <- cat_sample_200 %>%\n",
    "        filter(Shelter_Period < (61 + 1.5*52.25) & Shelter_Period > (8.75 - 1.5*52.25))\n",
    "\n",
    "\n",
    "head(cat_filtered_outliers)"
   ]
  },
  {
   "cell_type": "markdown",
   "id": "d9e53fe8-88e6-46f9-becf-24769c310d6d",
   "metadata": {},
   "source": [
    "Replotting the Histograms and Boxplots to see if any changes "
   ]
  },
  {
   "cell_type": "code",
   "execution_count": 50,
   "id": "dbf33e59-9d80-4db6-a8f6-a0f9b5a2c738",
   "metadata": {},
   "outputs": [],
   "source": [
    "options(repr.plot.width = 10)\n",
    "\n",
    "boxplot_no_outliers_dogs <- dog_filtered_outliers %>%\n",
    "                            ggplot(aes(x = Animal_Type, y = Shelter_Period)) +\n",
    "                            geom_boxplot() +\n",
    "                            labs(x = \"Dogs\", y = \"Shelter Period in Days\", \n",
    "                                 title = \"Time Dogs spent (Without original outliers)\")\n",
    "\n",
    "histogram_no_outliers_dogs <- dog_filtered_outliers %>%\n",
    "                            ggplot(aes(x = Shelter_Period)) +\n",
    "                            geom_histogram(binwidth = 1) +\n",
    "                            labs(x = \"Shelter Period in Days\", y = \"Dogs\",\n",
    "                                 title = \"Time Dogs spent (Without original outliers)\")"
   ]
  },
  {
   "cell_type": "code",
   "execution_count": 51,
   "id": "97023807-0885-4071-a2f8-a486d6295235",
   "metadata": {},
   "outputs": [],
   "source": [
    "options(repr.plot.width = 10)\n",
    "\n",
    "boxplot_no_outliers_cats <- cat_filtered_outliers %>%\n",
    "                            ggplot(aes(x = Animal_Type, y = Shelter_Period)) +\n",
    "                            geom_boxplot() +\n",
    "                            labs(x = \"Cats\", y = \"Shelter Period in Days\", \n",
    "                                 title = \"Time Cats spent (Without original outliers)\")\n",
    "\n",
    "histogram_no_outliers_cats <- cat_filtered_outliers %>%\n",
    "                            ggplot(aes(x = Shelter_Period)) +\n",
    "                            geom_histogram(binwidth = 1) +\n",
    "                            labs(x = \"Shelter Period in Days\", y = \"Cats\",\n",
    "                                 title = \"Time Cats spent (Without original outliers)\")"
   ]
  },
  {
   "cell_type": "code",
   "execution_count": 52,
   "id": "730ab2d5-6b20-4117-8a3a-d9eb697fbfb1",
   "metadata": {},
   "outputs": [
    {
     "name": "stderr",
     "output_type": "stream",
     "text": [
      "Warning message:\n",
      "“Removed 2 rows containing missing values (geom_bar).”\n",
      "Warning message:\n",
      "“Removed 2 rows containing missing values (geom_bar).”\n"
     ]
    },
    {
     "data": {
      "image/png": "[encoded data removed]",
      "text/plain": [
       "plot without title"
      ]
     },
     "metadata": {
      "image/png": {
       "height": 420,
       "width": 1200
      }
     },
     "output_type": "display_data"
    }
   ],
   "source": [
    "options(repr.plot.width = 20)\n",
    "\n",
    "# Replotting Cat and Dog new histograms side by side\n",
    "proportion_plot_row <- plot_grid(histogram_no_outliers_dogs +\n",
    "                                 scale_x_continuous(limits = c(0, 150)),\n",
    "                                 histogram_no_outliers_cats +\n",
    "                                 scale_x_continuous(limits = c(0, 150)),\n",
    "                                 ncol = 2)\n",
    "\n",
    "title <- ggdraw() + \n",
    "  draw_label(\"Comparison of Dog and Cat NEW Sample Distributions\",\n",
    "             fontface = 'bold',\n",
    "             x = 0,\n",
    "             hjust = 0) +\n",
    "  theme(plot.margin = margin(0, 0, 0, 7))\n",
    "\n",
    "medians_grid <- plot_grid(title,\n",
    "                        proportion_plot_row,\n",
    "                        ncol = 1,\n",
    "                        rel_heights = c(0.1, 1))\n",
    "\n",
    "#Some points will not be plotted, in order to make comparison clearer\n",
    "medians_grid"
   ]
  },
  {
   "cell_type": "code",
   "execution_count": 53,
   "id": "e4303eef-90ce-44d7-8b43-51c2c1b310cf",
   "metadata": {},
   "outputs": [
    {
     "data": {
      "image/png": "[encoded data removed]",
      "text/plain": [
       "plot without title"
      ]
     },
     "metadata": {
      "image/png": {
       "height": 420,
       "width": 1200
      }
     },
     "output_type": "display_data"
    }
   ],
   "source": [
    "options(repr.plot.width = 20)\n",
    "\n",
    "# Replotting Cat and Dog Boxplots side by side\n",
    "proportion_plot_row <- plot_grid(boxplot_no_outliers_dogs +\n",
    "                                 scale_y_continuous(limits = c(0, 150)),\n",
    "                                 boxplot_no_outliers_cats +\n",
    "                                 scale_y_continuous(limits = c(0, 150)),\n",
    "                                 ncol = 2)\n",
    "\n",
    "title <- ggdraw() + \n",
    "  draw_label(\"Comparison of Dog and Cat NEW BOXPLOT Distributions\",\n",
    "             fontface = 'bold',\n",
    "             x = 0,\n",
    "             hjust = 0) +\n",
    "  theme(plot.margin = margin(0, 0, 0, 7))\n",
    "\n",
    "medians_grid <- plot_grid(title,\n",
    "                        proportion_plot_row,\n",
    "                        ncol = 1,\n",
    "                        rel_heights = c(0.1, 1))\n",
    "\n",
    "#Some points will not be plotted, in order to make comparison clearer\n",
    "medians_grid"
   ]
  },
  {
   "cell_type": "code",
   "execution_count": null,
   "id": "9b5422f6-d39b-44f4-b2c0-98771e04b943",
   "metadata": {},
   "outputs": [],
   "source": []
  }
 ],
 "metadata": {
  "kernelspec": {
   "display_name": "R",
   "language": "R",
   "name": "ir"
  },
  "language_info": {
   "codemirror_mode": "r",
   "file_extension": ".r",
   "mimetype": "text/x-r-source",
   "name": "R",
   "pygments_lexer": "r",
   "version": "4.1.2"
  }
 },
 "nbformat": 4,
 "nbformat_minor": 5
}
