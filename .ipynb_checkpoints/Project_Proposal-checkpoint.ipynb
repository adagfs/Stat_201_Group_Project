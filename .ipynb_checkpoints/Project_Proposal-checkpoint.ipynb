{
 "cells": [
  {
   "cell_type": "markdown",
   "metadata": {
    "jp-MarkdownHeadingCollapsed": true,
    "tags": []
   },
   "source": [
    "#### Project Proposal: Group #21"
   ]
  },
  {
   "cell_type": "markdown",
   "metadata": {
    "tags": []
   },
   "source": [
    "## **Inferential Analysis on the Austin Animal Center**\n",
    "#### _Group Members: Sadia, Youjung, Adam_"
   ]
  },
  {
   "cell_type": "markdown",
   "metadata": {},
   "source": [
    "First, let's retrieve the necessary packages."
   ]
  },
  {
   "cell_type": "code",
   "execution_count": 64,
   "metadata": {
    "scrolled": true
   },
   "outputs": [
    {
     "name": "stderr",
     "output_type": "stream",
     "text": [
      "Installing package into ‘/home/jupyter/R/x86_64-pc-linux-gnu-library/4.1’\n",
      "(as ‘lib’ is unspecified)\n",
      "\n",
      "Installing package into ‘/home/jupyter/R/x86_64-pc-linux-gnu-library/4.1’\n",
      "(as ‘lib’ is unspecified)\n",
      "\n"
     ]
    }
   ],
   "source": [
    "install.packages(\"infer\")\n",
    "library(infer)\n",
    "install.packages(\"cowplot\")\n",
    "library(cowplot)\n",
    "library(tidyverse)"
   ]
  },
  {
   "cell_type": "markdown",
   "metadata": {
    "tags": []
   },
   "source": [
    "## **Introduction:**"
   ]
  },
  {
   "cell_type": "markdown",
   "metadata": {},
   "source": [
    "**Question: How long does it take for cats and dogs to get adopted and are dogs adopted faster than cats are?**\n",
    "\n",
    "To answer this question, we take data from the Austin Animal Center. They are known for taking in lost or homeless animals and providing them with care and treatment so they can later be adopted as pets. More than 11,000 animals are treated yearly. We consider our population to be all animals emitted to this shelter at some time.\n",
    "\n",
    "The datasets we will be using are posted on Kaggle and sourced from the Austin Animal Center’s website with data from October, 2013. We plan to combine two datasets: one with animal intake and one with animal outcome information in order to find the time taken for an animal to get adopted. We will focus on columns DateTime, containing the data and time animals were accepted by the shelter and adopted as well as Animal_Type, focusing specifically on cats and dogs.\n",
    "\n",
    "The parameters we will focus on to answer our question are the median, to find and compare average adoption times, and interquartile range, to analyze the spread of data. "
   ]
  },
  {
   "cell_type": "markdown",
   "metadata": {},
   "source": [
    "## **Preliminary Results:**"
   ]
  },
  {
   "cell_type": "markdown",
   "metadata": {},
   "source": [
    "Now, read in the two relevant csv files from web and using the head function, see how they look."
   ]
  },
  {
   "cell_type": "code",
   "execution_count": 65,
   "metadata": {},
   "outputs": [
    {
     "name": "stderr",
     "output_type": "stream",
     "text": [
      "\u001b[1mRows: \u001b[22m\u001b[34m142192\u001b[39m \u001b[1mColumns: \u001b[22m\u001b[34m12\u001b[39m\n",
      "\u001b[36m──\u001b[39m \u001b[1mColumn specification\u001b[22m \u001b[36m────────────────────────────────────────────────────────\u001b[39m\n",
      "\u001b[1mDelimiter:\u001b[22m \",\"\n",
      "\u001b[31mchr\u001b[39m (12): Animal ID, Name, DateTime, MonthYear, Found Location, Intake Type,...\n",
      "\n",
      "\u001b[36mℹ\u001b[39m Use `spec()` to retrieve the full column specification for this data.\n",
      "\u001b[36mℹ\u001b[39m Specify the column types or set `show_col_types = FALSE` to quiet this message.\n"
     ]
    },
    {
     "data": {
      "text/html": [
       "<table class=\"dataframe\">\n",
       "<caption>A tibble: 6 × 12</caption>\n",
       "<thead>\n",
       "\t<tr><th scope=col>Animal ID</th><th scope=col>Name</th><th scope=col>DateTime</th><th scope=col>MonthYear</th><th scope=col>Found Location</th><th scope=col>Intake Type</th><th scope=col>Intake Condition</th><th scope=col>Animal Type</th><th scope=col>Sex upon Intake</th><th scope=col>Age upon Intake</th><th scope=col>Breed</th><th scope=col>Color</th></tr>\n",
       "\t<tr><th scope=col>&lt;chr&gt;</th><th scope=col>&lt;chr&gt;</th><th scope=col>&lt;chr&gt;</th><th scope=col>&lt;chr&gt;</th><th scope=col>&lt;chr&gt;</th><th scope=col>&lt;chr&gt;</th><th scope=col>&lt;chr&gt;</th><th scope=col>&lt;chr&gt;</th><th scope=col>&lt;chr&gt;</th><th scope=col>&lt;chr&gt;</th><th scope=col>&lt;chr&gt;</th><th scope=col>&lt;chr&gt;</th></tr>\n",
       "</thead>\n",
       "<tbody>\n",
       "\t<tr><td>A786884</td><td>*Brock </td><td>01/03/2019 04:19:00 PM</td><td>January 2019 </td><td>2501 Magin Meadow Dr in Austin (TX)</td><td>Stray          </td><td>Normal</td><td>Dog</td><td>Neutered Male</td><td>2 years  </td><td>Beagle Mix                           </td><td>Tricolor   </td></tr>\n",
       "\t<tr><td>A706918</td><td>Belle  </td><td>07/05/2015 12:59:00 PM</td><td>July 2015    </td><td>9409 Bluegrass Dr in Austin (TX)   </td><td>Stray          </td><td>Normal</td><td>Dog</td><td>Spayed Female</td><td>8 years  </td><td>English Springer Spaniel             </td><td>White/Liver</td></tr>\n",
       "\t<tr><td>A724273</td><td>Runster</td><td>04/14/2016 06:43:00 PM</td><td>April 2016   </td><td>2818 Palomino Trail in Austin (TX) </td><td>Stray          </td><td>Normal</td><td>Dog</td><td>Intact Male  </td><td>11 months</td><td>Basenji Mix                          </td><td>Sable/White</td></tr>\n",
       "\t<tr><td>A665644</td><td>NA     </td><td>10/21/2013 07:59:00 AM</td><td>October 2013 </td><td>Austin (TX)                        </td><td>Stray          </td><td>Sick  </td><td>Cat</td><td>Intact Female</td><td>4 weeks  </td><td>Domestic Shorthair Mix               </td><td>Calico     </td></tr>\n",
       "\t<tr><td>A682524</td><td>Rio    </td><td>06/29/2014 10:38:00 AM</td><td>June 2014    </td><td>800 Grove Blvd in Austin (TX)      </td><td>Stray          </td><td>Normal</td><td>Dog</td><td>Neutered Male</td><td>4 years  </td><td>Doberman Pinsch/Australian Cattle Dog</td><td>Tan/Gray   </td></tr>\n",
       "\t<tr><td>A743852</td><td>Odin   </td><td>02/18/2017 12:46:00 PM</td><td>February 2017</td><td>Austin (TX)                        </td><td>Owner Surrender</td><td>Normal</td><td>Dog</td><td>Neutered Male</td><td>2 years  </td><td>Labrador Retriever Mix               </td><td>Chocolate  </td></tr>\n",
       "</tbody>\n",
       "</table>\n"
      ],
      "text/latex": [
       "A tibble: 6 × 12\n",
       "\\begin{tabular}{llllllllllll}\n",
       " Animal ID & Name & DateTime & MonthYear & Found Location & Intake Type & Intake Condition & Animal Type & Sex upon Intake & Age upon Intake & Breed & Color\\\\\n",
       " <chr> & <chr> & <chr> & <chr> & <chr> & <chr> & <chr> & <chr> & <chr> & <chr> & <chr> & <chr>\\\\\n",
       "\\hline\n",
       "\t A786884 & *Brock  & 01/03/2019 04:19:00 PM & January 2019  & 2501 Magin Meadow Dr in Austin (TX) & Stray           & Normal & Dog & Neutered Male & 2 years   & Beagle Mix                            & Tricolor   \\\\\n",
       "\t A706918 & Belle   & 07/05/2015 12:59:00 PM & July 2015     & 9409 Bluegrass Dr in Austin (TX)    & Stray           & Normal & Dog & Spayed Female & 8 years   & English Springer Spaniel              & White/Liver\\\\\n",
       "\t A724273 & Runster & 04/14/2016 06:43:00 PM & April 2016    & 2818 Palomino Trail in Austin (TX)  & Stray           & Normal & Dog & Intact Male   & 11 months & Basenji Mix                           & Sable/White\\\\\n",
       "\t A665644 & NA      & 10/21/2013 07:59:00 AM & October 2013  & Austin (TX)                         & Stray           & Sick   & Cat & Intact Female & 4 weeks   & Domestic Shorthair Mix                & Calico     \\\\\n",
       "\t A682524 & Rio     & 06/29/2014 10:38:00 AM & June 2014     & 800 Grove Blvd in Austin (TX)       & Stray           & Normal & Dog & Neutered Male & 4 years   & Doberman Pinsch/Australian Cattle Dog & Tan/Gray   \\\\\n",
       "\t A743852 & Odin    & 02/18/2017 12:46:00 PM & February 2017 & Austin (TX)                         & Owner Surrender & Normal & Dog & Neutered Male & 2 years   & Labrador Retriever Mix                & Chocolate  \\\\\n",
       "\\end{tabular}\n"
      ],
      "text/markdown": [
       "\n",
       "A tibble: 6 × 12\n",
       "\n",
       "| Animal ID &lt;chr&gt; | Name &lt;chr&gt; | DateTime &lt;chr&gt; | MonthYear &lt;chr&gt; | Found Location &lt;chr&gt; | Intake Type &lt;chr&gt; | Intake Condition &lt;chr&gt; | Animal Type &lt;chr&gt; | Sex upon Intake &lt;chr&gt; | Age upon Intake &lt;chr&gt; | Breed &lt;chr&gt; | Color &lt;chr&gt; |\n",
       "|---|---|---|---|---|---|---|---|---|---|---|---|\n",
       "| A786884 | *Brock  | 01/03/2019 04:19:00 PM | January 2019  | 2501 Magin Meadow Dr in Austin (TX) | Stray           | Normal | Dog | Neutered Male | 2 years   | Beagle Mix                            | Tricolor    |\n",
       "| A706918 | Belle   | 07/05/2015 12:59:00 PM | July 2015     | 9409 Bluegrass Dr in Austin (TX)    | Stray           | Normal | Dog | Spayed Female | 8 years   | English Springer Spaniel              | White/Liver |\n",
       "| A724273 | Runster | 04/14/2016 06:43:00 PM | April 2016    | 2818 Palomino Trail in Austin (TX)  | Stray           | Normal | Dog | Intact Male   | 11 months | Basenji Mix                           | Sable/White |\n",
       "| A665644 | NA      | 10/21/2013 07:59:00 AM | October 2013  | Austin (TX)                         | Stray           | Sick   | Cat | Intact Female | 4 weeks   | Domestic Shorthair Mix                | Calico      |\n",
       "| A682524 | Rio     | 06/29/2014 10:38:00 AM | June 2014     | 800 Grove Blvd in Austin (TX)       | Stray           | Normal | Dog | Neutered Male | 4 years   | Doberman Pinsch/Australian Cattle Dog | Tan/Gray    |\n",
       "| A743852 | Odin    | 02/18/2017 12:46:00 PM | February 2017 | Austin (TX)                         | Owner Surrender | Normal | Dog | Neutered Male | 2 years   | Labrador Retriever Mix                | Chocolate   |\n",
       "\n"
      ],
      "text/plain": [
       "  Animal ID Name    DateTime               MonthYear    \n",
       "1 A786884   *Brock  01/03/2019 04:19:00 PM January 2019 \n",
       "2 A706918   Belle   07/05/2015 12:59:00 PM July 2015    \n",
       "3 A724273   Runster 04/14/2016 06:43:00 PM April 2016   \n",
       "4 A665644   NA      10/21/2013 07:59:00 AM October 2013 \n",
       "5 A682524   Rio     06/29/2014 10:38:00 AM June 2014    \n",
       "6 A743852   Odin    02/18/2017 12:46:00 PM February 2017\n",
       "  Found Location                      Intake Type     Intake Condition\n",
       "1 2501 Magin Meadow Dr in Austin (TX) Stray           Normal          \n",
       "2 9409 Bluegrass Dr in Austin (TX)    Stray           Normal          \n",
       "3 2818 Palomino Trail in Austin (TX)  Stray           Normal          \n",
       "4 Austin (TX)                         Stray           Sick            \n",
       "5 800 Grove Blvd in Austin (TX)       Stray           Normal          \n",
       "6 Austin (TX)                         Owner Surrender Normal          \n",
       "  Animal Type Sex upon Intake Age upon Intake\n",
       "1 Dog         Neutered Male   2 years        \n",
       "2 Dog         Spayed Female   8 years        \n",
       "3 Dog         Intact Male     11 months      \n",
       "4 Cat         Intact Female   4 weeks        \n",
       "5 Dog         Neutered Male   4 years        \n",
       "6 Dog         Neutered Male   2 years        \n",
       "  Breed                                 Color      \n",
       "1 Beagle Mix                            Tricolor   \n",
       "2 English Springer Spaniel              White/Liver\n",
       "3 Basenji Mix                           Sable/White\n",
       "4 Domestic Shorthair Mix                Calico     \n",
       "5 Doberman Pinsch/Australian Cattle Dog Tan/Gray   \n",
       "6 Labrador Retriever Mix                Chocolate  "
      ]
     },
     "metadata": {},
     "output_type": "display_data"
    },
    {
     "name": "stderr",
     "output_type": "stream",
     "text": [
      "\u001b[1mRows: \u001b[22m\u001b[34m141980\u001b[39m \u001b[1mColumns: \u001b[22m\u001b[34m12\u001b[39m\n",
      "\u001b[36m──\u001b[39m \u001b[1mColumn specification\u001b[22m \u001b[36m────────────────────────────────────────────────────────\u001b[39m\n",
      "\u001b[1mDelimiter:\u001b[22m \",\"\n",
      "\u001b[31mchr\u001b[39m (12): Animal ID, Name, DateTime, MonthYear, Date of Birth, Outcome Type,...\n",
      "\n",
      "\u001b[36mℹ\u001b[39m Use `spec()` to retrieve the full column specification for this data.\n",
      "\u001b[36mℹ\u001b[39m Specify the column types or set `show_col_types = FALSE` to quiet this message.\n"
     ]
    },
    {
     "data": {
      "text/html": [
       "<table class=\"dataframe\">\n",
       "<caption>A tibble: 6 × 12</caption>\n",
       "<thead>\n",
       "\t<tr><th scope=col>Animal ID</th><th scope=col>Name</th><th scope=col>DateTime</th><th scope=col>MonthYear</th><th scope=col>Date of Birth</th><th scope=col>Outcome Type</th><th scope=col>Outcome Subtype</th><th scope=col>Animal Type</th><th scope=col>Sex upon Outcome</th><th scope=col>Age upon Outcome</th><th scope=col>Breed</th><th scope=col>Color</th></tr>\n",
       "\t<tr><th scope=col>&lt;chr&gt;</th><th scope=col>&lt;chr&gt;</th><th scope=col>&lt;chr&gt;</th><th scope=col>&lt;chr&gt;</th><th scope=col>&lt;chr&gt;</th><th scope=col>&lt;chr&gt;</th><th scope=col>&lt;chr&gt;</th><th scope=col>&lt;chr&gt;</th><th scope=col>&lt;chr&gt;</th><th scope=col>&lt;chr&gt;</th><th scope=col>&lt;chr&gt;</th><th scope=col>&lt;chr&gt;</th></tr>\n",
       "</thead>\n",
       "<tbody>\n",
       "\t<tr><td>A794011</td><td>Chunk   </td><td>05/08/2019 06:20:00 PM</td><td>May 2019</td><td>05/02/2017</td><td>Rto-Adopt </td><td>NA     </td><td>Cat  </td><td>Neutered Male</td><td>2 years </td><td>Domestic Shorthair Mix            </td><td>Brown Tabby/White</td></tr>\n",
       "\t<tr><td>A776359</td><td>Gizmo   </td><td>07/18/2018 04:02:00 PM</td><td>Jul 2018</td><td>07/12/2017</td><td>Adoption  </td><td>NA     </td><td>Dog  </td><td>Neutered Male</td><td>1 year  </td><td>Chihuahua Shorthair Mix           </td><td>White/Brown      </td></tr>\n",
       "\t<tr><td>A821648</td><td>NA      </td><td>08/16/2020 11:38:00 AM</td><td>Aug 2020</td><td>08/16/2019</td><td>Euthanasia</td><td>NA     </td><td>Other</td><td>Unknown      </td><td>1 year  </td><td>Raccoon                           </td><td>Gray             </td></tr>\n",
       "\t<tr><td>A720371</td><td>Moose   </td><td>02/13/2016 05:59:00 PM</td><td>Feb 2016</td><td>10/08/2015</td><td>Adoption  </td><td>NA     </td><td>Dog  </td><td>Neutered Male</td><td>4 months</td><td>Anatol Shepherd/Labrador Retriever</td><td>Buff             </td></tr>\n",
       "\t<tr><td>A674754</td><td>NA      </td><td>03/18/2014 11:47:00 AM</td><td>Mar 2014</td><td>03/12/2014</td><td>Transfer  </td><td>Partner</td><td>Cat  </td><td>Intact Male  </td><td>6 days  </td><td>Domestic Shorthair Mix            </td><td>Orange Tabby     </td></tr>\n",
       "\t<tr><td>A659412</td><td>Princess</td><td>10/05/2020 02:37:00 PM</td><td>Oct 2020</td><td>03/24/2013</td><td>Adoption  </td><td>NA     </td><td>Dog  </td><td>Spayed Female</td><td>7 years </td><td>Chihuahua Shorthair Mix           </td><td>Brown            </td></tr>\n",
       "</tbody>\n",
       "</table>\n"
      ],
      "text/latex": [
       "A tibble: 6 × 12\n",
       "\\begin{tabular}{llllllllllll}\n",
       " Animal ID & Name & DateTime & MonthYear & Date of Birth & Outcome Type & Outcome Subtype & Animal Type & Sex upon Outcome & Age upon Outcome & Breed & Color\\\\\n",
       " <chr> & <chr> & <chr> & <chr> & <chr> & <chr> & <chr> & <chr> & <chr> & <chr> & <chr> & <chr>\\\\\n",
       "\\hline\n",
       "\t A794011 & Chunk    & 05/08/2019 06:20:00 PM & May 2019 & 05/02/2017 & Rto-Adopt  & NA      & Cat   & Neutered Male & 2 years  & Domestic Shorthair Mix             & Brown Tabby/White\\\\\n",
       "\t A776359 & Gizmo    & 07/18/2018 04:02:00 PM & Jul 2018 & 07/12/2017 & Adoption   & NA      & Dog   & Neutered Male & 1 year   & Chihuahua Shorthair Mix            & White/Brown      \\\\\n",
       "\t A821648 & NA       & 08/16/2020 11:38:00 AM & Aug 2020 & 08/16/2019 & Euthanasia & NA      & Other & Unknown       & 1 year   & Raccoon                            & Gray             \\\\\n",
       "\t A720371 & Moose    & 02/13/2016 05:59:00 PM & Feb 2016 & 10/08/2015 & Adoption   & NA      & Dog   & Neutered Male & 4 months & Anatol Shepherd/Labrador Retriever & Buff             \\\\\n",
       "\t A674754 & NA       & 03/18/2014 11:47:00 AM & Mar 2014 & 03/12/2014 & Transfer   & Partner & Cat   & Intact Male   & 6 days   & Domestic Shorthair Mix             & Orange Tabby     \\\\\n",
       "\t A659412 & Princess & 10/05/2020 02:37:00 PM & Oct 2020 & 03/24/2013 & Adoption   & NA      & Dog   & Spayed Female & 7 years  & Chihuahua Shorthair Mix            & Brown            \\\\\n",
       "\\end{tabular}\n"
      ],
      "text/markdown": [
       "\n",
       "A tibble: 6 × 12\n",
       "\n",
       "| Animal ID &lt;chr&gt; | Name &lt;chr&gt; | DateTime &lt;chr&gt; | MonthYear &lt;chr&gt; | Date of Birth &lt;chr&gt; | Outcome Type &lt;chr&gt; | Outcome Subtype &lt;chr&gt; | Animal Type &lt;chr&gt; | Sex upon Outcome &lt;chr&gt; | Age upon Outcome &lt;chr&gt; | Breed &lt;chr&gt; | Color &lt;chr&gt; |\n",
       "|---|---|---|---|---|---|---|---|---|---|---|---|\n",
       "| A794011 | Chunk    | 05/08/2019 06:20:00 PM | May 2019 | 05/02/2017 | Rto-Adopt  | NA      | Cat   | Neutered Male | 2 years  | Domestic Shorthair Mix             | Brown Tabby/White |\n",
       "| A776359 | Gizmo    | 07/18/2018 04:02:00 PM | Jul 2018 | 07/12/2017 | Adoption   | NA      | Dog   | Neutered Male | 1 year   | Chihuahua Shorthair Mix            | White/Brown       |\n",
       "| A821648 | NA       | 08/16/2020 11:38:00 AM | Aug 2020 | 08/16/2019 | Euthanasia | NA      | Other | Unknown       | 1 year   | Raccoon                            | Gray              |\n",
       "| A720371 | Moose    | 02/13/2016 05:59:00 PM | Feb 2016 | 10/08/2015 | Adoption   | NA      | Dog   | Neutered Male | 4 months | Anatol Shepherd/Labrador Retriever | Buff              |\n",
       "| A674754 | NA       | 03/18/2014 11:47:00 AM | Mar 2014 | 03/12/2014 | Transfer   | Partner | Cat   | Intact Male   | 6 days   | Domestic Shorthair Mix             | Orange Tabby      |\n",
       "| A659412 | Princess | 10/05/2020 02:37:00 PM | Oct 2020 | 03/24/2013 | Adoption   | NA      | Dog   | Spayed Female | 7 years  | Chihuahua Shorthair Mix            | Brown             |\n",
       "\n"
      ],
      "text/plain": [
       "  Animal ID Name     DateTime               MonthYear Date of Birth\n",
       "1 A794011   Chunk    05/08/2019 06:20:00 PM May 2019  05/02/2017   \n",
       "2 A776359   Gizmo    07/18/2018 04:02:00 PM Jul 2018  07/12/2017   \n",
       "3 A821648   NA       08/16/2020 11:38:00 AM Aug 2020  08/16/2019   \n",
       "4 A720371   Moose    02/13/2016 05:59:00 PM Feb 2016  10/08/2015   \n",
       "5 A674754   NA       03/18/2014 11:47:00 AM Mar 2014  03/12/2014   \n",
       "6 A659412   Princess 10/05/2020 02:37:00 PM Oct 2020  03/24/2013   \n",
       "  Outcome Type Outcome Subtype Animal Type Sex upon Outcome Age upon Outcome\n",
       "1 Rto-Adopt    NA              Cat         Neutered Male    2 years         \n",
       "2 Adoption     NA              Dog         Neutered Male    1 year          \n",
       "3 Euthanasia   NA              Other       Unknown          1 year          \n",
       "4 Adoption     NA              Dog         Neutered Male    4 months        \n",
       "5 Transfer     Partner         Cat         Intact Male      6 days          \n",
       "6 Adoption     NA              Dog         Spayed Female    7 years         \n",
       "  Breed                              Color            \n",
       "1 Domestic Shorthair Mix             Brown Tabby/White\n",
       "2 Chihuahua Shorthair Mix            White/Brown      \n",
       "3 Raccoon                            Gray             \n",
       "4 Anatol Shepherd/Labrador Retriever Buff             \n",
       "5 Domestic Shorthair Mix             Orange Tabby     \n",
       "6 Chihuahua Shorthair Mix            Brown            "
      ]
     },
     "metadata": {},
     "output_type": "display_data"
    }
   ],
   "source": [
    "intakes <- \"https://raw.githubusercontent.com/adagfs/Stat_201_Group_Project/main/Austin_Animal_Center_Intakes.csv\"\n",
    "outcomes <- \"https://raw.githubusercontent.com/adagfs/Stat_201_Group_Project/main/Austin_Animal_Center_Outcomes.csv\"\n",
    "\n",
    "animal_intakes <- read_csv(intakes)\n",
    "head(animal_intakes)\n",
    "\n",
    "animal_outcomes <- read_csv(outcomes)\n",
    "head(animal_outcomes)"
   ]
  },
  {
   "cell_type": "markdown",
   "metadata": {},
   "source": [
    "In order to analyze the datasets, we must first tidy it. This included changing column names, filtering rows, and selecting columns relevant to later analysis. \n",
    "\n",
    "<!-- The two datasets had their column names changed to remove spaces and were filtered for the relevant information. For both datasets, Animal Type is filtered to only contain dog and cat while the Animal outcome table was also filtered for the outcome type `Adoption`, as this is the data relevant to our research question. In addition, the `DateTime` field in both tables was renamed, as one refers to the Date when the animal was taken in by the shelter while the other refers to when the animal left the shelter. We then select the relevant columns for each dataset. For the Animal Intake data it was Animal ID, DateTime_Intake, and Animal Type. For the Animal Outcome data it was Animal ID, DateTime_Outcome, and Animal Type. -->"
   ]
  },
  {
   "cell_type": "code",
   "execution_count": 66,
   "metadata": {},
   "outputs": [
    {
     "data": {
      "text/html": [
       "<table class=\"dataframe\">\n",
       "<caption>A tibble: 6 × 3</caption>\n",
       "<thead>\n",
       "\t<tr><th scope=col>Animal_ID</th><th scope=col>Animal_Type</th><th scope=col>DateTime_Intake</th></tr>\n",
       "\t<tr><th scope=col>&lt;chr&gt;</th><th scope=col>&lt;chr&gt;</th><th scope=col>&lt;chr&gt;</th></tr>\n",
       "</thead>\n",
       "<tbody>\n",
       "\t<tr><td>A786884</td><td>Dog</td><td>01/03/2019 04:19:00 PM</td></tr>\n",
       "\t<tr><td>A706918</td><td>Dog</td><td>07/05/2015 12:59:00 PM</td></tr>\n",
       "\t<tr><td>A724273</td><td>Dog</td><td>04/14/2016 06:43:00 PM</td></tr>\n",
       "\t<tr><td>A665644</td><td>Cat</td><td>10/21/2013 07:59:00 AM</td></tr>\n",
       "\t<tr><td>A682524</td><td>Dog</td><td>06/29/2014 10:38:00 AM</td></tr>\n",
       "\t<tr><td>A743852</td><td>Dog</td><td>02/18/2017 12:46:00 PM</td></tr>\n",
       "</tbody>\n",
       "</table>\n"
      ],
      "text/latex": [
       "A tibble: 6 × 3\n",
       "\\begin{tabular}{lll}\n",
       " Animal\\_ID & Animal\\_Type & DateTime\\_Intake\\\\\n",
       " <chr> & <chr> & <chr>\\\\\n",
       "\\hline\n",
       "\t A786884 & Dog & 01/03/2019 04:19:00 PM\\\\\n",
       "\t A706918 & Dog & 07/05/2015 12:59:00 PM\\\\\n",
       "\t A724273 & Dog & 04/14/2016 06:43:00 PM\\\\\n",
       "\t A665644 & Cat & 10/21/2013 07:59:00 AM\\\\\n",
       "\t A682524 & Dog & 06/29/2014 10:38:00 AM\\\\\n",
       "\t A743852 & Dog & 02/18/2017 12:46:00 PM\\\\\n",
       "\\end{tabular}\n"
      ],
      "text/markdown": [
       "\n",
       "A tibble: 6 × 3\n",
       "\n",
       "| Animal_ID &lt;chr&gt; | Animal_Type &lt;chr&gt; | DateTime_Intake &lt;chr&gt; |\n",
       "|---|---|---|\n",
       "| A786884 | Dog | 01/03/2019 04:19:00 PM |\n",
       "| A706918 | Dog | 07/05/2015 12:59:00 PM |\n",
       "| A724273 | Dog | 04/14/2016 06:43:00 PM |\n",
       "| A665644 | Cat | 10/21/2013 07:59:00 AM |\n",
       "| A682524 | Dog | 06/29/2014 10:38:00 AM |\n",
       "| A743852 | Dog | 02/18/2017 12:46:00 PM |\n",
       "\n"
      ],
      "text/plain": [
       "  Animal_ID Animal_Type DateTime_Intake       \n",
       "1 A786884   Dog         01/03/2019 04:19:00 PM\n",
       "2 A706918   Dog         07/05/2015 12:59:00 PM\n",
       "3 A724273   Dog         04/14/2016 06:43:00 PM\n",
       "4 A665644   Cat         10/21/2013 07:59:00 AM\n",
       "5 A682524   Dog         06/29/2014 10:38:00 AM\n",
       "6 A743852   Dog         02/18/2017 12:46:00 PM"
      ]
     },
     "metadata": {},
     "output_type": "display_data"
    },
    {
     "data": {
      "text/html": [
       "<table class=\"dataframe\">\n",
       "<caption>A tibble: 6 × 2</caption>\n",
       "<thead>\n",
       "\t<tr><th scope=col>Animal_ID</th><th scope=col>DateTime_Outcome</th></tr>\n",
       "\t<tr><th scope=col>&lt;chr&gt;</th><th scope=col>&lt;chr&gt;</th></tr>\n",
       "</thead>\n",
       "<tbody>\n",
       "\t<tr><td>A776359</td><td>07/18/2018 04:02:00 PM</td></tr>\n",
       "\t<tr><td>A720371</td><td>02/13/2016 05:59:00 PM</td></tr>\n",
       "\t<tr><td>A659412</td><td>10/05/2020 02:37:00 PM</td></tr>\n",
       "\t<tr><td>A814515</td><td>05/06/2020 07:59:00 AM</td></tr>\n",
       "\t<tr><td>A689724</td><td>10/18/2014 06:52:00 PM</td></tr>\n",
       "\t<tr><td>A680969</td><td>08/05/2014 04:59:00 PM</td></tr>\n",
       "</tbody>\n",
       "</table>\n"
      ],
      "text/latex": [
       "A tibble: 6 × 2\n",
       "\\begin{tabular}{ll}\n",
       " Animal\\_ID & DateTime\\_Outcome\\\\\n",
       " <chr> & <chr>\\\\\n",
       "\\hline\n",
       "\t A776359 & 07/18/2018 04:02:00 PM\\\\\n",
       "\t A720371 & 02/13/2016 05:59:00 PM\\\\\n",
       "\t A659412 & 10/05/2020 02:37:00 PM\\\\\n",
       "\t A814515 & 05/06/2020 07:59:00 AM\\\\\n",
       "\t A689724 & 10/18/2014 06:52:00 PM\\\\\n",
       "\t A680969 & 08/05/2014 04:59:00 PM\\\\\n",
       "\\end{tabular}\n"
      ],
      "text/markdown": [
       "\n",
       "A tibble: 6 × 2\n",
       "\n",
       "| Animal_ID &lt;chr&gt; | DateTime_Outcome &lt;chr&gt; |\n",
       "|---|---|\n",
       "| A776359 | 07/18/2018 04:02:00 PM |\n",
       "| A720371 | 02/13/2016 05:59:00 PM |\n",
       "| A659412 | 10/05/2020 02:37:00 PM |\n",
       "| A814515 | 05/06/2020 07:59:00 AM |\n",
       "| A689724 | 10/18/2014 06:52:00 PM |\n",
       "| A680969 | 08/05/2014 04:59:00 PM |\n",
       "\n"
      ],
      "text/plain": [
       "  Animal_ID DateTime_Outcome      \n",
       "1 A776359   07/18/2018 04:02:00 PM\n",
       "2 A720371   02/13/2016 05:59:00 PM\n",
       "3 A659412   10/05/2020 02:37:00 PM\n",
       "4 A814515   05/06/2020 07:59:00 AM\n",
       "5 A689724   10/18/2014 06:52:00 PM\n",
       "6 A680969   08/05/2014 04:59:00 PM"
      ]
     },
     "metadata": {},
     "output_type": "display_data"
    }
   ],
   "source": [
    "#Discuss which columns are necessary in each dataset and filter it \n",
    "names(animal_intakes)<-str_replace_all(names(animal_intakes), c(\" \" = \"_\" , \",\" = \"\" ))\n",
    "names(animal_outcomes)<-str_replace_all(names(animal_outcomes), c(\" \" = \"_\" , \",\" = \"\" ))\n",
    "\n",
    "tidy_animal_intakes <- animal_intakes %>%\n",
    "    filter(Animal_Type%in%c(\"Dog\", \"Cat\")) %>%\n",
    "    dplyr::rename(DateTime_Intake = DateTime) %>%\n",
    "    select(Animal_ID, Animal_Type, DateTime_Intake)\n",
    "\n",
    "tidy_animal_outcomes <- animal_outcomes %>%\n",
    "    filter(Animal_Type%in%c(\"Dog\", \"Cat\") & Outcome_Type == \"Adoption\") %>%\n",
    "    dplyr::rename(DateTime_Outcome = DateTime) %>%\n",
    "    select(Animal_ID, DateTime_Outcome)\n",
    "head(tidy_animal_intakes)\n",
    "head(tidy_animal_outcomes)"
   ]
  },
  {
   "cell_type": "markdown",
   "metadata": {},
   "source": [
    "To get time spent at the shelter, the two datasets were first combined using Animal_ID, and then filtered.\n",
    "\n",
    "<!-- Now, with two clean datasets, they can be combined in order to have intake and adoption date information in the same dataset. Afterwards, the dataset will be filtered, removing any rows with DateTime_Outcome as N/A as these animals were not adopted and as such, are not in the focus of our question. (Needs more) -->"
   ]
  },
  {
   "cell_type": "code",
   "execution_count": 67,
   "metadata": {
    "tags": []
   },
   "outputs": [
    {
     "data": {
      "text/html": [
       "<table class=\"dataframe\">\n",
       "<caption>A data.frame: 6 × 2</caption>\n",
       "<thead>\n",
       "\t<tr><th></th><th scope=col>Animal_Type</th><th scope=col>Shelter_Period</th></tr>\n",
       "\t<tr><th></th><th scope=col>&lt;chr&gt;</th><th scope=col>&lt;dbl&gt;</th></tr>\n",
       "</thead>\n",
       "<tbody>\n",
       "\t<tr><th scope=row>1</th><td>Dog</td><td> 50</td></tr>\n",
       "\t<tr><th scope=row>2</th><td>Dog</td><td>  9</td></tr>\n",
       "\t<tr><th scope=row>3</th><td>Dog</td><td> 23</td></tr>\n",
       "\t<tr><th scope=row>4</th><td>Dog</td><td> 90</td></tr>\n",
       "\t<tr><th scope=row>5</th><td>Dog</td><td>  3</td></tr>\n",
       "\t<tr><th scope=row>6</th><td>Dog</td><td>147</td></tr>\n",
       "</tbody>\n",
       "</table>\n"
      ],
      "text/latex": [
       "A data.frame: 6 × 2\n",
       "\\begin{tabular}{r|ll}\n",
       "  & Animal\\_Type & Shelter\\_Period\\\\\n",
       "  & <chr> & <dbl>\\\\\n",
       "\\hline\n",
       "\t1 & Dog &  50\\\\\n",
       "\t2 & Dog &   9\\\\\n",
       "\t3 & Dog &  23\\\\\n",
       "\t4 & Dog &  90\\\\\n",
       "\t5 & Dog &   3\\\\\n",
       "\t6 & Dog & 147\\\\\n",
       "\\end{tabular}\n"
      ],
      "text/markdown": [
       "\n",
       "A data.frame: 6 × 2\n",
       "\n",
       "| <!--/--> | Animal_Type &lt;chr&gt; | Shelter_Period &lt;dbl&gt; |\n",
       "|---|---|---|\n",
       "| 1 | Dog |  50 |\n",
       "| 2 | Dog |   9 |\n",
       "| 3 | Dog |  23 |\n",
       "| 4 | Dog |  90 |\n",
       "| 5 | Dog |   3 |\n",
       "| 6 | Dog | 147 |\n",
       "\n"
      ],
      "text/plain": [
       "  Animal_Type Shelter_Period\n",
       "1 Dog          50           \n",
       "2 Dog           9           \n",
       "3 Dog          23           \n",
       "4 Dog          90           \n",
       "5 Dog           3           \n",
       "6 Dog         147           "
      ]
     },
     "metadata": {},
     "output_type": "display_data"
    },
    {
     "data": {
      "text/html": [
       "73378"
      ],
      "text/latex": [
       "73378"
      ],
      "text/markdown": [
       "73378"
      ],
      "text/plain": [
       "[1] 73378"
      ]
     },
     "metadata": {},
     "output_type": "display_data"
    }
   ],
   "source": [
    "# all_animal_data <- merge(tidy_animal_intakes,tidy_animal_outcomes, by=\"Animal_ID\") %>%\n",
    "#     filter(!is.na(DateTime_Outcome))\n",
    "# head(all_animal_data)\n",
    "# nrow(all_animal_data)\n",
    "\n",
    "adoption_time_data <- merge(tidy_animal_intakes,tidy_animal_outcomes, by=\"Animal_ID\") %>%\n",
    "    filter(!is.na(DateTime_Outcome)) %>%\n",
    "    mutate(DateTime_Outcome = as.Date(DateTime_Outcome, format = \"%m/%d/%Y\"),\n",
    "          DateTime_Intake = as.Date(DateTime_Intake, format = \"%m/%d/%Y\"),\n",
    "          Shelter_Period = as.numeric(difftime(DateTime_Outcome, DateTime_Intake, unit = \"days\"))) %>%\n",
    "    filter(Shelter_Period >= 0) %>%\n",
    "    select(Animal_Type, Shelter_Period)\n",
    "head(adoption_time_data)\n",
    "nrow(adoption_time_data)"
   ]
  },
  {
   "cell_type": "markdown",
   "metadata": {},
   "source": [
    "_Table 1:_"
   ]
  },
  {
   "cell_type": "markdown",
   "metadata": {},
   "source": [
    "In order to analyze the data, samples of size 200 were created for dogs and cats. Their sample distributions are plotted below. We decided on sample size of 200 because it is a common size taken in real-life studies. "
   ]
  },
  {
   "cell_type": "markdown",
   "metadata": {},
   "source": [
    "<!-- And that's a clean dataset! In order to analyze the time taken for adoption, we find Shelter Time. Then, take a sample of 200. The seed is 310. Plot sample distributions. -->"
   ]
  },
  {
   "cell_type": "code",
   "execution_count": 75,
   "metadata": {},
   "outputs": [
    {
     "data": {
      "text/html": [
       "'Dog median for 200 samples: 10.00'"
      ],
      "text/latex": [
       "'Dog median for 200 samples: 10.00'"
      ],
      "text/markdown": [
       "'Dog median for 200 samples: 10.00'"
      ],
      "text/plain": [
       "[1] \"Dog median for 200 samples: 10.00\""
      ]
     },
     "metadata": {},
     "output_type": "display_data"
    },
    {
     "data": {
      "text/html": [
       "'Cat median for 200 samples: 33.50'"
      ],
      "text/latex": [
       "'Cat median for 200 samples: 33.50'"
      ],
      "text/markdown": [
       "'Cat median for 200 samples: 33.50'"
      ],
      "text/plain": [
       "[1] \"Cat median for 200 samples: 33.50\""
      ]
     },
     "metadata": {},
     "output_type": "display_data"
    }
   ],
   "source": [
    "options(repr.plot.width = 10)\n",
    "set.seed(310)\n",
    "\n",
    "# Get datasets filtered by species\n",
    "adoption_time_data_dog <- adoption_time_data %>%\n",
    "    filter(Animal_Type == \"Dog\")\n",
    "\n",
    "adoption_time_data_cat <- adoption_time_data %>%\n",
    "    filter(Animal_Type == \"Cat\")\n",
    "\n",
    "\n",
    "# Dog: Sample (size 200)\n",
    "dog_sample_200 <- adoption_time_data_dog %>%\n",
    "    rep_sample_n(size = 200) \n",
    "\n",
    "#Dog: Sample median calculated\n",
    "sample_dog_median <- dog_sample_200 %>%\n",
    "    summarize(med = median(Shelter_Period)) %>%\n",
    "    pull()\n",
    "\n",
    "sprintf(\"Dog median for 200 samples: %.2f\", sample_dog_median)\n",
    "\n",
    "\n",
    "# Cat: Sample (size 200)\n",
    "cat_sample_200 <- adoption_time_data_cat %>%\n",
    "    rep_sample_n(size = 200) \n",
    "\n",
    "#Cat: Sample median calculated\n",
    "sample_cat_median <- cat_sample_200 %>%\n",
    "    summarize(med = median(Shelter_Period)) %>%\n",
    "    pull()\n",
    "\n",
    "sprintf(\"Cat median for 200 samples: %.2f\", sample_cat_median)"
   ]
  },
  {
   "cell_type": "code",
   "execution_count": 79,
   "metadata": {},
   "outputs": [],
   "source": [
    "# Dog: Sample200 histogram\n",
    "options(repr.plot.width = 15)\n",
    "animal_sample200_dog_dist <- dog_sample_200 %>%\n",
    "                            ggplot(aes(x = Shelter_Period)) +\n",
    "                            geom_histogram(binwidth = 50) +\n",
    "                            labs(x = \"Shelter Period in Days\", title = \"Time Dogs spent in Shelter Before Adoption\") +\n",
    "                            geom_vline(xintercept = 10.00, colour = \"red\")"
   ]
  },
  {
   "cell_type": "code",
   "execution_count": 80,
   "metadata": {},
   "outputs": [],
   "source": [
    "# # Cat: Sample200 histogram\n",
    "options(repr.plot.width = 15)\n",
    "animal_sample200_cat_dist <- cat_sample_200 %>%\n",
    "                            ggplot(aes(x = Shelter_Period)) +\n",
    "                            geom_histogram(binwidth = 50) +\n",
    "                            labs(x = \"Shelter Period in Days\", title = \"Time Cats spent in Shelter Before Adoption\") +\n",
    "                            geom_vline(xintercept = 33.50, colour = \"red\")"
   ]
  },
  {
   "cell_type": "markdown",
   "metadata": {},
   "source": [
    "Below, we plot the distributions together with the median illustrated with the red vertical line."
   ]
  },
  {
   "cell_type": "code",
   "execution_count": 81,
   "metadata": {},
   "outputs": [
    {
     "data": {
      "image/png": "[encoded data removed]",
      "text/plain": [
       "plot without title"
      ]
     },
     "metadata": {
      "image/png": {
       "height": 420,
       "width": 1200
      }
     },
     "output_type": "display_data"
    }
   ],
   "source": [
    "options(repr.plot.width = 20)\n",
    "\n",
    "proportion_plot_row <- plot_grid(animal_sample200_dog_dist +\n",
    "                                 scale_x_continuous(limits = c(NA, NA)),\n",
    "                                 animal_sample200_cat_dist +\n",
    "                                 scale_x_continuous(limits = c(NA, NA)),\n",
    "                                 ncol = 2)\n",
    "\n",
    "title <- ggdraw() + \n",
    "  draw_label(\"Comparison of dog and cat sample distributions\",\n",
    "             fontface = 'bold',\n",
    "             x = 0,\n",
    "             hjust = 0) +\n",
    "  theme(plot.margin = margin(0, 0, 0, 7))\n",
    "\n",
    "medians_grid <- plot_grid(title,\n",
    "                        proportion_plot_row,\n",
    "                        ncol = 1,\n",
    "                        rel_heights = c(0.1, 1))\n",
    "\n",
    "medians_grid"
   ]
  },
  {
   "cell_type": "markdown",
   "metadata": {},
   "source": [
    "| _Figure 1: Comparing the Distributions of Time spent for **Dogs** and **Cats**_|\n",
    "| ------------------------ |"
   ]
  },
  {
   "cell_type": "markdown",
   "metadata": {},
   "source": [
    "Now, we find the IQR for the measure of spread as we are working with skewed data."
   ]
  },
  {
   "cell_type": "code",
   "execution_count": 82,
   "metadata": {},
   "outputs": [
    {
     "data": {
      "text/plain": [
       "   Min. 1st Qu.  Median    Mean 3rd Qu.    Max. \n",
       "   0.00    5.00   10.00   63.16   41.00 1404.00 "
      ]
     },
     "metadata": {},
     "output_type": "display_data"
    },
    {
     "data": {
      "text/html": [
       "36"
      ],
      "text/latex": [
       "36"
      ],
      "text/markdown": [
       "36"
      ],
      "text/plain": [
       "[1] 36"
      ]
     },
     "metadata": {},
     "output_type": "display_data"
    }
   ],
   "source": [
    "#dog_sample_200\n",
    "summary(dog_sample_200$Shelter_Period)\n",
    "IQR(dog_sample_200$Shelter_Period)"
   ]
  },
  {
   "cell_type": "code",
   "execution_count": 83,
   "metadata": {},
   "outputs": [
    {
     "data": {
      "text/plain": [
       "   Min. 1st Qu.  Median    Mean 3rd Qu.    Max. \n",
       "   0.00    8.75   33.50   74.30   61.00 1914.00 "
      ]
     },
     "metadata": {},
     "output_type": "display_data"
    },
    {
     "data": {
      "text/html": [
       "52.25"
      ],
      "text/latex": [
       "52.25"
      ],
      "text/markdown": [
       "52.25"
      ],
      "text/plain": [
       "[1] 52.25"
      ]
     },
     "metadata": {},
     "output_type": "display_data"
    }
   ],
   "source": [
    "#cat_sample_200\n",
    "summary(cat_sample_200$Shelter_Period)\n",
    "IQR(cat_sample_200$Shelter_Period)"
   ]
  },
  {
   "cell_type": "markdown",
   "metadata": {
    "tags": []
   },
   "source": [
    "|  Point Estimates        |    Dogs   |   Cats    |\n",
    "| -------- | --------- | --------- |\n",
    "| IQR (days)      |  36.00 | 52.25 |\n",
    "| Median (days)   | 10.00 | 33.50|"
   ]
  },
  {
   "cell_type": "markdown",
   "metadata": {},
   "source": [
    "| Table 2: Estimates of the parameter |\n",
    "| ------------------------ |"
   ]
  },
  {
   "cell_type": "markdown",
   "metadata": {},
   "source": [
    "## **Methods:**\n",
    "\n",
    "The well developed reports provide important guidelines to follow. Also it helps to predict further problems and improve decision making to draw conclusions about statistical inference. The report trustworthy is determined with the data taken and the progress of statistical inference; testing hypotheses and deriving estimates. Individual test subjects approached this survey is representative, generalized, and unbiased of the results, and null hypothesis is well developed to prove the alternate hypothesis is true when $H_0$ is rejected. The median value allows us to find the conclusive result without affected by extreme values. \n",
    "\n",
    "However, the estimates we produced are not enough to give to stakeholders since the sample size was made without considering margin errors and the confidence interval is wide to conclude certain.\n",
    "\n",
    "We expect to find the mean period of staying in the shelter for each dog and cat, and it also indicates a difference between the period of staying in the shelter for dogs and cats. This impact not only to shelter employers or stakeholders to improve shelter conditions and environment suitable, caregivers could improve their plan to give up the adoption for the animals who stayed the longer. The future questions this could lead is the more specific conditions that each animal affects to the period of staying in the shelter. Their age, sex, or health could also influences to the period of staying. Therefore, it is important to compare their adoption conditions to find whether the result is affected or not affected by not only species but also conditions.  \n"
   ]
  },
  {
   "cell_type": "markdown",
   "metadata": {},
   "source": [
    "## **References:**"
   ]
  },
  {
   "cell_type": "markdown",
   "metadata": {},
   "source": []
  }
 ],
 "metadata": {
  "interpreter": {
   "hash": "81794d4967e6c3204c66dcd87b604927b115b27c00565d3d43f05ba2f3a2cb0d"
  },
  "kernelspec": {
   "display_name": "R",
   "language": "R",
   "name": "ir"
  },
  "language_info": {
   "codemirror_mode": "r",
   "file_extension": ".r",
   "mimetype": "text/x-r-source",
   "name": "R",
   "pygments_lexer": "r",
   "version": "4.1.2"
  }
 },
 "nbformat": 4,
 "nbformat_minor": 4
}
