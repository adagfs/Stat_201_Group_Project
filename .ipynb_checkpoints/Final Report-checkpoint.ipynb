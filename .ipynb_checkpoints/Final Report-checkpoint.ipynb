{
 "cells": [
  {
   "cell_type": "markdown",
   "id": "5cea8966-aaf1-4b80-b09e-cd34d7b8bbb5",
   "metadata": {
    "jp-MarkdownHeadingCollapsed": true,
    "tags": []
   },
   "source": [
    "#### Final Report: Group #21"
   ]
  },
  {
   "cell_type": "markdown",
   "id": "5729689d-af14-44c3-b5c8-5c739e1437af",
   "metadata": {},
   "source": [
    "## **Inferential Analysis on the Adoption Time of Dogs and Cats from the Austin Animal Center**\n",
    "#### _Group Members: Sadia, Youjung, Adam_"
   ]
  },
  {
   "cell_type": "markdown",
   "id": "f66bf3c7-57da-47d3-9590-20c5b73af342",
   "metadata": {},
   "source": [
    "First, let's retrieve the necessary packages."
   ]
  },
  {
   "cell_type": "code",
   "execution_count": 39,
   "id": "85b01cd2-c95c-4b74-b44c-68e8bc686857",
   "metadata": {},
   "outputs": [
    {
     "name": "stderr",
     "output_type": "stream",
     "text": [
      "Installing package into ‘/home/jupyter/R/x86_64-pc-linux-gnu-library/4.1’\n",
      "(as ‘lib’ is unspecified)\n",
      "\n",
      "Installing package into ‘/home/jupyter/R/x86_64-pc-linux-gnu-library/4.1’\n",
      "(as ‘lib’ is unspecified)\n",
      "\n",
      "\n",
      "Attaching package: ‘gridExtra’\n",
      "\n",
      "\n",
      "The following object is masked from ‘package:dplyr’:\n",
      "\n",
      "    combine\n",
      "\n",
      "\n"
     ]
    }
   ],
   "source": [
    "install.packages(\"infer\")\n",
    "library(infer)\n",
    "install.packages(\"cowplot\")\n",
    "library(cowplot)\n",
    "library(tidyverse)\n",
    "\n",
    "library(broom)\n",
    "library(repr)\n",
    "library(digest)\n",
    "library(gridExtra)"
   ]
  },
  {
   "cell_type": "markdown",
   "id": "9578a8a2-2e95-4910-bbde-fb65a18e75e8",
   "metadata": {
    "tags": []
   },
   "source": [
    "# **_Introduction_**"
   ]
  },
  {
   "cell_type": "markdown",
   "id": "2ea5d9d2-8a17-4f85-a02d-0686309f4fc5",
   "metadata": {},
   "source": [
    "**Question: How long does it take for cats and dogs to get adopted and are dogs adopted faster than cats are?**"
   ]
  },
  {
   "cell_type": "markdown",
   "id": "a421b651-b724-42e8-aa7a-d67a3af2e1b7",
   "metadata": {},
   "source": [
    "new intro goes here..."
   ]
  },
  {
   "cell_type": "markdown",
   "id": "2d14ca97-6ff8-49d3-9f05-b0f1ad3a2184",
   "metadata": {},
   "source": [
    "<img src=\"https://creazilla-store.fra1.digitaloceanspaces.com/cliparts/11072/dog-cat-animal-clipart-md.png\" width=500>"
   ]
  },
  {
   "cell_type": "markdown",
   "id": "9a489a42-6845-42ab-891e-28075ae8252e",
   "metadata": {},
   "source": [
    "# **_Methods & Results_**"
   ]
  },
  {
   "cell_type": "markdown",
   "id": "11643a58-2ded-469b-a22e-65025d8b622c",
   "metadata": {},
   "source": [
    "#### Preliminary Results:"
   ]
  },
  {
   "cell_type": "code",
   "execution_count": 2,
   "id": "191238a9-5a2c-48b6-9346-bca36ed08d38",
   "metadata": {
    "tags": []
   },
   "outputs": [
    {
     "name": "stderr",
     "output_type": "stream",
     "text": [
      "\u001b[1mRows: \u001b[22m\u001b[34m142192\u001b[39m \u001b[1mColumns: \u001b[22m\u001b[34m12\u001b[39m\n",
      "\u001b[36m──\u001b[39m \u001b[1mColumn specification\u001b[22m \u001b[36m────────────────────────────────────────────────────────\u001b[39m\n",
      "\u001b[1mDelimiter:\u001b[22m \",\"\n",
      "\u001b[31mchr\u001b[39m (12): Animal ID, Name, DateTime, MonthYear, Found Location, Intake Type,...\n",
      "\n",
      "\u001b[36mℹ\u001b[39m Use `spec()` to retrieve the full column specification for this data.\n",
      "\u001b[36mℹ\u001b[39m Specify the column types or set `show_col_types = FALSE` to quiet this message.\n"
     ]
    },
    {
     "data": {
      "text/html": [
       "<table class=\"dataframe\">\n",
       "<caption>A tibble: 6 × 12</caption>\n",
       "<thead>\n",
       "\t<tr><th scope=col>Animal ID</th><th scope=col>Name</th><th scope=col>DateTime</th><th scope=col>MonthYear</th><th scope=col>Found Location</th><th scope=col>Intake Type</th><th scope=col>Intake Condition</th><th scope=col>Animal Type</th><th scope=col>Sex upon Intake</th><th scope=col>Age upon Intake</th><th scope=col>Breed</th><th scope=col>Color</th></tr>\n",
       "\t<tr><th scope=col>&lt;chr&gt;</th><th scope=col>&lt;chr&gt;</th><th scope=col>&lt;chr&gt;</th><th scope=col>&lt;chr&gt;</th><th scope=col>&lt;chr&gt;</th><th scope=col>&lt;chr&gt;</th><th scope=col>&lt;chr&gt;</th><th scope=col>&lt;chr&gt;</th><th scope=col>&lt;chr&gt;</th><th scope=col>&lt;chr&gt;</th><th scope=col>&lt;chr&gt;</th><th scope=col>&lt;chr&gt;</th></tr>\n",
       "</thead>\n",
       "<tbody>\n",
       "\t<tr><td>A786884</td><td>*Brock </td><td>01/03/2019 04:19:00 PM</td><td>January 2019 </td><td>2501 Magin Meadow Dr in Austin (TX)</td><td>Stray          </td><td>Normal</td><td>Dog</td><td>Neutered Male</td><td>2 years  </td><td>Beagle Mix                           </td><td>Tricolor   </td></tr>\n",
       "\t<tr><td>A706918</td><td>Belle  </td><td>07/05/2015 12:59:00 PM</td><td>July 2015    </td><td>9409 Bluegrass Dr in Austin (TX)   </td><td>Stray          </td><td>Normal</td><td>Dog</td><td>Spayed Female</td><td>8 years  </td><td>English Springer Spaniel             </td><td>White/Liver</td></tr>\n",
       "\t<tr><td>A724273</td><td>Runster</td><td>04/14/2016 06:43:00 PM</td><td>April 2016   </td><td>2818 Palomino Trail in Austin (TX) </td><td>Stray          </td><td>Normal</td><td>Dog</td><td>Intact Male  </td><td>11 months</td><td>Basenji Mix                          </td><td>Sable/White</td></tr>\n",
       "\t<tr><td>A665644</td><td>NA     </td><td>10/21/2013 07:59:00 AM</td><td>October 2013 </td><td>Austin (TX)                        </td><td>Stray          </td><td>Sick  </td><td>Cat</td><td>Intact Female</td><td>4 weeks  </td><td>Domestic Shorthair Mix               </td><td>Calico     </td></tr>\n",
       "\t<tr><td>A682524</td><td>Rio    </td><td>06/29/2014 10:38:00 AM</td><td>June 2014    </td><td>800 Grove Blvd in Austin (TX)      </td><td>Stray          </td><td>Normal</td><td>Dog</td><td>Neutered Male</td><td>4 years  </td><td>Doberman Pinsch/Australian Cattle Dog</td><td>Tan/Gray   </td></tr>\n",
       "\t<tr><td>A743852</td><td>Odin   </td><td>02/18/2017 12:46:00 PM</td><td>February 2017</td><td>Austin (TX)                        </td><td>Owner Surrender</td><td>Normal</td><td>Dog</td><td>Neutered Male</td><td>2 years  </td><td>Labrador Retriever Mix               </td><td>Chocolate  </td></tr>\n",
       "</tbody>\n",
       "</table>\n"
      ],
      "text/latex": [
       "A tibble: 6 × 12\n",
       "\\begin{tabular}{llllllllllll}\n",
       " Animal ID & Name & DateTime & MonthYear & Found Location & Intake Type & Intake Condition & Animal Type & Sex upon Intake & Age upon Intake & Breed & Color\\\\\n",
       " <chr> & <chr> & <chr> & <chr> & <chr> & <chr> & <chr> & <chr> & <chr> & <chr> & <chr> & <chr>\\\\\n",
       "\\hline\n",
       "\t A786884 & *Brock  & 01/03/2019 04:19:00 PM & January 2019  & 2501 Magin Meadow Dr in Austin (TX) & Stray           & Normal & Dog & Neutered Male & 2 years   & Beagle Mix                            & Tricolor   \\\\\n",
       "\t A706918 & Belle   & 07/05/2015 12:59:00 PM & July 2015     & 9409 Bluegrass Dr in Austin (TX)    & Stray           & Normal & Dog & Spayed Female & 8 years   & English Springer Spaniel              & White/Liver\\\\\n",
       "\t A724273 & Runster & 04/14/2016 06:43:00 PM & April 2016    & 2818 Palomino Trail in Austin (TX)  & Stray           & Normal & Dog & Intact Male   & 11 months & Basenji Mix                           & Sable/White\\\\\n",
       "\t A665644 & NA      & 10/21/2013 07:59:00 AM & October 2013  & Austin (TX)                         & Stray           & Sick   & Cat & Intact Female & 4 weeks   & Domestic Shorthair Mix                & Calico     \\\\\n",
       "\t A682524 & Rio     & 06/29/2014 10:38:00 AM & June 2014     & 800 Grove Blvd in Austin (TX)       & Stray           & Normal & Dog & Neutered Male & 4 years   & Doberman Pinsch/Australian Cattle Dog & Tan/Gray   \\\\\n",
       "\t A743852 & Odin    & 02/18/2017 12:46:00 PM & February 2017 & Austin (TX)                         & Owner Surrender & Normal & Dog & Neutered Male & 2 years   & Labrador Retriever Mix                & Chocolate  \\\\\n",
       "\\end{tabular}\n"
      ],
      "text/markdown": [
       "\n",
       "A tibble: 6 × 12\n",
       "\n",
       "| Animal ID &lt;chr&gt; | Name &lt;chr&gt; | DateTime &lt;chr&gt; | MonthYear &lt;chr&gt; | Found Location &lt;chr&gt; | Intake Type &lt;chr&gt; | Intake Condition &lt;chr&gt; | Animal Type &lt;chr&gt; | Sex upon Intake &lt;chr&gt; | Age upon Intake &lt;chr&gt; | Breed &lt;chr&gt; | Color &lt;chr&gt; |\n",
       "|---|---|---|---|---|---|---|---|---|---|---|---|\n",
       "| A786884 | *Brock  | 01/03/2019 04:19:00 PM | January 2019  | 2501 Magin Meadow Dr in Austin (TX) | Stray           | Normal | Dog | Neutered Male | 2 years   | Beagle Mix                            | Tricolor    |\n",
       "| A706918 | Belle   | 07/05/2015 12:59:00 PM | July 2015     | 9409 Bluegrass Dr in Austin (TX)    | Stray           | Normal | Dog | Spayed Female | 8 years   | English Springer Spaniel              | White/Liver |\n",
       "| A724273 | Runster | 04/14/2016 06:43:00 PM | April 2016    | 2818 Palomino Trail in Austin (TX)  | Stray           | Normal | Dog | Intact Male   | 11 months | Basenji Mix                           | Sable/White |\n",
       "| A665644 | NA      | 10/21/2013 07:59:00 AM | October 2013  | Austin (TX)                         | Stray           | Sick   | Cat | Intact Female | 4 weeks   | Domestic Shorthair Mix                | Calico      |\n",
       "| A682524 | Rio     | 06/29/2014 10:38:00 AM | June 2014     | 800 Grove Blvd in Austin (TX)       | Stray           | Normal | Dog | Neutered Male | 4 years   | Doberman Pinsch/Australian Cattle Dog | Tan/Gray    |\n",
       "| A743852 | Odin    | 02/18/2017 12:46:00 PM | February 2017 | Austin (TX)                         | Owner Surrender | Normal | Dog | Neutered Male | 2 years   | Labrador Retriever Mix                | Chocolate   |\n",
       "\n"
      ],
      "text/plain": [
       "  Animal ID Name    DateTime               MonthYear    \n",
       "1 A786884   *Brock  01/03/2019 04:19:00 PM January 2019 \n",
       "2 A706918   Belle   07/05/2015 12:59:00 PM July 2015    \n",
       "3 A724273   Runster 04/14/2016 06:43:00 PM April 2016   \n",
       "4 A665644   NA      10/21/2013 07:59:00 AM October 2013 \n",
       "5 A682524   Rio     06/29/2014 10:38:00 AM June 2014    \n",
       "6 A743852   Odin    02/18/2017 12:46:00 PM February 2017\n",
       "  Found Location                      Intake Type     Intake Condition\n",
       "1 2501 Magin Meadow Dr in Austin (TX) Stray           Normal          \n",
       "2 9409 Bluegrass Dr in Austin (TX)    Stray           Normal          \n",
       "3 2818 Palomino Trail in Austin (TX)  Stray           Normal          \n",
       "4 Austin (TX)                         Stray           Sick            \n",
       "5 800 Grove Blvd in Austin (TX)       Stray           Normal          \n",
       "6 Austin (TX)                         Owner Surrender Normal          \n",
       "  Animal Type Sex upon Intake Age upon Intake\n",
       "1 Dog         Neutered Male   2 years        \n",
       "2 Dog         Spayed Female   8 years        \n",
       "3 Dog         Intact Male     11 months      \n",
       "4 Cat         Intact Female   4 weeks        \n",
       "5 Dog         Neutered Male   4 years        \n",
       "6 Dog         Neutered Male   2 years        \n",
       "  Breed                                 Color      \n",
       "1 Beagle Mix                            Tricolor   \n",
       "2 English Springer Spaniel              White/Liver\n",
       "3 Basenji Mix                           Sable/White\n",
       "4 Domestic Shorthair Mix                Calico     \n",
       "5 Doberman Pinsch/Australian Cattle Dog Tan/Gray   \n",
       "6 Labrador Retriever Mix                Chocolate  "
      ]
     },
     "metadata": {},
     "output_type": "display_data"
    },
    {
     "name": "stderr",
     "output_type": "stream",
     "text": [
      "\u001b[1mRows: \u001b[22m\u001b[34m141980\u001b[39m \u001b[1mColumns: \u001b[22m\u001b[34m12\u001b[39m\n",
      "\u001b[36m──\u001b[39m \u001b[1mColumn specification\u001b[22m \u001b[36m────────────────────────────────────────────────────────\u001b[39m\n",
      "\u001b[1mDelimiter:\u001b[22m \",\"\n",
      "\u001b[31mchr\u001b[39m (12): Animal ID, Name, DateTime, MonthYear, Date of Birth, Outcome Type,...\n",
      "\n",
      "\u001b[36mℹ\u001b[39m Use `spec()` to retrieve the full column specification for this data.\n",
      "\u001b[36mℹ\u001b[39m Specify the column types or set `show_col_types = FALSE` to quiet this message.\n"
     ]
    },
    {
     "data": {
      "text/html": [
       "<table class=\"dataframe\">\n",
       "<caption>A tibble: 6 × 12</caption>\n",
       "<thead>\n",
       "\t<tr><th scope=col>Animal ID</th><th scope=col>Name</th><th scope=col>DateTime</th><th scope=col>MonthYear</th><th scope=col>Date of Birth</th><th scope=col>Outcome Type</th><th scope=col>Outcome Subtype</th><th scope=col>Animal Type</th><th scope=col>Sex upon Outcome</th><th scope=col>Age upon Outcome</th><th scope=col>Breed</th><th scope=col>Color</th></tr>\n",
       "\t<tr><th scope=col>&lt;chr&gt;</th><th scope=col>&lt;chr&gt;</th><th scope=col>&lt;chr&gt;</th><th scope=col>&lt;chr&gt;</th><th scope=col>&lt;chr&gt;</th><th scope=col>&lt;chr&gt;</th><th scope=col>&lt;chr&gt;</th><th scope=col>&lt;chr&gt;</th><th scope=col>&lt;chr&gt;</th><th scope=col>&lt;chr&gt;</th><th scope=col>&lt;chr&gt;</th><th scope=col>&lt;chr&gt;</th></tr>\n",
       "</thead>\n",
       "<tbody>\n",
       "\t<tr><td>A794011</td><td>Chunk   </td><td>05/08/2019 06:20:00 PM</td><td>May 2019</td><td>05/02/2017</td><td>Rto-Adopt </td><td>NA     </td><td>Cat  </td><td>Neutered Male</td><td>2 years </td><td>Domestic Shorthair Mix            </td><td>Brown Tabby/White</td></tr>\n",
       "\t<tr><td>A776359</td><td>Gizmo   </td><td>07/18/2018 04:02:00 PM</td><td>Jul 2018</td><td>07/12/2017</td><td>Adoption  </td><td>NA     </td><td>Dog  </td><td>Neutered Male</td><td>1 year  </td><td>Chihuahua Shorthair Mix           </td><td>White/Brown      </td></tr>\n",
       "\t<tr><td>A821648</td><td>NA      </td><td>08/16/2020 11:38:00 AM</td><td>Aug 2020</td><td>08/16/2019</td><td>Euthanasia</td><td>NA     </td><td>Other</td><td>Unknown      </td><td>1 year  </td><td>Raccoon                           </td><td>Gray             </td></tr>\n",
       "\t<tr><td>A720371</td><td>Moose   </td><td>02/13/2016 05:59:00 PM</td><td>Feb 2016</td><td>10/08/2015</td><td>Adoption  </td><td>NA     </td><td>Dog  </td><td>Neutered Male</td><td>4 months</td><td>Anatol Shepherd/Labrador Retriever</td><td>Buff             </td></tr>\n",
       "\t<tr><td>A674754</td><td>NA      </td><td>03/18/2014 11:47:00 AM</td><td>Mar 2014</td><td>03/12/2014</td><td>Transfer  </td><td>Partner</td><td>Cat  </td><td>Intact Male  </td><td>6 days  </td><td>Domestic Shorthair Mix            </td><td>Orange Tabby     </td></tr>\n",
       "\t<tr><td>A659412</td><td>Princess</td><td>10/05/2020 02:37:00 PM</td><td>Oct 2020</td><td>03/24/2013</td><td>Adoption  </td><td>NA     </td><td>Dog  </td><td>Spayed Female</td><td>7 years </td><td>Chihuahua Shorthair Mix           </td><td>Brown            </td></tr>\n",
       "</tbody>\n",
       "</table>\n"
      ],
      "text/latex": [
       "A tibble: 6 × 12\n",
       "\\begin{tabular}{llllllllllll}\n",
       " Animal ID & Name & DateTime & MonthYear & Date of Birth & Outcome Type & Outcome Subtype & Animal Type & Sex upon Outcome & Age upon Outcome & Breed & Color\\\\\n",
       " <chr> & <chr> & <chr> & <chr> & <chr> & <chr> & <chr> & <chr> & <chr> & <chr> & <chr> & <chr>\\\\\n",
       "\\hline\n",
       "\t A794011 & Chunk    & 05/08/2019 06:20:00 PM & May 2019 & 05/02/2017 & Rto-Adopt  & NA      & Cat   & Neutered Male & 2 years  & Domestic Shorthair Mix             & Brown Tabby/White\\\\\n",
       "\t A776359 & Gizmo    & 07/18/2018 04:02:00 PM & Jul 2018 & 07/12/2017 & Adoption   & NA      & Dog   & Neutered Male & 1 year   & Chihuahua Shorthair Mix            & White/Brown      \\\\\n",
       "\t A821648 & NA       & 08/16/2020 11:38:00 AM & Aug 2020 & 08/16/2019 & Euthanasia & NA      & Other & Unknown       & 1 year   & Raccoon                            & Gray             \\\\\n",
       "\t A720371 & Moose    & 02/13/2016 05:59:00 PM & Feb 2016 & 10/08/2015 & Adoption   & NA      & Dog   & Neutered Male & 4 months & Anatol Shepherd/Labrador Retriever & Buff             \\\\\n",
       "\t A674754 & NA       & 03/18/2014 11:47:00 AM & Mar 2014 & 03/12/2014 & Transfer   & Partner & Cat   & Intact Male   & 6 days   & Domestic Shorthair Mix             & Orange Tabby     \\\\\n",
       "\t A659412 & Princess & 10/05/2020 02:37:00 PM & Oct 2020 & 03/24/2013 & Adoption   & NA      & Dog   & Spayed Female & 7 years  & Chihuahua Shorthair Mix            & Brown            \\\\\n",
       "\\end{tabular}\n"
      ],
      "text/markdown": [
       "\n",
       "A tibble: 6 × 12\n",
       "\n",
       "| Animal ID &lt;chr&gt; | Name &lt;chr&gt; | DateTime &lt;chr&gt; | MonthYear &lt;chr&gt; | Date of Birth &lt;chr&gt; | Outcome Type &lt;chr&gt; | Outcome Subtype &lt;chr&gt; | Animal Type &lt;chr&gt; | Sex upon Outcome &lt;chr&gt; | Age upon Outcome &lt;chr&gt; | Breed &lt;chr&gt; | Color &lt;chr&gt; |\n",
       "|---|---|---|---|---|---|---|---|---|---|---|---|\n",
       "| A794011 | Chunk    | 05/08/2019 06:20:00 PM | May 2019 | 05/02/2017 | Rto-Adopt  | NA      | Cat   | Neutered Male | 2 years  | Domestic Shorthair Mix             | Brown Tabby/White |\n",
       "| A776359 | Gizmo    | 07/18/2018 04:02:00 PM | Jul 2018 | 07/12/2017 | Adoption   | NA      | Dog   | Neutered Male | 1 year   | Chihuahua Shorthair Mix            | White/Brown       |\n",
       "| A821648 | NA       | 08/16/2020 11:38:00 AM | Aug 2020 | 08/16/2019 | Euthanasia | NA      | Other | Unknown       | 1 year   | Raccoon                            | Gray              |\n",
       "| A720371 | Moose    | 02/13/2016 05:59:00 PM | Feb 2016 | 10/08/2015 | Adoption   | NA      | Dog   | Neutered Male | 4 months | Anatol Shepherd/Labrador Retriever | Buff              |\n",
       "| A674754 | NA       | 03/18/2014 11:47:00 AM | Mar 2014 | 03/12/2014 | Transfer   | Partner | Cat   | Intact Male   | 6 days   | Domestic Shorthair Mix             | Orange Tabby      |\n",
       "| A659412 | Princess | 10/05/2020 02:37:00 PM | Oct 2020 | 03/24/2013 | Adoption   | NA      | Dog   | Spayed Female | 7 years  | Chihuahua Shorthair Mix            | Brown             |\n",
       "\n"
      ],
      "text/plain": [
       "  Animal ID Name     DateTime               MonthYear Date of Birth\n",
       "1 A794011   Chunk    05/08/2019 06:20:00 PM May 2019  05/02/2017   \n",
       "2 A776359   Gizmo    07/18/2018 04:02:00 PM Jul 2018  07/12/2017   \n",
       "3 A821648   NA       08/16/2020 11:38:00 AM Aug 2020  08/16/2019   \n",
       "4 A720371   Moose    02/13/2016 05:59:00 PM Feb 2016  10/08/2015   \n",
       "5 A674754   NA       03/18/2014 11:47:00 AM Mar 2014  03/12/2014   \n",
       "6 A659412   Princess 10/05/2020 02:37:00 PM Oct 2020  03/24/2013   \n",
       "  Outcome Type Outcome Subtype Animal Type Sex upon Outcome Age upon Outcome\n",
       "1 Rto-Adopt    NA              Cat         Neutered Male    2 years         \n",
       "2 Adoption     NA              Dog         Neutered Male    1 year          \n",
       "3 Euthanasia   NA              Other       Unknown          1 year          \n",
       "4 Adoption     NA              Dog         Neutered Male    4 months        \n",
       "5 Transfer     Partner         Cat         Intact Male      6 days          \n",
       "6 Adoption     NA              Dog         Spayed Female    7 years         \n",
       "  Breed                              Color            \n",
       "1 Domestic Shorthair Mix             Brown Tabby/White\n",
       "2 Chihuahua Shorthair Mix            White/Brown      \n",
       "3 Raccoon                            Gray             \n",
       "4 Anatol Shepherd/Labrador Retriever Buff             \n",
       "5 Domestic Shorthair Mix             Orange Tabby     \n",
       "6 Chihuahua Shorthair Mix            Brown            "
      ]
     },
     "metadata": {},
     "output_type": "display_data"
    }
   ],
   "source": [
    "#Source of datasets\n",
    "intakes <- \"https://raw.githubusercontent.com/adagfs/Stat_201_Group_Project/main/Austin_Animal_Center_Intakes.csv\"\n",
    "outcomes <- \"https://raw.githubusercontent.com/adagfs/Stat_201_Group_Project/main/Austin_Animal_Center_Outcomes.csv\"\n",
    "\n",
    "#Reading and displaying data sets\n",
    "animal_intakes <- read_csv(intakes)\n",
    "head(animal_intakes)\n",
    "\n",
    "animal_outcomes <- read_csv(outcomes)\n",
    "head(animal_outcomes)"
   ]
  },
  {
   "cell_type": "markdown",
   "id": "e6fc2fc5-abb8-497c-92d5-7db247940dbe",
   "metadata": {},
   "source": [
    "In order to analyze the datasets, we must first tidy it. This included changing column names, filtering rows, and selecting columns relevant to later analysis."
   ]
  },
  {
   "cell_type": "code",
   "execution_count": 3,
   "id": "affbb08a-f921-443d-b193-cf9b04905fec",
   "metadata": {},
   "outputs": [
    {
     "data": {
      "text/html": [
       "<table class=\"dataframe\">\n",
       "<caption>A tibble: 6 × 3</caption>\n",
       "<thead>\n",
       "\t<tr><th scope=col>Animal_ID</th><th scope=col>Animal_Type</th><th scope=col>DateTime_Intake</th></tr>\n",
       "\t<tr><th scope=col>&lt;chr&gt;</th><th scope=col>&lt;chr&gt;</th><th scope=col>&lt;chr&gt;</th></tr>\n",
       "</thead>\n",
       "<tbody>\n",
       "\t<tr><td>A786884</td><td>Dog</td><td>01/03/2019 04:19:00 PM</td></tr>\n",
       "\t<tr><td>A706918</td><td>Dog</td><td>07/05/2015 12:59:00 PM</td></tr>\n",
       "\t<tr><td>A724273</td><td>Dog</td><td>04/14/2016 06:43:00 PM</td></tr>\n",
       "\t<tr><td>A665644</td><td>Cat</td><td>10/21/2013 07:59:00 AM</td></tr>\n",
       "\t<tr><td>A682524</td><td>Dog</td><td>06/29/2014 10:38:00 AM</td></tr>\n",
       "\t<tr><td>A743852</td><td>Dog</td><td>02/18/2017 12:46:00 PM</td></tr>\n",
       "</tbody>\n",
       "</table>\n"
      ],
      "text/latex": [
       "A tibble: 6 × 3\n",
       "\\begin{tabular}{lll}\n",
       " Animal\\_ID & Animal\\_Type & DateTime\\_Intake\\\\\n",
       " <chr> & <chr> & <chr>\\\\\n",
       "\\hline\n",
       "\t A786884 & Dog & 01/03/2019 04:19:00 PM\\\\\n",
       "\t A706918 & Dog & 07/05/2015 12:59:00 PM\\\\\n",
       "\t A724273 & Dog & 04/14/2016 06:43:00 PM\\\\\n",
       "\t A665644 & Cat & 10/21/2013 07:59:00 AM\\\\\n",
       "\t A682524 & Dog & 06/29/2014 10:38:00 AM\\\\\n",
       "\t A743852 & Dog & 02/18/2017 12:46:00 PM\\\\\n",
       "\\end{tabular}\n"
      ],
      "text/markdown": [
       "\n",
       "A tibble: 6 × 3\n",
       "\n",
       "| Animal_ID &lt;chr&gt; | Animal_Type &lt;chr&gt; | DateTime_Intake &lt;chr&gt; |\n",
       "|---|---|---|\n",
       "| A786884 | Dog | 01/03/2019 04:19:00 PM |\n",
       "| A706918 | Dog | 07/05/2015 12:59:00 PM |\n",
       "| A724273 | Dog | 04/14/2016 06:43:00 PM |\n",
       "| A665644 | Cat | 10/21/2013 07:59:00 AM |\n",
       "| A682524 | Dog | 06/29/2014 10:38:00 AM |\n",
       "| A743852 | Dog | 02/18/2017 12:46:00 PM |\n",
       "\n"
      ],
      "text/plain": [
       "  Animal_ID Animal_Type DateTime_Intake       \n",
       "1 A786884   Dog         01/03/2019 04:19:00 PM\n",
       "2 A706918   Dog         07/05/2015 12:59:00 PM\n",
       "3 A724273   Dog         04/14/2016 06:43:00 PM\n",
       "4 A665644   Cat         10/21/2013 07:59:00 AM\n",
       "5 A682524   Dog         06/29/2014 10:38:00 AM\n",
       "6 A743852   Dog         02/18/2017 12:46:00 PM"
      ]
     },
     "metadata": {},
     "output_type": "display_data"
    },
    {
     "data": {
      "text/html": [
       "<table class=\"dataframe\">\n",
       "<caption>A tibble: 6 × 2</caption>\n",
       "<thead>\n",
       "\t<tr><th scope=col>Animal_ID</th><th scope=col>DateTime_Outcome</th></tr>\n",
       "\t<tr><th scope=col>&lt;chr&gt;</th><th scope=col>&lt;chr&gt;</th></tr>\n",
       "</thead>\n",
       "<tbody>\n",
       "\t<tr><td>A776359</td><td>07/18/2018 04:02:00 PM</td></tr>\n",
       "\t<tr><td>A720371</td><td>02/13/2016 05:59:00 PM</td></tr>\n",
       "\t<tr><td>A659412</td><td>10/05/2020 02:37:00 PM</td></tr>\n",
       "\t<tr><td>A814515</td><td>05/06/2020 07:59:00 AM</td></tr>\n",
       "\t<tr><td>A689724</td><td>10/18/2014 06:52:00 PM</td></tr>\n",
       "\t<tr><td>A680969</td><td>08/05/2014 04:59:00 PM</td></tr>\n",
       "</tbody>\n",
       "</table>\n"
      ],
      "text/latex": [
       "A tibble: 6 × 2\n",
       "\\begin{tabular}{ll}\n",
       " Animal\\_ID & DateTime\\_Outcome\\\\\n",
       " <chr> & <chr>\\\\\n",
       "\\hline\n",
       "\t A776359 & 07/18/2018 04:02:00 PM\\\\\n",
       "\t A720371 & 02/13/2016 05:59:00 PM\\\\\n",
       "\t A659412 & 10/05/2020 02:37:00 PM\\\\\n",
       "\t A814515 & 05/06/2020 07:59:00 AM\\\\\n",
       "\t A689724 & 10/18/2014 06:52:00 PM\\\\\n",
       "\t A680969 & 08/05/2014 04:59:00 PM\\\\\n",
       "\\end{tabular}\n"
      ],
      "text/markdown": [
       "\n",
       "A tibble: 6 × 2\n",
       "\n",
       "| Animal_ID &lt;chr&gt; | DateTime_Outcome &lt;chr&gt; |\n",
       "|---|---|\n",
       "| A776359 | 07/18/2018 04:02:00 PM |\n",
       "| A720371 | 02/13/2016 05:59:00 PM |\n",
       "| A659412 | 10/05/2020 02:37:00 PM |\n",
       "| A814515 | 05/06/2020 07:59:00 AM |\n",
       "| A689724 | 10/18/2014 06:52:00 PM |\n",
       "| A680969 | 08/05/2014 04:59:00 PM |\n",
       "\n"
      ],
      "text/plain": [
       "  Animal_ID DateTime_Outcome      \n",
       "1 A776359   07/18/2018 04:02:00 PM\n",
       "2 A720371   02/13/2016 05:59:00 PM\n",
       "3 A659412   10/05/2020 02:37:00 PM\n",
       "4 A814515   05/06/2020 07:59:00 AM\n",
       "5 A689724   10/18/2014 06:52:00 PM\n",
       "6 A680969   08/05/2014 04:59:00 PM"
      ]
     },
     "metadata": {},
     "output_type": "display_data"
    }
   ],
   "source": [
    "#Renaming columns so that they can be read in R. Column names with spaces cannot be easily read.\n",
    "names(animal_intakes)<-str_replace_all(names(animal_intakes), c(\" \" = \"_\" , \",\" = \"\" ))\n",
    "names(animal_outcomes)<-str_replace_all(names(animal_outcomes), c(\" \" = \"_\" , \",\" = \"\" ))\n",
    "\n",
    "#Filtering Intake dataset for useful data and selecting relevant columns\n",
    "tidy_animal_intakes <- animal_intakes %>%\n",
    "    filter(Animal_Type%in%c(\"Dog\", \"Cat\")) %>%\n",
    "    dplyr::rename(DateTime_Intake = DateTime) %>%\n",
    "    select(Animal_ID, Animal_Type, DateTime_Intake)\n",
    "\n",
    "#Filtering Outcome dataset for useful data and selecting relevant columns\n",
    "tidy_animal_outcomes <- animal_outcomes %>%\n",
    "    filter(Animal_Type%in%c(\"Dog\", \"Cat\") & Outcome_Type == \"Adoption\") %>%\n",
    "    dplyr::rename(DateTime_Outcome = DateTime) %>%\n",
    "    select(Animal_ID, DateTime_Outcome)\n",
    "\n",
    "\n",
    "head(tidy_animal_intakes)\n",
    "head(tidy_animal_outcomes)"
   ]
  },
  {
   "cell_type": "markdown",
   "id": "291e395c-b322-4a58-baf4-a819a2c5b18f",
   "metadata": {},
   "source": [
    "To get time spent at the shelter, the two datasets were first combined using Animal_ID, and then filtered."
   ]
  },
  {
   "cell_type": "code",
   "execution_count": 4,
   "id": "921ba5e9-2a00-49d1-bfd5-b3851119fc13",
   "metadata": {},
   "outputs": [
    {
     "data": {
      "text/html": [
       "<table class=\"dataframe\">\n",
       "<caption>A data.frame: 6 × 2</caption>\n",
       "<thead>\n",
       "\t<tr><th></th><th scope=col>Animal_Type</th><th scope=col>Shelter_Period</th></tr>\n",
       "\t<tr><th></th><th scope=col>&lt;chr&gt;</th><th scope=col>&lt;dbl&gt;</th></tr>\n",
       "</thead>\n",
       "<tbody>\n",
       "\t<tr><th scope=row>1</th><td>Dog</td><td> 50</td></tr>\n",
       "\t<tr><th scope=row>2</th><td>Dog</td><td>  9</td></tr>\n",
       "\t<tr><th scope=row>3</th><td>Dog</td><td> 23</td></tr>\n",
       "\t<tr><th scope=row>4</th><td>Dog</td><td> 90</td></tr>\n",
       "\t<tr><th scope=row>5</th><td>Dog</td><td>  3</td></tr>\n",
       "\t<tr><th scope=row>6</th><td>Dog</td><td>147</td></tr>\n",
       "</tbody>\n",
       "</table>\n"
      ],
      "text/latex": [
       "A data.frame: 6 × 2\n",
       "\\begin{tabular}{r|ll}\n",
       "  & Animal\\_Type & Shelter\\_Period\\\\\n",
       "  & <chr> & <dbl>\\\\\n",
       "\\hline\n",
       "\t1 & Dog &  50\\\\\n",
       "\t2 & Dog &   9\\\\\n",
       "\t3 & Dog &  23\\\\\n",
       "\t4 & Dog &  90\\\\\n",
       "\t5 & Dog &   3\\\\\n",
       "\t6 & Dog & 147\\\\\n",
       "\\end{tabular}\n"
      ],
      "text/markdown": [
       "\n",
       "A data.frame: 6 × 2\n",
       "\n",
       "| <!--/--> | Animal_Type &lt;chr&gt; | Shelter_Period &lt;dbl&gt; |\n",
       "|---|---|---|\n",
       "| 1 | Dog |  50 |\n",
       "| 2 | Dog |   9 |\n",
       "| 3 | Dog |  23 |\n",
       "| 4 | Dog |  90 |\n",
       "| 5 | Dog |   3 |\n",
       "| 6 | Dog | 147 |\n",
       "\n"
      ],
      "text/plain": [
       "  Animal_Type Shelter_Period\n",
       "1 Dog          50           \n",
       "2 Dog           9           \n",
       "3 Dog          23           \n",
       "4 Dog          90           \n",
       "5 Dog           3           \n",
       "6 Dog         147           "
      ]
     },
     "metadata": {},
     "output_type": "display_data"
    }
   ],
   "source": [
    "#Merge Intake and Outcome Datasets. Using DateTime_Outcome and DateTime_Intake, Shelter_Period was calculated.\n",
    "adoption_time_data <- merge(tidy_animal_intakes,tidy_animal_outcomes, by=\"Animal_ID\") %>%\n",
    "    filter(!is.na(DateTime_Outcome)) %>%\n",
    "    mutate(DateTime_Outcome = as.Date(DateTime_Outcome, format = \"%m/%d/%Y\"),\n",
    "          DateTime_Intake = as.Date(DateTime_Intake, format = \"%m/%d/%Y\"),\n",
    "          Shelter_Period = as.numeric(difftime(DateTime_Outcome, DateTime_Intake, unit = \"days\"))) %>%\n",
    "#Negative numbers were animals returned to the shelter, not relevant to our analysis\n",
    "    filter(Shelter_Period >= 0) %>%\n",
    "    select(Animal_Type, Shelter_Period)\n",
    "\n",
    "head(adoption_time_data)"
   ]
  },
  {
   "cell_type": "markdown",
   "id": "60695771-54b4-43ef-9fa5-9b1f64d71365",
   "metadata": {},
   "source": [
    "**_Table 1: Tidy Dog and Cat Shelter Period Data_**"
   ]
  },
  {
   "cell_type": "markdown",
   "id": "a6e10277-ea68-4ddb-b4b9-8bf1e8314344",
   "metadata": {},
   "source": [
    "In order to analyze the data, samples of size 200 were created for dogs and cats. We decided on sample size of 200 because it is a common size taken in real-life studies. "
   ]
  },
  {
   "cell_type": "code",
   "execution_count": 5,
   "id": "75316dba-0507-4909-9f5d-bba9b5251e4e",
   "metadata": {},
   "outputs": [],
   "source": [
    "options(repr.plot.width = 10)\n",
    "set.seed(310)\n",
    "\n",
    "# Get datasets filtered by species\n",
    "adoption_time_data_dog <- adoption_time_data %>%\n",
    "    filter(Animal_Type == \"Dog\")\n",
    "\n",
    "adoption_time_data_cat <- adoption_time_data %>%\n",
    "    filter(Animal_Type == \"Cat\")\n",
    "\n",
    "# Dog: Sample (size 200)\n",
    "dog_sample_200 <- adoption_time_data_dog %>%\n",
    "    rep_sample_n(size = 200) \n",
    "\n",
    "#Cat: Sample (size 200)\n",
    "cat_sample_200 <- adoption_time_data_cat %>%\n",
    "    rep_sample_n(size = 200) \n"
   ]
  },
  {
   "cell_type": "code",
   "execution_count": 6,
   "id": "ca42a25a-c2be-4a1a-9111-1f5c5f17485f",
   "metadata": {},
   "outputs": [],
   "source": [
    "# Dog: Sample200 histogram\n",
    "options(repr.plot.width = 15)\n",
    "animal_sample200_dog_dist <- dog_sample_200 %>%\n",
    "                            ggplot(aes(x = Shelter_Period)) +\n",
    "                            geom_histogram(binwidth = 50) +\n",
    "                            labs(x = \"Shelter Period in Days\", title = \"Time Dogs spent in Shelter Before Adoption\") +\n",
    "                            geom_vline(xintercept = 10.00, colour = \"red\")"
   ]
  },
  {
   "cell_type": "code",
   "execution_count": 7,
   "id": "33d94cc8-891a-4924-bcc1-4b734517b47c",
   "metadata": {},
   "outputs": [],
   "source": [
    "# Cat: Sample200 histogram\n",
    "options(repr.plot.width = 15)\n",
    "animal_sample200_cat_dist <- cat_sample_200 %>%\n",
    "                            ggplot(aes(x = Shelter_Period)) +\n",
    "                            geom_histogram(binwidth = 50) +\n",
    "                            labs(x = \"Shelter Period in Days\", title = \"Time Cats spent in Shelter Before Adoption\") +\n",
    "                            geom_vline(xintercept = 33.50, colour = \"red\")"
   ]
  },
  {
   "cell_type": "markdown",
   "id": "6a36d114-27c8-456e-8aa7-9f21d54f2dbb",
   "metadata": {},
   "source": [
    "Below, we plot the distributions together with the median illustrated with the red vertical line."
   ]
  },
  {
   "cell_type": "code",
   "execution_count": 8,
   "id": "d156f001",
   "metadata": {},
   "outputs": [
    {
     "name": "stderr",
     "output_type": "stream",
     "text": [
      "Warning message:\n",
      "“Removed 3 rows containing non-finite values (stat_bin).”\n",
      "Warning message:\n",
      "“Removed 2 rows containing missing values (geom_bar).”\n",
      "Warning message:\n",
      "“Removed 2 rows containing non-finite values (stat_bin).”\n",
      "Warning message:\n",
      "“Removed 2 rows containing missing values (geom_bar).”\n"
     ]
    },
    {
     "data": {
      "image/png": "[encoded data removed]",
      "text/plain": [
       "plot without title"
      ]
     },
     "metadata": {
      "image/png": {
       "height": 420,
       "width": 1200
      }
     },
     "output_type": "display_data"
    }
   ],
   "source": [
    "options(repr.plot.width = 20)\n",
    "\n",
    "#Plotting Cat and Dog histograms side by side\n",
    "proportion_plot_row <- plot_grid(animal_sample200_dog_dist +\n",
    "                                 scale_x_continuous(limits = c(-50, 800)),\n",
    "                                 animal_sample200_cat_dist +\n",
    "                                 scale_x_continuous(limits = c(-50, 800)),\n",
    "                                 ncol = 2)\n",
    "\n",
    "title <- ggdraw() + \n",
    "  draw_label(\"Comparison of Dog and Cat Sample Distributions\",\n",
    "             fontface = 'bold',\n",
    "             x = 0,\n",
    "             hjust = 0) +\n",
    "  theme(plot.margin = margin(0, 0, 0, 7))\n",
    "\n",
    "samples_grid <- plot_grid(title,\n",
    "                        proportion_plot_row,\n",
    "                        ncol = 1,\n",
    "                        rel_heights = c(0.1, 1))\n",
    "\n",
    "#Some points will not be plotted, in order to make comparison clearer\n",
    "samples_grid"
   ]
  },
  {
   "cell_type": "markdown",
   "id": "6e8686d8",
   "metadata": {},
   "source": [
    "| _Figure 1: Comparing the Distributions of Time spent in Shelter for **Dogs** and **Cats**_|\n",
    "| ------------------------ |\n",
    "||"
   ]
  },
  {
   "cell_type": "markdown",
   "id": "8b0d037f",
   "metadata": {},
   "source": [
    "In Figure 1, it is clear that for both distributions the data is asymmetrical and heavily skewed toward the right with outliers. In order to get a better understanding of the spread, we look at the IQR of the two samples:"
   ]
  },
  {
   "cell_type": "code",
   "execution_count": 9,
   "id": "ed8d4ba4",
   "metadata": {
    "scrolled": true,
    "tags": []
   },
   "outputs": [
    {
     "data": {
      "text/plain": [
       "   Min. 1st Qu.  Median    Mean 3rd Qu.    Max. \n",
       "   0.00    5.00   10.00   63.16   41.00 1404.00 "
      ]
     },
     "metadata": {},
     "output_type": "display_data"
    },
    {
     "data": {
      "text/html": [
       "'Dog IQR: 36.00'"
      ],
      "text/latex": [
       "'Dog IQR: 36.00'"
      ],
      "text/markdown": [
       "'Dog IQR: 36.00'"
      ],
      "text/plain": [
       "[1] \"Dog IQR: 36.00\""
      ]
     },
     "metadata": {},
     "output_type": "display_data"
    }
   ],
   "source": [
    "#IQR of Dog Sample\n",
    "summary(dog_sample_200$Shelter_Period)\n",
    "sprintf(\"Dog IQR: %.2f\", IQR(dog_sample_200$Shelter_Period))"
   ]
  },
  {
   "cell_type": "code",
   "execution_count": 10,
   "id": "863ede39",
   "metadata": {},
   "outputs": [
    {
     "data": {
      "text/plain": [
       "   Min. 1st Qu.  Median    Mean 3rd Qu.    Max. \n",
       "   0.00    8.75   33.50   74.30   61.00 1914.00 "
      ]
     },
     "metadata": {},
     "output_type": "display_data"
    },
    {
     "data": {
      "text/html": [
       "'Cat IQR: 52.25'"
      ],
      "text/latex": [
       "'Cat IQR: 52.25'"
      ],
      "text/markdown": [
       "'Cat IQR: 52.25'"
      ],
      "text/plain": [
       "[1] \"Cat IQR: 52.25\""
      ]
     },
     "metadata": {},
     "output_type": "display_data"
    }
   ],
   "source": [
    "#IQR of Cat Sample\n",
    "summary(cat_sample_200$Shelter_Period)\n",
    "sprintf(\"Cat IQR: %.2f\", IQR(cat_sample_200$Shelter_Period))"
   ]
  },
  {
   "cell_type": "markdown",
   "id": "5d9d57ed",
   "metadata": {},
   "source": [
    "The IQR of the cat sample is larger than that of the dog sample. However, this alone is not enough information. To get a more hollistic picture of the spread, the data is plotted using a boxplot which will clearly depict the IQR range and give us more insight into the outliers present."
   ]
  },
  {
   "cell_type": "code",
   "execution_count": 11,
   "id": "547d3e37",
   "metadata": {},
   "outputs": [],
   "source": [
    "# Dog: Sample200 Boxplot\n",
    "options(repr.plot.width = 10)\n",
    "dog_sample_200_boxplot <- dog_sample_200 %>%\n",
    "                            ggplot(aes(x = Animal_Type, y = Shelter_Period)) +\n",
    "                            geom_boxplot() +\n",
    "                            labs(x = \"Dogs\", y = \"Shelter Period in Days\", \n",
    "                                 title = \"Time Dogs spent in Shelter Before Adoption\")"
   ]
  },
  {
   "cell_type": "code",
   "execution_count": 12,
   "id": "a1b24024",
   "metadata": {},
   "outputs": [],
   "source": [
    "options(repr.plot.width = 10)\n",
    "cat_sample_200_boxplot <- cat_sample_200 %>%\n",
    "                            ggplot(aes(x = Animal_Type, y = Shelter_Period)) +\n",
    "                            geom_boxplot() +\n",
    "                            labs(x = \"Cats\", y = \"Shelter Period in Days\", \n",
    "                                 title = \"Time Cats spent in Shelter Before Adoption\")"
   ]
  },
  {
   "cell_type": "code",
   "execution_count": 13,
   "id": "8656aeff",
   "metadata": {
    "scrolled": true,
    "tags": []
   },
   "outputs": [
    {
     "name": "stderr",
     "output_type": "stream",
     "text": [
      "Warning message:\n",
      "“Removed 3 rows containing non-finite values (stat_boxplot).”\n",
      "Warning message:\n",
      "“Removed 2 rows containing non-finite values (stat_boxplot).”\n"
     ]
    },
    {
     "data": {
      "image/png": "[encoded data removed]",
      "text/plain": [
       "plot without title"
      ]
     },
     "metadata": {
      "image/png": {
       "height": 420,
       "width": 1200
      }
     },
     "output_type": "display_data"
    }
   ],
   "source": [
    "options(repr.plot.width = 20)\n",
    "\n",
    "#Plotting Cat and Dog Boxplots side by side\n",
    "proportion_plot_row <- plot_grid(dog_sample_200_boxplot +\n",
    "                                 scale_y_continuous(limits = c(-50, 800)),\n",
    "                                 cat_sample_200_boxplot +\n",
    "                                 scale_y_continuous(limits = c(-50, 800)),\n",
    "                                 ncol = 2)\n",
    "\n",
    "title <- ggdraw() + \n",
    "  draw_label(\"Comparison of Dog and Cat Sample Boxplot Distributions\",\n",
    "             fontface = 'bold',\n",
    "             x = 0,\n",
    "             hjust = 0) +\n",
    "  theme(plot.margin = margin(0, 0, 0, 7))\n",
    "\n",
    "medians_grid <- plot_grid(title,\n",
    "                        proportion_plot_row,\n",
    "                        ncol = 1,\n",
    "                        rel_heights = c(0.1, 1))\n",
    "\n",
    "#Some points will not be plotted, in order to make comparison clearer\n",
    "medians_grid"
   ]
  },
  {
   "cell_type": "markdown",
   "id": "07caa351-f988-491b-be12-b7adb8218ba6",
   "metadata": {},
   "source": [
    "| _Figure 2: Comparing the Boxplot Distributions of Time spent in Shelter for **Dogs** and **Cats**_|\n",
    "| ------------------------ |\n",
    "||"
   ]
  },
  {
   "cell_type": "markdown",
   "id": "5be6e290",
   "metadata": {},
   "source": [
    "Figure 2 shows that our data is heavily skewed to the right. As such, population parameters like the mean and standard deviation will be heavily affected unless outliers are eliminated. As a result, we will first look at median instead of mean. Below we calculate the median of the cat and dog samples and summarize the point estimates calculated in a table."
   ]
  },
  {
   "cell_type": "code",
   "execution_count": 14,
   "id": "96c70bfa",
   "metadata": {},
   "outputs": [
    {
     "data": {
      "text/html": [
       "'Dog median for 200 samples: 10.00'"
      ],
      "text/latex": [
       "'Dog median for 200 samples: 10.00'"
      ],
      "text/markdown": [
       "'Dog median for 200 samples: 10.00'"
      ],
      "text/plain": [
       "[1] \"Dog median for 200 samples: 10.00\""
      ]
     },
     "metadata": {},
     "output_type": "display_data"
    },
    {
     "data": {
      "text/html": [
       "'Cat median for 200 samples: 33.50'"
      ],
      "text/latex": [
       "'Cat median for 200 samples: 33.50'"
      ],
      "text/markdown": [
       "'Cat median for 200 samples: 33.50'"
      ],
      "text/plain": [
       "[1] \"Cat median for 200 samples: 33.50\""
      ]
     },
     "metadata": {},
     "output_type": "display_data"
    },
    {
     "data": {
      "text/html": [
       "-23.5"
      ],
      "text/latex": [
       "-23.5"
      ],
      "text/markdown": [
       "-23.5"
      ],
      "text/plain": [
       "[1] -23.5"
      ]
     },
     "metadata": {},
     "output_type": "display_data"
    },
    {
     "data": {
      "text/html": [
       "'The difference in the dog and cat medians is: -23.50'"
      ],
      "text/latex": [
       "'The difference in the dog and cat medians is: -23.50'"
      ],
      "text/markdown": [
       "'The difference in the dog and cat medians is: -23.50'"
      ],
      "text/plain": [
       "[1] \"The difference in the dog and cat medians is: -23.50\""
      ]
     },
     "metadata": {},
     "output_type": "display_data"
    }
   ],
   "source": [
    "#Dog: Sample median calculated\n",
    "sample_dog_median <- dog_sample_200 %>%\n",
    "    summarize(med = median(Shelter_Period)) %>%\n",
    "    pull()\n",
    "\n",
    "sprintf(\"Dog median for 200 samples: %.2f\", sample_dog_median)\n",
    "\n",
    "#Cat: Sample median calculated\n",
    "sample_cat_median <- cat_sample_200 %>%\n",
    "    summarize(med = median(Shelter_Period)) %>%\n",
    "    pull()\n",
    "\n",
    "sprintf(\"Cat median for 200 samples: %.2f\", sample_cat_median)\n",
    "\n",
    "difference_in_median <- sample_dog_median - sample_cat_median\n",
    "\n",
    "#Difference in medians\n",
    "difference_in_median\n",
    "sprintf(\"The difference in the dog and cat medians is: %.2f\", difference_in_median)"
   ]
  },
  {
   "cell_type": "markdown",
   "id": "4e3f7fba-b242-4c0c-a3c8-9df7d01889da",
   "metadata": {},
   "source": [
    "|  Point Estimates        |    Dogs   |   Cats    | Difference in Point Estimates (If Applicable)|\n",
    "| -------- | --------- | --------- | --------- |\n",
    "| IQR (days)      |  36.00 | 52.25 | N/A |\n",
    "| Median (days)   | 10.00 | 33.50| -23.5|"
   ]
  },
  {
   "cell_type": "markdown",
   "id": "7e66e0e1-e6e7-4ef0-b8c3-35eae2fb615e",
   "metadata": {},
   "source": [
    "| _Table 2: Point Estimates of Population Parameters_ |\n",
    "| ------------------------ |\n",
    "||"
   ]
  },
  {
   "cell_type": "markdown",
   "id": "b96eca33",
   "metadata": {},
   "source": [
    "Table 2 shows that contrary to research done in Malaysia, the average time it takes for a dog to get adopted is faster than the time it takes for a cat by 23.5 days. Our preliminary testing of the point estimates would suggest that the average time dogs and cats take to get adopted is different. However, we will need to conduct hypothesis testing to ensure this fact. "
   ]
  },
  {
   "cell_type": "markdown",
   "id": "c523eb67-67cb-4a7e-bc06-a765101a7ab8",
   "metadata": {
    "tags": []
   },
   "source": [
    "## _Hypothesis Testing:_\n",
    "\n",
    "- We want to compare the median of time spent at the center for both dogs and cats. In order to achieve this, we want to test the null hypothesis $H_0$ against our alternative hypothesis $H_1$. We cannot use asymptotics to find the median, so for our hypothesis testing, we will use bootstrapping.\n",
    "\n",
    "The 2 sample medians are defined below:\n",
    "\n",
    "$m_0$ = median adoption time of dogs\n",
    "\n",
    "$m_1$ = median adoption time of cats\n",
    "\n",
    "Using the metric, we define our hypotheses:\n",
    "\n",
    "**Null Hypothesis: The median adoption time for cats and dogs is the same**\n",
    "- **$H_0$: $m_0$ - $m_1$ = 0**\n",
    "\n",
    "**Alternative Hypothesis: The median adoption time for cats and dogs is different**\n",
    "- **$H_1$: $m_0$ - $m_1$ ≠ 0**\n",
    "\n",
    "We plan to use a a significance level of 0.05 (5%) for our hypothesis testing."
   ]
  },
  {
   "cell_type": "markdown",
   "id": "f8848a21-e14b-4255-b6bc-aa2058533df6",
   "metadata": {},
   "source": [
    "**Observed Test Statistic:** first, we find the observed test statistic which is the median adoption time of dogs subtracted by the median adoption time of cats. We do this by first combining our cat and dog samples into a single larger animal sample."
   ]
  },
  {
   "cell_type": "code",
   "execution_count": 18,
   "id": "b79ecd73-e71d-41d3-a266-61a5695981d6",
   "metadata": {},
   "outputs": [
    {
     "data": {
      "text/html": [
       "-23.5"
      ],
      "text/latex": [
       "-23.5"
      ],
      "text/markdown": [
       "-23.5"
      ],
      "text/plain": [
       "[1] -23.5"
      ]
     },
     "metadata": {},
     "output_type": "display_data"
    }
   ],
   "source": [
    "# Dog&Cat: Combine the two sample\n",
    "animal_sample <- rbind(cat_sample_200, dog_sample_200)\n",
    "\n",
    "# observed difference in period median\n",
    "\n",
    "obs_diff_median <- animal_sample %>%\n",
    "    specify(Shelter_Period ~ Animal_Type) %>%\n",
    "    calculate(stat = \"diff in medians\", order = c(\"Dog\",\"Cat\")) %>%\n",
    "    pull()\n",
    "\n",
    "obs_diff_median"
   ]
  },
  {
   "cell_type": "markdown",
   "id": "443590a3-a2f3-4afb-9259-a02e5abcdf40",
   "metadata": {},
   "source": [
    "Now that we have our test statistic, we can move on to creating a null distribution based on our null hypothesis.\n",
    "\n",
    "**Bootstrap Sampling Distribution for Null Hypothesis:**"
   ]
  },
  {
   "cell_type": "code",
   "execution_count": 19,
   "id": "e613bf21-7525-4a9e-aea0-e856a0e8fc07",
   "metadata": {},
   "outputs": [
    {
     "data": {
      "text/html": [
       "<table class=\"dataframe\">\n",
       "<caption>A infer: 6 × 2</caption>\n",
       "<thead>\n",
       "\t<tr><th scope=col>replicate</th><th scope=col>stat</th></tr>\n",
       "\t<tr><th scope=col>&lt;int&gt;</th><th scope=col>&lt;dbl&gt;</th></tr>\n",
       "</thead>\n",
       "<tbody>\n",
       "\t<tr><td>1</td><td> 2.5</td></tr>\n",
       "\t<tr><td>2</td><td> 1.0</td></tr>\n",
       "\t<tr><td>3</td><td> 8.5</td></tr>\n",
       "\t<tr><td>4</td><td>-0.5</td></tr>\n",
       "\t<tr><td>5</td><td> 1.0</td></tr>\n",
       "\t<tr><td>6</td><td> 1.0</td></tr>\n",
       "</tbody>\n",
       "</table>\n"
      ],
      "text/latex": [
       "A infer: 6 × 2\n",
       "\\begin{tabular}{ll}\n",
       " replicate & stat\\\\\n",
       " <int> & <dbl>\\\\\n",
       "\\hline\n",
       "\t 1 &  2.5\\\\\n",
       "\t 2 &  1.0\\\\\n",
       "\t 3 &  8.5\\\\\n",
       "\t 4 & -0.5\\\\\n",
       "\t 5 &  1.0\\\\\n",
       "\t 6 &  1.0\\\\\n",
       "\\end{tabular}\n"
      ],
      "text/markdown": [
       "\n",
       "A infer: 6 × 2\n",
       "\n",
       "| replicate &lt;int&gt; | stat &lt;dbl&gt; |\n",
       "|---|---|\n",
       "| 1 |  2.5 |\n",
       "| 2 |  1.0 |\n",
       "| 3 |  8.5 |\n",
       "| 4 | -0.5 |\n",
       "| 5 |  1.0 |\n",
       "| 6 |  1.0 |\n",
       "\n"
      ],
      "text/plain": [
       "  replicate stat\n",
       "1 1          2.5\n",
       "2 2          1.0\n",
       "3 3          8.5\n",
       "4 4         -0.5\n",
       "5 5          1.0\n",
       "6 6          1.0"
      ]
     },
     "metadata": {},
     "output_type": "display_data"
    }
   ],
   "source": [
    "# Hypothesis Testing\n",
    "set.seed(310)\n",
    "options(repr.plot.width = 10)\n",
    "\n",
    "# Dog&Cat: Compute resulting 10000 replicates of median\n",
    "null_distribution <- animal_sample %>%\n",
    "    specify(formula = Shelter_Period ~ Animal_Type) %>%\n",
    "    hypothesize(null = \"independence\") %>%\n",
    "    generate(reps = 10000, type = \"permute\") %>%\n",
    "    calculate(stat = \"diff in medians\", order = c(\"Dog\",\"Cat\"))\n",
    "\n",
    "head(null_distribution)"
   ]
  },
  {
   "cell_type": "markdown",
   "id": "fe62ff83-292e-4b94-aa6e-2ae00ca0c15b",
   "metadata": {},
   "source": [
    "**_Table 3: Null Distribution Data (First 6 rows)_**"
   ]
  },
  {
   "cell_type": "code",
   "execution_count": 20,
   "id": "9921243a-bd30-487a-ac1d-828b0c6d7ac6",
   "metadata": {},
   "outputs": [
    {
     "data": {
      "image/png": "[encoded data removed]",
      "text/plain": [
       "plot without title"
      ]
     },
     "metadata": {
      "image/png": {
       "height": 420,
       "width": 600
      }
     },
     "output_type": "display_data"
    }
   ],
   "source": [
    "# Null Distribution with P Value visualization \n",
    "null_model <- null_distribution %>%\n",
    "    visualize(bins = 20) +\n",
    "    shade_p_value(obs_stat = obs_diff_median, direction = \"both\")\n",
    "null_model"
   ]
  },
  {
   "cell_type": "markdown",
   "id": "3cf349f2-9c9c-4f87-bf6b-5ef81e35a041",
   "metadata": {},
   "source": [
    "**_Figure 3: Null Distribution_**"
   ]
  },
  {
   "cell_type": "markdown",
   "id": "c3a227e2",
   "metadata": {},
   "source": [
    "As Figure 3 shows, our observed test statistic is extremely unlikely to happen under the conditions of the null model where the median adoption time for cats and dogs is the same. The exact p value is calculated below."
   ]
  },
  {
   "cell_type": "markdown",
   "id": "772a0e2e-6dc2-401d-9c41-72b04aa4fcfe",
   "metadata": {},
   "source": [
    "**P_value:**"
   ]
  },
  {
   "cell_type": "code",
   "execution_count": 21,
   "id": "7e7cf63c-9446-40a8-b5f0-b2fc8d4ffb85",
   "metadata": {},
   "outputs": [
    {
     "name": "stderr",
     "output_type": "stream",
     "text": [
      "Warning message:\n",
      "“Please be cautious in reporting a p-value of 0. This result is an approximation based on the number of `reps` chosen in the `generate()` step. See `?get_p_value()` for more information.”\n"
     ]
    },
    {
     "data": {
      "text/html": [
       "<table class=\"dataframe\">\n",
       "<caption>A tibble: 1 × 1</caption>\n",
       "<thead>\n",
       "\t<tr><th scope=col>p_value</th></tr>\n",
       "\t<tr><th scope=col>&lt;dbl&gt;</th></tr>\n",
       "</thead>\n",
       "<tbody>\n",
       "\t<tr><td>0</td></tr>\n",
       "</tbody>\n",
       "</table>\n"
      ],
      "text/latex": [
       "A tibble: 1 × 1\n",
       "\\begin{tabular}{l}\n",
       " p\\_value\\\\\n",
       " <dbl>\\\\\n",
       "\\hline\n",
       "\t 0\\\\\n",
       "\\end{tabular}\n"
      ],
      "text/markdown": [
       "\n",
       "A tibble: 1 × 1\n",
       "\n",
       "| p_value &lt;dbl&gt; |\n",
       "|---|\n",
       "| 0 |\n",
       "\n"
      ],
      "text/plain": [
       "  p_value\n",
       "1 0      "
      ]
     },
     "metadata": {},
     "output_type": "display_data"
    }
   ],
   "source": [
    "null_distribution_p <- null_distribution %>%\n",
    "    get_p_value(obs_stat = obs_diff_median, direction = \"both\")  \n",
    "null_distribution_p"
   ]
  },
  {
   "cell_type": "markdown",
   "id": "be1b89d5-8268-4c0d-a35e-a09adf89eedc",
   "metadata": {},
   "source": [
    "**_Table 4: P-Value_**"
   ]
  },
  {
   "cell_type": "markdown",
   "id": "77adf464-58f0-46fa-86dc-60ae6d7d62b7",
   "metadata": {},
   "source": [
    "Despite the calculated p-value being 0, it is not good practice to report the p-value as such because it would be suggesting that making a Type I error is impossible which is too bold a claim to make. Instead, based on the fact that we conducted 10,000 repetitions, we suggest that our p-value is 0.0001. The p-value is much lower than our significance level of 5%. Therefore, we can confidently reject our null hypothesis, and say that our data indeed shows that dogs and cats have significantly different adoption times with dogs getting adopted faster."
   ]
  },
  {
   "cell_type": "markdown",
   "id": "0332597b-21ea-4ca9-92bb-0431320a0fe5",
   "metadata": {
    "tags": []
   },
   "source": [
    "## Confidence Intervals\n",
    "Now that our hypothesis test has confirmed that our findings are significant, we conduct confidence interval calculations to find the range a values where we are relatively confident the true difference in average adoption time may lie. We look at the confidence interval of the difference in medians. Then, we will look at the confidence interval for the difference in means, taking out the outliers, and compare the two CIs. \n",
    "\n",
    "### _CI for Difference in Medians_\n",
    "First, we find the 95% confidence interval for our medians where reps = 10,000. We use the animal sample created during the hypothesis testing step. "
   ]
  },
  {
   "cell_type": "code",
   "execution_count": 22,
   "id": "49fd37c9-74e5-459c-82d0-1dcd57388a0a",
   "metadata": {},
   "outputs": [
    {
     "data": {
      "text/html": [
       "<table class=\"dataframe\">\n",
       "<caption>A tibble: 1 × 2</caption>\n",
       "<thead>\n",
       "\t<tr><th scope=col>lower_ci</th><th scope=col>upper_ci</th></tr>\n",
       "\t<tr><th scope=col>&lt;dbl&gt;</th><th scope=col>&lt;dbl&gt;</th></tr>\n",
       "</thead>\n",
       "<tbody>\n",
       "\t<tr><td>-30</td><td>-14</td></tr>\n",
       "</tbody>\n",
       "</table>\n"
      ],
      "text/latex": [
       "A tibble: 1 × 2\n",
       "\\begin{tabular}{ll}\n",
       " lower\\_ci & upper\\_ci\\\\\n",
       " <dbl> & <dbl>\\\\\n",
       "\\hline\n",
       "\t -30 & -14\\\\\n",
       "\\end{tabular}\n"
      ],
      "text/markdown": [
       "\n",
       "A tibble: 1 × 2\n",
       "\n",
       "| lower_ci &lt;dbl&gt; | upper_ci &lt;dbl&gt; |\n",
       "|---|---|\n",
       "| -30 | -14 |\n",
       "\n"
      ],
      "text/plain": [
       "  lower_ci upper_ci\n",
       "1 -30      -14     "
      ]
     },
     "metadata": {},
     "output_type": "display_data"
    },
    {
     "data": {
      "text/html": [
       "'Difference in median Confidence Interval: -30 to -14'"
      ],
      "text/latex": [
       "'Difference in median Confidence Interval: -30 to -14'"
      ],
      "text/markdown": [
       "'Difference in median Confidence Interval: -30 to -14'"
      ],
      "text/plain": [
       "[1] \"Difference in median Confidence Interval: -30 to -14\""
      ]
     },
     "metadata": {},
     "output_type": "display_data"
    }
   ],
   "source": [
    "# Difference in Median Bootstrap Sampling Distribution + Confidence Intervals (1000 repetition, 200 samples)\n",
    "options(repr.plot.width = 10)\n",
    "set.seed(310)\n",
    "\n",
    "# Dog and Cat Confidence Interval for Median: repetition 10,000\n",
    "bootstrap <- animal_sample %>%\n",
    "    specify(formula = Shelter_Period ~ Animal_Type) %>%\n",
    "    generate(reps = 10000, type = \"bootstrap\") %>%\n",
    "    calculate(stat = \"diff in medians\", order = c(\"Dog\",\"Cat\"))\n",
    "\n",
    "#Find the Confidence Interval\n",
    "bootstrap_ci <- bootstrap %>%\n",
    "    get_confidence_interval(level = 0.95, type = \"percentile\")\n",
    "\n",
    "bootstrap_ci\n",
    "sprintf(\"Difference in median Confidence Interval: %s to %s\", bootstrap_ci$lower_ci, bootstrap_ci$upper_ci)"
   ]
  },
  {
   "cell_type": "markdown",
   "id": "d9df1198-e2d3-44ce-b8b0-706676924c1a",
   "metadata": {},
   "source": [
    "**_Table 5: Confidence Interval For Difference in Median_**"
   ]
  },
  {
   "cell_type": "code",
   "execution_count": 23,
   "id": "fb4a605e-8c69-442f-bded-1ae648d0f640",
   "metadata": {},
   "outputs": [],
   "source": [
    "bootstrap_distribution <- bootstrap %>%\n",
    "    visualize(bins = 20) +\n",
    "    annotate(\"rect\", xmin = bootstrap_ci$lower_ci, xmax = bootstrap_ci$upper_ci, ymin = 0, ymax = Inf,\n",
    "             fill = \"deepskyblue\",\n",
    "             alpha = 0.3) +\n",
    "    geom_vline(xintercept = obs_diff_median, size = 1, color = \"red\") +\n",
    "    labs(x = \"Difference in Median Time Animal Spends at Shelter\", title = \"Bootstrap Distribution of Difference in Median\")\n"
   ]
  },
  {
   "cell_type": "markdown",
   "id": "84e8370f-bcb6-4127-ba36-8bf256b043ca",
   "metadata": {},
   "source": [
    "Using the confidence interval we have just found, we plot its bootstrap distribution and the median of the distribtuion. "
   ]
  },
  {
   "cell_type": "code",
   "execution_count": 24,
   "id": "f585d82b-14b3-459d-90c6-16b92c4d3fea",
   "metadata": {},
   "outputs": [
    {
     "data": {
      "image/png": "[encoded data removed]",
      "text/plain": [
       "plot without title"
      ]
     },
     "metadata": {
      "image/png": {
       "height": 420,
       "width": 1200
      }
     },
     "output_type": "display_data"
    }
   ],
   "source": [
    "options(repr.plot.width = 20)\n",
    "\n",
    "proportion_plot_row <- plot_grid(bootstrap_distribution +\n",
    "                                 scale_x_continuous(limits = c(NA, NA)),\n",
    "                                 ncol = 2)\n",
    "\n",
    "title <- ggdraw() + \n",
    "  draw_label(\"Bootstrap Distribution\",\n",
    "             fontface = 'bold',\n",
    "             x = 0,\n",
    "             hjust = 0) +\n",
    "  theme(plot.margin = margin(0, 0, 0, 7))\n",
    "\n",
    "medians_grid <- plot_grid(title,\n",
    "                        proportion_plot_row,\n",
    "                        ncol = 1,\n",
    "                        rel_heights = c(0.1, 1))\n",
    "\n",
    "medians_grid"
   ]
  },
  {
   "cell_type": "markdown",
   "id": "6b3ea406-e81b-4890-a532-2f4eb53dab9b",
   "metadata": {},
   "source": [
    "**_Figure 4: Bootstrap Distribution plotted with CI for Difference in Median_**"
   ]
  },
  {
   "cell_type": "markdown",
   "id": "20cf17a0-e290-4356-bbc7-36e716d4606b",
   "metadata": {},
   "source": [
    "As shown by the graph and confidence interval, we can say with 95% confidence that the true difference in median shelter period for a dog and cat is [-30, -14]. This means that we are 95% confidence that dogs are adopted faster than cats within a range of 14 to 30 days which is a rather substantial difference. Now, we will compare this result to the CI for the mean."
   ]
  },
  {
   "cell_type": "markdown",
   "id": "b74fb3a1-fb8b-46bf-b374-e621a07b4689",
   "metadata": {},
   "source": [
    "### _CI for Difference in Means_"
   ]
  },
  {
   "cell_type": "markdown",
   "id": "dc9892eb-e149-4cc7-ab48-04057dbba2d5",
   "metadata": {},
   "source": [
    "As we mentioned in our exploratory analysis, our two samples were heavily right skewed and contained many outliers. Thus, the mean of our cat and dog samples are heavily influenced by these outliers, so their values would not be the most useful measure of average. However, we still want to investigate the mean of the sample, especially in relation to median. Therefore, we first eliminate the presence of outliers, and then find the confidence intervals for the mean for the purposes of comparing the confidence intervals using the two different measures of average. In order to maintain consistency, we also use bootstrapping to construct the confidence intervals for the difference in means."
   ]
  },
  {
   "cell_type": "markdown",
   "id": "b35e21fd-948e-47ea-a9ff-d447f9c8b99d",
   "metadata": {},
   "source": [
    "We first delete the outliers present in both the dogs and cats dataset."
   ]
  },
  {
   "cell_type": "code",
   "execution_count": 25,
   "id": "cbf2c743-8c69-4386-ba7e-9bf20f593bd6",
   "metadata": {},
   "outputs": [
    {
     "data": {
      "text/html": [
       "<table class=\"dataframe\">\n",
       "<caption>A grouped_df: 6 × 3</caption>\n",
       "<thead>\n",
       "\t<tr><th scope=col>replicate</th><th scope=col>Animal_Type</th><th scope=col>Shelter_Period</th></tr>\n",
       "\t<tr><th scope=col>&lt;int&gt;</th><th scope=col>&lt;chr&gt;</th><th scope=col>&lt;dbl&gt;</th></tr>\n",
       "</thead>\n",
       "<tbody>\n",
       "\t<tr><td>1</td><td>Dog</td><td>10</td></tr>\n",
       "\t<tr><td>1</td><td>Dog</td><td>35</td></tr>\n",
       "\t<tr><td>1</td><td>Dog</td><td>31</td></tr>\n",
       "\t<tr><td>1</td><td>Dog</td><td> 2</td></tr>\n",
       "\t<tr><td>1</td><td>Dog</td><td>10</td></tr>\n",
       "\t<tr><td>1</td><td>Dog</td><td>51</td></tr>\n",
       "</tbody>\n",
       "</table>\n"
      ],
      "text/latex": [
       "A grouped\\_df: 6 × 3\n",
       "\\begin{tabular}{lll}\n",
       " replicate & Animal\\_Type & Shelter\\_Period\\\\\n",
       " <int> & <chr> & <dbl>\\\\\n",
       "\\hline\n",
       "\t 1 & Dog & 10\\\\\n",
       "\t 1 & Dog & 35\\\\\n",
       "\t 1 & Dog & 31\\\\\n",
       "\t 1 & Dog &  2\\\\\n",
       "\t 1 & Dog & 10\\\\\n",
       "\t 1 & Dog & 51\\\\\n",
       "\\end{tabular}\n"
      ],
      "text/markdown": [
       "\n",
       "A grouped_df: 6 × 3\n",
       "\n",
       "| replicate &lt;int&gt; | Animal_Type &lt;chr&gt; | Shelter_Period &lt;dbl&gt; |\n",
       "|---|---|---|\n",
       "| 1 | Dog | 10 |\n",
       "| 1 | Dog | 35 |\n",
       "| 1 | Dog | 31 |\n",
       "| 1 | Dog |  2 |\n",
       "| 1 | Dog | 10 |\n",
       "| 1 | Dog | 51 |\n",
       "\n"
      ],
      "text/plain": [
       "  replicate Animal_Type Shelter_Period\n",
       "1 1         Dog         10            \n",
       "2 1         Dog         35            \n",
       "3 1         Dog         31            \n",
       "4 1         Dog          2            \n",
       "5 1         Dog         10            \n",
       "6 1         Dog         51            "
      ]
     },
     "metadata": {},
     "output_type": "display_data"
    }
   ],
   "source": [
    "# Q1 = 5.00 \n",
    "# Q3 = 41.00\n",
    "# IQR = 36.00\n",
    "# outliers are > Q3 + 1.5IQR (upper fence) \n",
    "# below (<) Q1 - 1.5IQR (lower fence)\n",
    "\n",
    "dog_filtered_outliers <- dog_sample_200 %>%\n",
    "        filter(Shelter_Period < (41 + 1.5*36) & Shelter_Period > (5 - 1.5*36))\n",
    "\n",
    "head(dog_filtered_outliers)"
   ]
  },
  {
   "cell_type": "markdown",
   "id": "846f2865-efe1-4221-ae7d-e05360c972e7",
   "metadata": {},
   "source": [
    "**_Table 6: Preview of Dog Sample without Outliers_**"
   ]
  },
  {
   "cell_type": "code",
   "execution_count": 26,
   "id": "a50f9502-8a66-4786-8eba-c18434dd24dd",
   "metadata": {},
   "outputs": [
    {
     "data": {
      "text/html": [
       "<table class=\"dataframe\">\n",
       "<caption>A grouped_df: 6 × 3</caption>\n",
       "<thead>\n",
       "\t<tr><th scope=col>replicate</th><th scope=col>Animal_Type</th><th scope=col>Shelter_Period</th></tr>\n",
       "\t<tr><th scope=col>&lt;int&gt;</th><th scope=col>&lt;chr&gt;</th><th scope=col>&lt;dbl&gt;</th></tr>\n",
       "</thead>\n",
       "<tbody>\n",
       "\t<tr><td>1</td><td>Cat</td><td>66</td></tr>\n",
       "\t<tr><td>1</td><td>Cat</td><td>43</td></tr>\n",
       "\t<tr><td>1</td><td>Cat</td><td> 6</td></tr>\n",
       "\t<tr><td>1</td><td>Cat</td><td>48</td></tr>\n",
       "\t<tr><td>1</td><td>Cat</td><td>40</td></tr>\n",
       "\t<tr><td>1</td><td>Cat</td><td> 1</td></tr>\n",
       "</tbody>\n",
       "</table>\n"
      ],
      "text/latex": [
       "A grouped\\_df: 6 × 3\n",
       "\\begin{tabular}{lll}\n",
       " replicate & Animal\\_Type & Shelter\\_Period\\\\\n",
       " <int> & <chr> & <dbl>\\\\\n",
       "\\hline\n",
       "\t 1 & Cat & 66\\\\\n",
       "\t 1 & Cat & 43\\\\\n",
       "\t 1 & Cat &  6\\\\\n",
       "\t 1 & Cat & 48\\\\\n",
       "\t 1 & Cat & 40\\\\\n",
       "\t 1 & Cat &  1\\\\\n",
       "\\end{tabular}\n"
      ],
      "text/markdown": [
       "\n",
       "A grouped_df: 6 × 3\n",
       "\n",
       "| replicate &lt;int&gt; | Animal_Type &lt;chr&gt; | Shelter_Period &lt;dbl&gt; |\n",
       "|---|---|---|\n",
       "| 1 | Cat | 66 |\n",
       "| 1 | Cat | 43 |\n",
       "| 1 | Cat |  6 |\n",
       "| 1 | Cat | 48 |\n",
       "| 1 | Cat | 40 |\n",
       "| 1 | Cat |  1 |\n",
       "\n"
      ],
      "text/plain": [
       "  replicate Animal_Type Shelter_Period\n",
       "1 1         Cat         66            \n",
       "2 1         Cat         43            \n",
       "3 1         Cat          6            \n",
       "4 1         Cat         48            \n",
       "5 1         Cat         40            \n",
       "6 1         Cat          1            "
      ]
     },
     "metadata": {},
     "output_type": "display_data"
    }
   ],
   "source": [
    "# Q1 = 8.75\n",
    "# Q3 = 61.00\n",
    "# IQR = 52.25\n",
    "# outliers are > Q3 + 1.5IQR (upper fence) \n",
    "# below (<) Q1 - 1.5IQR (lower fence)\n",
    "\n",
    "cat_filtered_outliers <- cat_sample_200 %>%\n",
    "        filter(Shelter_Period < (61 + 1.5*52.25) & Shelter_Period > (8.75 - 1.5*52.25))\n",
    "\n",
    "\n",
    "head(cat_filtered_outliers)"
   ]
  },
  {
   "cell_type": "markdown",
   "id": "89643e03-a501-4abe-a543-70f70eeeb5ec",
   "metadata": {},
   "source": [
    "**_Table 7: Preview of Cat Sample without Outliers_**"
   ]
  },
  {
   "cell_type": "markdown",
   "id": "d9e53fe8-88e6-46f9-becf-24769c310d6d",
   "metadata": {},
   "source": [
    "Using these samples, we create corresponding boxplots to look at the new spread of data."
   ]
  },
  {
   "cell_type": "code",
   "execution_count": 27,
   "id": "dbf33e59-9d80-4db6-a8f6-a0f9b5a2c738",
   "metadata": {},
   "outputs": [],
   "source": [
    "options(repr.plot.width = 10)\n",
    "\n",
    "#Dog sample boxplot without outliers\n",
    "boxplot_no_outliers_dogs <- dog_filtered_outliers %>%\n",
    "                            ggplot(aes(x = Animal_Type, y = Shelter_Period)) +\n",
    "                            geom_boxplot() +\n",
    "                            labs(x = \"Dogs\", y = \"Shelter Period in Days\", \n",
    "                                 title = \"Time Dogs spent (Without original outliers)\")\n",
    "\n",
    "#Cat sample boxplot without outliers\n",
    "boxplot_no_outliers_cats <- cat_filtered_outliers %>%\n",
    "                            ggplot(aes(x = Animal_Type, y = Shelter_Period)) +\n",
    "                            geom_boxplot() +\n",
    "                            labs(x = \"Cats\", y = \"Shelter Period in Days\", \n",
    "                                 title = \"Time Cats spent (Without original outliers)\")"
   ]
  },
  {
   "cell_type": "code",
   "execution_count": 28,
   "id": "9479378c",
   "metadata": {},
   "outputs": [
    {
     "data": {
      "image/png": "[encoded data removed]",
      "text/plain": [
       "plot without title"
      ]
     },
     "metadata": {
      "image/png": {
       "height": 420,
       "width": 1200
      }
     },
     "output_type": "display_data"
    }
   ],
   "source": [
    "options(repr.plot.width = 20)\n",
    "\n",
    "# Replotting Cat and Dog Boxplots side by side\n",
    "proportion_plot_row <- plot_grid(boxplot_no_outliers_dogs +\n",
    "                                 scale_y_continuous(limits = c(0, 150)),\n",
    "                                 boxplot_no_outliers_cats +\n",
    "                                 scale_y_continuous(limits = c(0, 150)),\n",
    "                                 ncol = 2)\n",
    "\n",
    "title <- ggdraw() + \n",
    "  draw_label(\"Comparison of Dog and Cat NEW Boxplot Distributions\",\n",
    "             fontface = 'bold',\n",
    "             x = 0,\n",
    "             hjust = 0) +\n",
    "  theme(plot.margin = margin(0, 0, 0, 7))\n",
    "\n",
    "medians_grid <- plot_grid(title,\n",
    "                        proportion_plot_row,\n",
    "                        ncol = 1,\n",
    "                        rel_heights = c(0.1, 1))\n",
    "\n",
    "#Some points will not be plotted, in order to make comparison clearer\n",
    "medians_grid"
   ]
  },
  {
   "cell_type": "markdown",
   "id": "91d1512f-b187-48be-a183-29009d928f9a",
   "metadata": {},
   "source": [
    "| _Figure 5: Boxplot Distributions of Samples without Outliers_ |\n",
    "| ------------------------ |\n",
    "||"
   ]
  },
  {
   "cell_type": "markdown",
   "id": "8e33d9ae",
   "metadata": {},
   "source": [
    "While the data is still right skewed, the most extreme values are gone, leading to larger IQRs in relation to the data outside the IQR. The cat and dog samples with outliers look as follows:"
   ]
  },
  {
   "cell_type": "code",
   "execution_count": 29,
   "id": "97023807-0885-4071-a2f8-a486d6295235",
   "metadata": {},
   "outputs": [],
   "source": [
    "options(repr.plot.width = 10)\n",
    "\n",
    "histogram_no_outliers_dogs <- dog_filtered_outliers %>%\n",
    "                            ggplot(aes(x = Shelter_Period)) +\n",
    "                            geom_histogram(binwidth = 5) +\n",
    "                            labs(x = \"Shelter Period in Days\", y = \"Dogs\",\n",
    "                                 title = \"Time Dogs spent (Without original outliers)\")\n",
    "\n",
    "histogram_no_outliers_cats <- cat_filtered_outliers %>%\n",
    "                            ggplot(aes(x = Shelter_Period)) +\n",
    "                            geom_histogram(binwidth = 5) +\n",
    "                            labs(x = \"Shelter Period in Days\", y = \"Cats\",\n",
    "                                 title = \"Time Cats spent (Without original outliers)\")"
   ]
  },
  {
   "cell_type": "code",
   "execution_count": 30,
   "id": "730ab2d5-6b20-4117-8a3a-d9eb697fbfb1",
   "metadata": {},
   "outputs": [
    {
     "name": "stderr",
     "output_type": "stream",
     "text": [
      "Warning message:\n",
      "“Removed 2 rows containing missing values (geom_bar).”\n",
      "Warning message:\n",
      "“Removed 2 rows containing missing values (geom_bar).”\n"
     ]
    },
    {
     "data": {
      "image/png": "[encoded data removed]",
      "text/plain": [
       "plot without title"
      ]
     },
     "metadata": {
      "image/png": {
       "height": 420,
       "width": 1200
      }
     },
     "output_type": "display_data"
    }
   ],
   "source": [
    "options(repr.plot.width = 20)\n",
    "\n",
    "# Replotting Cat and Dog new histograms side by side\n",
    "proportion_plot_row <- plot_grid(histogram_no_outliers_dogs +\n",
    "                                 scale_x_continuous(limits = c(0, 150)),\n",
    "                                 histogram_no_outliers_cats +\n",
    "                                 scale_x_continuous(limits = c(0, 150)),\n",
    "                                 ncol = 2)\n",
    "\n",
    "title <- ggdraw() + \n",
    "  draw_label(\"Comparison of Dog and Cat NEW Sample Distributions\",\n",
    "             fontface = 'bold',\n",
    "             x = 0,\n",
    "             hjust = 0) +\n",
    "  theme(plot.margin = margin(0, 0, 0, 7))\n",
    "\n",
    "medians_grid <- plot_grid(title,\n",
    "                        proportion_plot_row,\n",
    "                        ncol = 1,\n",
    "                        rel_heights = c(0.1, 1))\n",
    "\n",
    "#Some points will not be plotted, in order to make comparison clearer\n",
    "medians_grid"
   ]
  },
  {
   "cell_type": "markdown",
   "id": "74acba3e-0381-4d03-b337-b9acdbd9316e",
   "metadata": {},
   "source": [
    "| _Figure 6: Comparing the Distributions of Time spent in Shelter for Dogs and Cats without Outliers_ |\n",
    "| ------------------------ |\n",
    "||"
   ]
  },
  {
   "cell_type": "code",
   "execution_count": 31,
   "id": "345092b5-cb63-488f-9561-ca3e866e7b9b",
   "metadata": {},
   "outputs": [],
   "source": [
    "#Dog: mean calculated\n",
    "dog_mean <- dog_filtered_outliers %>%\n",
    "    summarize(mean = mean(Shelter_Period)) %>%\n",
    "    pull()\n",
    "\n",
    "#Cat: mean calculated\n",
    "cat_mean <- cat_filtered_outliers %>%\n",
    "    summarize(mean = mean(Shelter_Period)) %>%\n",
    "    pull()\n",
    "\n",
    "diff_in_mean <- dog_mean - cat_mean"
   ]
  },
  {
   "cell_type": "markdown",
   "id": "00f2ed3c-cd22-4026-bf33-381dfdd503d5",
   "metadata": {},
   "source": [
    "|        |    Dogs   |   Cats    | Diff in Point Estimates |\n",
    "| -------- | --------- | --------- |--------- |\n",
    "| Mean (days)   | 17.44 | 33.57 | -16.13 |\n",
    "| Median (days)   | 10.00 | 33.50| -23.5|"
   ]
  },
  {
   "cell_type": "markdown",
   "id": "78adc10c-99ec-47ed-a01e-d949f0841dd3",
   "metadata": {},
   "source": [
    "| _Table 8 : Point Estimates of Samples *Without* Outliers_ |\n",
    "| ------------------------ |\n",
    "||"
   ]
  },
  {
   "cell_type": "markdown",
   "id": "6f9206e3",
   "metadata": {},
   "source": [
    "These samples have reasonable ranges which is reflected in the similarity of the means to the medians, as the outliers have not heavily increased the mean. As such, we can determine useful information off the confidence intervals of the difference in means of these two samples."
   ]
  },
  {
   "cell_type": "markdown",
   "id": "899e9882-baec-4db3-8c47-48eb064605b8",
   "metadata": {},
   "source": [
    "A similar 95% confidence interval will be created for the difference in means in order to compare with the difference in medians."
   ]
  },
  {
   "cell_type": "code",
   "execution_count": 60,
   "id": "fa19edca-1ef1-406d-9e1a-669c7d0697ea",
   "metadata": {},
   "outputs": [
    {
     "name": "stderr",
     "output_type": "stream",
     "text": [
      "\u001b[1m\u001b[22mAdding missing grouping variables: `replicate`\n",
      "\u001b[1m\u001b[22mAdding missing grouping variables: `replicate`\n"
     ]
    },
    {
     "data": {
      "text/html": [
       "<table class=\"dataframe\">\n",
       "<caption>A tibble: 1 × 10</caption>\n",
       "<thead>\n",
       "\t<tr><th scope=col>estimate</th><th scope=col>estimate1</th><th scope=col>estimate2</th><th scope=col>statistic</th><th scope=col>p.value</th><th scope=col>parameter</th><th scope=col>conf.low</th><th scope=col>conf.high</th><th scope=col>method</th><th scope=col>alternative</th></tr>\n",
       "\t<tr><th scope=col>&lt;dbl&gt;</th><th scope=col>&lt;dbl&gt;</th><th scope=col>&lt;dbl&gt;</th><th scope=col>&lt;dbl&gt;</th><th scope=col>&lt;dbl&gt;</th><th scope=col>&lt;dbl&gt;</th><th scope=col>&lt;dbl&gt;</th><th scope=col>&lt;dbl&gt;</th><th scope=col>&lt;chr&gt;</th><th scope=col>&lt;chr&gt;</th></tr>\n",
       "</thead>\n",
       "<tbody>\n",
       "\t<tr><td>-16.13036</td><td>17.44186</td><td>33.57222</td><td>-5.972546</td><td>6.427538e-09</td><td>308.4291</td><td>-21.44459</td><td>-10.81613</td><td>Welch Two Sample t-test</td><td>two.sided</td></tr>\n",
       "</tbody>\n",
       "</table>\n"
      ],
      "text/latex": [
       "A tibble: 1 × 10\n",
       "\\begin{tabular}{llllllllll}\n",
       " estimate & estimate1 & estimate2 & statistic & p.value & parameter & conf.low & conf.high & method & alternative\\\\\n",
       " <dbl> & <dbl> & <dbl> & <dbl> & <dbl> & <dbl> & <dbl> & <dbl> & <chr> & <chr>\\\\\n",
       "\\hline\n",
       "\t -16.13036 & 17.44186 & 33.57222 & -5.972546 & 6.427538e-09 & 308.4291 & -21.44459 & -10.81613 & Welch Two Sample t-test & two.sided\\\\\n",
       "\\end{tabular}\n"
      ],
      "text/markdown": [
       "\n",
       "A tibble: 1 × 10\n",
       "\n",
       "| estimate &lt;dbl&gt; | estimate1 &lt;dbl&gt; | estimate2 &lt;dbl&gt; | statistic &lt;dbl&gt; | p.value &lt;dbl&gt; | parameter &lt;dbl&gt; | conf.low &lt;dbl&gt; | conf.high &lt;dbl&gt; | method &lt;chr&gt; | alternative &lt;chr&gt; |\n",
       "|---|---|---|---|---|---|---|---|---|---|\n",
       "| -16.13036 | 17.44186 | 33.57222 | -5.972546 | 6.427538e-09 | 308.4291 | -21.44459 | -10.81613 | Welch Two Sample t-test | two.sided |\n",
       "\n"
      ],
      "text/plain": [
       "  estimate  estimate1 estimate2 statistic p.value      parameter conf.low \n",
       "1 -16.13036 17.44186  33.57222  -5.972546 6.427538e-09 308.4291  -21.44459\n",
       "  conf.high method                  alternative\n",
       "1 -10.81613 Welch Two Sample t-test two.sided  "
      ]
     },
     "metadata": {},
     "output_type": "display_data"
    }
   ],
   "source": [
    "set.seed(310)\n",
    "# Asymptotic Method: \n",
    "# Comparing the Means of Two Independent Populations: two-sample t-test\n",
    "\n",
    "dogs <- dog_filtered_outliers %>%\n",
    "        filter(!is.na(Shelter_Period)) %>%\n",
    "        select(Shelter_Period) %>%\n",
    "        pull()\n",
    "\n",
    "cats <- cat_filtered_outliers %>%\n",
    "        filter(!is.na(Shelter_Period)) %>%\n",
    "        select(Shelter_Period) %>%\n",
    "        pull()\n",
    "\n",
    "test <-  tidy(t.test(x = dogs, \n",
    "                     y = cats,\n",
    "                     alternative = \"two.sided\",\n",
    "                     conf.level = 0.95))\n",
    "test"
   ]
  },
  {
   "cell_type": "markdown",
   "id": "569f5326-2ea1-4384-b7ef-ca33f990bbe1",
   "metadata": {},
   "source": [
    "|   Lower_CI   |   Upper_CI    | \n",
    "| --------- | --------- |\n",
    "| -21.44 | -10.82 | "
   ]
  },
  {
   "cell_type": "markdown",
   "id": "4086533b-21cb-4b8b-b933-27096ef0d0d0",
   "metadata": {},
   "source": [
    "| Table 9: Confidence Interval for Difference in Means |\n",
    "| --------- |"
   ]
  },
  {
   "cell_type": "markdown",
   "id": "794ca354-66cc-46ef-b33b-9122b06b7be9",
   "metadata": {},
   "source": [
    "As shown by the confidence interval, we can say with 95% confidence that the true difference in mean shelter period for a dog and cat is between [-21.44, -10.82] while the 95% confidence interval for the difference in medians is [-30, -14]. Interestingly, the CI for the difference in mean adoption times is smaller than the CI for the difference in medians. This suggests that despite the fact that the median is a measure less affected by outliers, it may have still been affected due to how skewed the data was which may have contributed to the wider confidence interval. Overall, both confidence intervals establish that dogs are indeed adopted faster than dogs, with the true value likely being above ten days faster regardless of the which interval you look at.\n",
    "\n"
   ]
  },
  {
   "cell_type": "markdown",
   "id": "baf2a999-a7c8-44d6-9868-ec56f78ed067",
   "metadata": {},
   "source": [
    "# **_Discussion_**"
   ]
  },
  {
   "cell_type": "markdown",
   "id": "b821d9c6-1a78-4af0-953c-2374091481fe",
   "metadata": {},
   "source": []
  },
  {
   "cell_type": "markdown",
   "id": "2f2d201a-adb5-476f-af76-0862e2e6d7f0",
   "metadata": {},
   "source": [
    "# **_References_**\n"
   ]
  },
  {
   "cell_type": "markdown",
   "id": "61a52f3a-5d6c-44cf-a6a6-9058e263689c",
   "metadata": {},
   "source": [
    "Daoud, J. (2021, March 4). Animal Shelter Analytics. Kaggle. https://www.kaggle.com/datasets/jackdaoud/animal-shelter-analytics\n",
    "\n",
    "AustinTexas.gov. (n.d.). Austin Animal Center. https://www.austintexas.gov/austin-animal-center\n",
    "\n",
    "Zhang, E. (2021, December 15). Predicting Adoption Speed for PetFinder - Towards Data Science. Medium. https://towardsdatascience.com/predicting-adoption-speed-for-petfinder-bb4d5befb78c\n",
    "\n",
    "Appleby, N. (2014, August 3). Dogs vs. cats states: See which pet Texas loves better and other stats. CultureMap Houston. https://houston.culturemap.com/news/city-life/08-03-14-dog-and-cat-states-see-which-pet-texas-loves-better-and-the-surprise-stats-for-the-other-49-states\n",
    "\n"
   ]
  },
  {
   "cell_type": "code",
   "execution_count": null,
   "id": "c6e70abc-1ee9-421d-b568-f29488fdef05",
   "metadata": {},
   "outputs": [],
   "source": []
  }
 ],
 "metadata": {
  "kernelspec": {
   "display_name": "R",
   "language": "R",
   "name": "ir"
  },
  "language_info": {
   "codemirror_mode": "r",
   "file_extension": ".r",
   "mimetype": "text/x-r-source",
   "name": "R",
   "pygments_lexer": "r",
   "version": "4.1.2"
  }
 },
 "nbformat": 4,
 "nbformat_minor": 5
}
